{
 "cells": [
  {
   "cell_type": "code",
   "execution_count": 1,
   "metadata": {
    "executionInfo": {
     "elapsed": 15,
     "status": "ok",
     "timestamp": 1692878804751,
     "user": {
      "displayName": "harriet musinguzi",
      "userId": "10586340658233206628"
     },
     "user_tz": 0
    },
    "id": "lEqVN7V7PBiB"
   },
   "outputs": [],
   "source": [
    "#!pip install numpy==1.21"
   ]
  },
  {
   "cell_type": "code",
   "execution_count": 2,
   "metadata": {
    "colab": {
     "base_uri": "https://localhost:8080/"
    },
    "executionInfo": {
     "elapsed": 3632,
     "status": "ok",
     "timestamp": 1692878808371,
     "user": {
      "displayName": "harriet musinguzi",
      "userId": "10586340658233206628"
     },
     "user_tz": 0
    },
    "id": "KeDHe5zHP-vg",
    "outputId": "25775812-6129-4ce2-c2af-45686a6c408c"
   },
   "outputs": [
    {
     "ename": "ModuleNotFoundError",
     "evalue": "No module named 'google.colab'",
     "output_type": "error",
     "traceback": [
      "\u001b[1;31m---------------------------------------------------------------------------\u001b[0m",
      "\u001b[1;31mModuleNotFoundError\u001b[0m                       Traceback (most recent call last)",
      "Cell \u001b[1;32mIn[2], line 1\u001b[0m\n\u001b[1;32m----> 1\u001b[0m \u001b[38;5;28;01mfrom\u001b[39;00m\u001b[38;5;250m \u001b[39m\u001b[38;5;21;01mgoogle\u001b[39;00m\u001b[38;5;21;01m.\u001b[39;00m\u001b[38;5;21;01mcolab\u001b[39;00m\u001b[38;5;250m \u001b[39m\u001b[38;5;28;01mimport\u001b[39;00m drive\n\u001b[0;32m      2\u001b[0m drive\u001b[38;5;241m.\u001b[39mmount(\u001b[38;5;124m'\u001b[39m\u001b[38;5;124m/content/drive\u001b[39m\u001b[38;5;124m'\u001b[39m)\n",
      "\u001b[1;31mModuleNotFoundError\u001b[0m: No module named 'google.colab'"
     ]
    }
   ],
   "source": [
    "from google.colab import drive\n",
    "drive.mount('/content/drive')"
   ]
  },
  {
   "cell_type": "code",
   "execution_count": null,
   "metadata": {
    "colab": {
     "base_uri": "https://localhost:8080/"
    },
    "executionInfo": {
     "elapsed": 6647,
     "status": "ok",
     "timestamp": 1692878815013,
     "user": {
      "displayName": "harriet musinguzi",
      "userId": "10586340658233206628"
     },
     "user_tz": 0
    },
    "id": "5H26PRDkPBiG",
    "outputId": "d2c119f5-334b-4993-f3f0-bbd7de43da36"
   },
   "outputs": [],
   "source": [
    "import numpy as np\n",
    "import pandas as pd\n",
    "\n",
    "import tensorflow as tf\n",
    "from tensorflow.keras.preprocessing.text import Tokenizer\n",
    "from tensorflow.keras.preprocessing.sequence import pad_sequences\n",
    "from tensorflow.keras import Sequential\n",
    "from tensorflow.keras.layers import Flatten, Dense, Dropout, Activation, Input, Bidirectional,SimpleRNN, Embedding, Conv1D, LSTM, MaxPooling1D, GlobalMaxPooling1D, Dropout\n",
    "from tensorflow.keras.callbacks import EarlyStopping, ReduceLROnPlateau\n",
    "\n",
    "from sklearn.metrics import accuracy_score, precision_score, recall_score, f1_score, confusion_matrix, classification_report\n",
    "from sklearn.preprocessing import OneHotEncoder\n",
    "from sklearn.model_selection import train_test_split\n",
    "\n",
    "\n",
    "from sklearn.feature_extraction.text import TfidfVectorizer\n",
    "from sklearn.feature_selection import chi2\n",
    "from IPython.display import display\n",
    "from sklearn.model_selection import train_test_split\n",
    "\n",
    "\n",
    "\n",
    "from nltk.stem import PorterStemmer\n",
    "import re\n",
    "import nltk\n",
    "nltk.download('stopwords')\n",
    "nltk.download('punkt')\n",
    "from nltk.corpus import stopwords\n",
    "\n",
    "import matplotlib.pyplot as plt\n",
    "import seaborn as sns\n",
    "\n",
    "print(tf.__version__)\n"
   ]
  },
  {
   "cell_type": "code",
   "execution_count": null,
   "metadata": {
    "executionInfo": {
     "elapsed": 1601,
     "status": "ok",
     "timestamp": 1692878816608,
     "user": {
      "displayName": "harriet musinguzi",
      "userId": "10586340658233206628"
     },
     "user_tz": 0
    },
    "id": "GjcnjQbAPBiM"
   },
   "outputs": [],
   "source": [
    "# # df.to_csv('/content/drive/MyDrive/Colab Notebooks/bertfullbertopics.csv')\n",
    "# df=pd.read_csv('D:/senego/dataafrica/oldfiles/facebook.csv')\n",
    "df=pd.read_csv('/content/drive/MyDrive/Colab Notebooks/facebook.csv')"
   ]
  },
  {
   "cell_type": "code",
   "execution_count": null,
   "metadata": {
    "colab": {
     "base_uri": "https://localhost:8080/",
     "height": 253
    },
    "executionInfo": {
     "elapsed": 27,
     "status": "ok",
     "timestamp": 1692878816609,
     "user": {
      "displayName": "harriet musinguzi",
      "userId": "10586340658233206628"
     },
     "user_tz": 0
    },
    "id": "vV1DjxsBPBiN",
    "outputId": "220cc54d-196e-4963-c332-2897b57a99a3"
   },
   "outputs": [],
   "source": [
    "df.head(2)"
   ]
  },
  {
   "cell_type": "code",
   "execution_count": null,
   "metadata": {
    "executionInfo": {
     "elapsed": 24,
     "status": "ok",
     "timestamp": 1692878816610,
     "user": {
      "displayName": "harriet musinguzi",
      "userId": "10586340658233206628"
     },
     "user_tz": 0
    },
    "id": "mDNmwxIuPBiP"
   },
   "outputs": [],
   "source": [
    "df=df.astype(str)"
   ]
  },
  {
   "cell_type": "code",
   "execution_count": null,
   "metadata": {
    "colab": {
     "base_uri": "https://localhost:8080/",
     "height": 253
    },
    "executionInfo": {
     "elapsed": 25,
     "status": "ok",
     "timestamp": 1692878816612,
     "user": {
      "displayName": "harriet musinguzi",
      "userId": "10586340658233206628"
     },
     "user_tz": 0
    },
    "id": "LxsK-5zvPBiQ",
    "outputId": "b88c8e90-7ba5-43d2-cdaf-29653dbf5383"
   },
   "outputs": [],
   "source": [
    "df['Text'] = df[['title','desc1','desc2','reactions','time']].apply(lambda x: ''.join(x), axis=1)\n",
    "df.head(2)"
   ]
  },
  {
   "cell_type": "code",
   "execution_count": null,
   "metadata": {
    "colab": {
     "base_uri": "https://localhost:8080/",
     "height": 504
    },
    "executionInfo": {
     "elapsed": 6110,
     "status": "ok",
     "timestamp": 1692878822701,
     "user": {
      "displayName": "harriet musinguzi",
      "userId": "10586340658233206628"
     },
     "user_tz": 0
    },
    "id": "dUpo3-MQPBiR",
    "outputId": "4dab4c61-17fd-42da-9ae5-298f2fc8eebc",
    "scrolled": true
   },
   "outputs": [],
   "source": [
    "import re\n",
    "from dateutil import parser\n",
    "import pandas as pd\n",
    "\n",
    "date_reg = r'(\\b(?:\\d{1,2}/\\d{1,2}/\\d{4}|[A-Z][a-z]* \\d{1,2}(?:,)? \\d{4})\\b)'\n",
    "\n",
    "# Function to extract and parse dates\n",
    "def extract_and_parse_date(text):\n",
    "    matches = re.findall(date_reg, text)\n",
    "    for match in matches:\n",
    "        try:\n",
    "            parsed_date = parser.parse(match, fuzzy=True)\n",
    "            return parsed_date\n",
    "        except ValueError:\n",
    "            pass\n",
    "    return None\n",
    "\n",
    "# Apply the function to the 'Textf' column and create a new 'Date' column\n",
    "df['Date'] = df['Text'].apply(extract_and_parse_date)\n",
    "\n",
    "# Display the updated DataFrame\n",
    "df.head()\n"
   ]
  },
  {
   "cell_type": "code",
   "execution_count": null,
   "metadata": {
    "colab": {
     "base_uri": "https://localhost:8080/"
    },
    "executionInfo": {
     "elapsed": 22,
     "status": "ok",
     "timestamp": 1692878822702,
     "user": {
      "displayName": "harriet musinguzi",
      "userId": "10586340658233206628"
     },
     "user_tz": 0
    },
    "id": "L7HZOLHFPBiS",
    "outputId": "dd4becc4-5ced-400f-b43b-85516a3bb4c5"
   },
   "outputs": [],
   "source": [
    "df.shape"
   ]
  },
  {
   "cell_type": "code",
   "execution_count": null,
   "metadata": {
    "executionInfo": {
     "elapsed": 9,
     "status": "ok",
     "timestamp": 1692878822703,
     "user": {
      "displayName": "harriet musinguzi",
      "userId": "10586340658233206628"
     },
     "user_tz": 0
    },
    "id": "kNrAr4LqPBiT"
   },
   "outputs": [],
   "source": []
  },
  {
   "cell_type": "code",
   "execution_count": null,
   "metadata": {
    "colab": {
     "base_uri": "https://localhost:8080/",
     "height": 504
    },
    "executionInfo": {
     "elapsed": 2242,
     "status": "ok",
     "timestamp": 1692878824937,
     "user": {
      "displayName": "harriet musinguzi",
      "userId": "10586340658233206628"
     },
     "user_tz": 0
    },
    "id": "E1MjfXxBPBiU",
    "outputId": "1558ef2d-54b3-4fef-a89e-1245c1d090b0"
   },
   "outputs": [],
   "source": [
    "# Regular expression to extract the views\n",
    "views_reg = r'(\\d+(?:\\.\\d+)?(?:k)?) views'\n",
    "\n",
    "# Function to extract views or return 0 if no match\n",
    "def extract_views(text):\n",
    "    match = re.search(views_reg, text, re.IGNORECASE)\n",
    "    if match:\n",
    "        views_text = match.group(1)\n",
    "        if 'k' in views_text.lower():\n",
    "            return int(float(views_text[:-1]) * 1000)\n",
    "        else:\n",
    "            return int(views_text.replace(',', ''))\n",
    "    return 0\n",
    "\n",
    "# Extract views using the function\n",
    "df['Views'] = df['Text'].apply(extract_views)\n",
    "\n",
    "df.head()"
   ]
  },
  {
   "cell_type": "code",
   "execution_count": null,
   "metadata": {
    "executionInfo": {
     "elapsed": 54,
     "status": "ok",
     "timestamp": 1692878824939,
     "user": {
      "displayName": "harriet musinguzi",
      "userId": "10586340658233206628"
     },
     "user_tz": 0
    },
    "id": "yhFBGxbvPBiW"
   },
   "outputs": [],
   "source": [
    "# df.to_csv('D:/senego/dataafrica/oldfiles/facebook2new.csv')"
   ]
  },
  {
   "cell_type": "code",
   "execution_count": null,
   "metadata": {
    "colab": {
     "base_uri": "https://localhost:8080/"
    },
    "executionInfo": {
     "elapsed": 54,
     "status": "ok",
     "timestamp": 1692878824940,
     "user": {
      "displayName": "harriet musinguzi",
      "userId": "10586340658233206628"
     },
     "user_tz": 0
    },
    "id": "PTeTn-3DPBiX",
    "outputId": "b33d7545-7054-455e-a885-f0190fdc18e9"
   },
   "outputs": [],
   "source": [
    "df.columns"
   ]
  },
  {
   "cell_type": "code",
   "execution_count": null,
   "metadata": {
    "colab": {
     "base_uri": "https://localhost:8080/"
    },
    "executionInfo": {
     "elapsed": 31,
     "status": "ok",
     "timestamp": 1692878824941,
     "user": {
      "displayName": "harriet musinguzi",
      "userId": "10586340658233206628"
     },
     "user_tz": 0
    },
    "id": "fHsQ9TGDUm-B",
    "outputId": "18d27035-7fec-4d63-f74d-6e5692bcb73c"
   },
   "outputs": [],
   "source": [
    "df.shape"
   ]
  },
  {
   "cell_type": "code",
   "execution_count": null,
   "metadata": {
    "colab": {
     "base_uri": "https://localhost:8080/",
     "height": 112
    },
    "executionInfo": {
     "elapsed": 24,
     "status": "ok",
     "timestamp": 1692878824942,
     "user": {
      "displayName": "harriet musinguzi",
      "userId": "10586340658233206628"
     },
     "user_tz": 0
    },
    "id": "KWKoDRZlPBiY",
    "outputId": "62c7b54f-715d-4732-b227-605b79e3399a"
   },
   "outputs": [],
   "source": [
    "facebook= df[['username', 'Text','Date', 'Views']]\n",
    "\n",
    "facebooknew = facebook.dropna(how='all')\n",
    "facebooknew.head(2)"
   ]
  },
  {
   "cell_type": "code",
   "execution_count": null,
   "metadata": {
    "executionInfo": {
     "elapsed": 2471,
     "status": "ok",
     "timestamp": 1692878827393,
     "user": {
      "displayName": "harriet musinguzi",
      "userId": "10586340658233206628"
     },
     "user_tz": 0
    },
    "id": "GulPL1q4PBiZ"
   },
   "outputs": [],
   "source": [
    "# facebook.to_csv('D:/senego/dataafrica/oldfiles/facebook2new.csv')\n",
    "facebook.to_csv('/content/drive/MyDrive/Colab Notebooks/facebook2new.csv')"
   ]
  },
  {
   "cell_type": "code",
   "execution_count": null,
   "metadata": {
    "colab": {
     "base_uri": "https://localhost:8080/",
     "height": 279
    },
    "executionInfo": {
     "elapsed": 110,
     "status": "ok",
     "timestamp": 1692878827395,
     "user": {
      "displayName": "harriet musinguzi",
      "userId": "10586340658233206628"
     },
     "user_tz": 0
    },
    "id": "mKPZaSKtPBiZ",
    "outputId": "1f7132a4-71ff-4ae7-93e7-510ad5112a99"
   },
   "outputs": [],
   "source": [
    "facebook[\"sourcetype\"] = \"facebook\"\n",
    "facebook.head(4)\n"
   ]
  },
  {
   "cell_type": "code",
   "execution_count": null,
   "metadata": {
    "colab": {
     "base_uri": "https://localhost:8080/",
     "height": 216
    },
    "executionInfo": {
     "elapsed": 90,
     "status": "ok",
     "timestamp": 1692878827397,
     "user": {
      "displayName": "harriet musinguzi",
      "userId": "10586340658233206628"
     },
     "user_tz": 0
    },
    "id": "bMt9AvN4PBia",
    "outputId": "31afe6db-4893-4e51-e7d6-4299498018b0"
   },
   "outputs": [],
   "source": [
    "\n",
    "# Adding a new column \"fid\" with row numbers ordered by \"sourcetype\"\n",
    "# df['fid'] = df.groupby('sourcetype').cumcount() + 1\n",
    "facebook['fid'] = range(1, len(facebook) + 1)\n",
    "# Displaying the first 2 rows\n",
    "facebook.head(2)\n",
    "# print(result)\n"
   ]
  },
  {
   "cell_type": "code",
   "execution_count": null,
   "metadata": {
    "executionInfo": {
     "elapsed": 79,
     "status": "ok",
     "timestamp": 1692878827398,
     "user": {
      "displayName": "harriet musinguzi",
      "userId": "10586340658233206628"
     },
     "user_tz": 0
    },
    "id": "fR-PgAPVPBib"
   },
   "outputs": [],
   "source": [
    "# newfacebook_df = facebook.dropna()\n",
    "newfacebook_df = facebook.drop_duplicates('Text')"
   ]
  },
  {
   "cell_type": "code",
   "execution_count": null,
   "metadata": {
    "colab": {
     "base_uri": "https://localhost:8080/"
    },
    "executionInfo": {
     "elapsed": 79,
     "status": "ok",
     "timestamp": 1692878827399,
     "user": {
      "displayName": "harriet musinguzi",
      "userId": "10586340658233206628"
     },
     "user_tz": 0
    },
    "id": "YdQWKIesSw0A",
    "outputId": "8d7f314c-85ad-48ae-86a3-df98376522f4"
   },
   "outputs": [],
   "source": [
    "newfacebook_df.shape\n",
    "# newfacebook_df2=facebook.dropna()\n",
    "# newfacebook_df2.shape\n",
    "# facebook.shape"
   ]
  },
  {
   "cell_type": "code",
   "execution_count": null,
   "metadata": {
    "executionInfo": {
     "elapsed": 64,
     "status": "ok",
     "timestamp": 1692878827400,
     "user": {
      "displayName": "harriet musinguzi",
      "userId": "10586340658233206628"
     },
     "user_tz": 0
    },
    "id": "zYnM9-3xUC_9"
   },
   "outputs": [],
   "source": [
    "# newfacebook_df.to_csv('/content/drive/MyDrive/Colab Notebooks/newfacebook_df2.csv')"
   ]
  },
  {
   "cell_type": "code",
   "execution_count": null,
   "metadata": {
    "executionInfo": {
     "elapsed": 64,
     "status": "ok",
     "timestamp": 1692878827401,
     "user": {
      "displayName": "harriet musinguzi",
      "userId": "10586340658233206628"
     },
     "user_tz": 0
    },
    "id": "J9NsFXOOSukY"
   },
   "outputs": [],
   "source": [
    "# dfnew2 = df.drop_duplicates('Text_lemma')\n",
    "# face"
   ]
  },
  {
   "cell_type": "code",
   "execution_count": null,
   "metadata": {
    "colab": {
     "base_uri": "https://localhost:8080/"
    },
    "executionInfo": {
     "elapsed": 64,
     "status": "ok",
     "timestamp": 1692878827402,
     "user": {
      "displayName": "harriet musinguzi",
      "userId": "10586340658233206628"
     },
     "user_tz": 0
    },
    "id": "RrBy-16rPBic",
    "outputId": "35f7ad24-56fa-4bb0-a085-82b5bc70edcf"
   },
   "outputs": [],
   "source": [
    "facebook.columns"
   ]
  },
  {
   "cell_type": "code",
   "execution_count": null,
   "metadata": {
    "executionInfo": {
     "elapsed": 58,
     "status": "ok",
     "timestamp": 1692878827404,
     "user": {
      "displayName": "harriet musinguzi",
      "userId": "10586340658233206628"
     },
     "user_tz": 0
    },
    "id": "cCgCK6tQPBid"
   },
   "outputs": [],
   "source": []
  },
  {
   "cell_type": "code",
   "execution_count": null,
   "metadata": {
    "colab": {
     "base_uri": "https://localhost:8080/"
    },
    "executionInfo": {
     "elapsed": 57,
     "status": "ok",
     "timestamp": 1692878827404,
     "user": {
      "displayName": "harriet musinguzi",
      "userId": "10586340658233206628"
     },
     "user_tz": 0
    },
    "id": "xJI0WZsfPBid",
    "outputId": "7e730539-264b-4f6a-8f45-a07ab1922d90"
   },
   "outputs": [],
   "source": [
    "newfacebook_df.shape"
   ]
  },
  {
   "cell_type": "code",
   "execution_count": null,
   "metadata": {
    "colab": {
     "base_uri": "https://localhost:8080/",
     "height": 363
    },
    "executionInfo": {
     "elapsed": 51,
     "status": "ok",
     "timestamp": 1692878827405,
     "user": {
      "displayName": "harriet musinguzi",
      "userId": "10586340658233206628"
     },
     "user_tz": 0
    },
    "id": "BAMJ4O5YPBie",
    "outputId": "08b6200c-b7aa-4e29-8011-c7eb58499e71"
   },
   "outputs": [],
   "source": [
    "facebook2 = newfacebook_df[[\"fid\", \"Date\", \"Text\",\"sourcetype\",\"Views\"]]\n",
    "facebook2.head(10)"
   ]
  },
  {
   "cell_type": "code",
   "execution_count": null,
   "metadata": {
    "colab": {
     "base_uri": "https://localhost:8080/"
    },
    "executionInfo": {
     "elapsed": 48,
     "status": "ok",
     "timestamp": 1692878827406,
     "user": {
      "displayName": "harriet musinguzi",
      "userId": "10586340658233206628"
     },
     "user_tz": 0
    },
    "id": "eI423BosPBif",
    "outputId": "f6e5b9c1-2bd9-445b-e180-5a66957d490d"
   },
   "outputs": [],
   "source": [
    "facebook2.shape"
   ]
  },
  {
   "cell_type": "code",
   "execution_count": null,
   "metadata": {
    "executionInfo": {
     "elapsed": 7702,
     "status": "ok",
     "timestamp": 1692878835068,
     "user": {
      "displayName": "harriet musinguzi",
      "userId": "10586340658233206628"
     },
     "user_tz": 0
    },
    "id": "g7dsn4I8PBif"
   },
   "outputs": [],
   "source": [
    "# facebook2.to_csv('D:/senego/dataafrica/oldfiles/facebook2.csv')\n",
    "# facebook.to_csv('D:/senego/dataafrica/oldfiles/facebook1.csv')\n",
    "\n",
    "\n"
   ]
  },
  {
   "cell_type": "code",
   "execution_count": null,
   "metadata": {
    "executionInfo": {
     "elapsed": 64,
     "status": "ok",
     "timestamp": 1692878835070,
     "user": {
      "displayName": "harriet musinguzi",
      "userId": "10586340658233206628"
     },
     "user_tz": 0
    },
    "id": "jUvdItDjPBig"
   },
   "outputs": [],
   "source": [
    "# import mysql.connector"
   ]
  },
  {
   "cell_type": "code",
   "execution_count": null,
   "metadata": {
    "executionInfo": {
     "elapsed": 63,
     "status": "ok",
     "timestamp": 1692878835071,
     "user": {
      "displayName": "harriet musinguzi",
      "userId": "10586340658233206628"
     },
     "user_tz": 0
    },
    "id": "7DpPAJP0PBig"
   },
   "outputs": [],
   "source": [
    "# import mysql.connector as msql\n",
    "# from mysql.connector import Error\n",
    "# try:\n",
    "#     conn = mysql.connector.connect(host=\"localhost\",user=\"root\",password=\"Sibitary1#\")#give ur username, password\n",
    "#     if conn.is_connected():\n",
    "#         cursor = conn.cursor()\n",
    "#         cursor.execute(\"CREATE DATABASE socialconcernsnew3\")\n",
    "#         print(\"Database is created\")\n",
    "# except Error as e:\n",
    "#     print(\"Error while connecting to MySQL\", e)"
   ]
  },
  {
   "cell_type": "code",
   "execution_count": null,
   "metadata": {
    "executionInfo": {
     "elapsed": 63,
     "status": "ok",
     "timestamp": 1692878835073,
     "user": {
      "displayName": "harriet musinguzi",
      "userId": "10586340658233206628"
     },
     "user_tz": 0
    },
    "id": "O72A6VKnPBih"
   },
   "outputs": [],
   "source": [
    "# import findspark\n",
    "# findspark.init(\"C:\\spark\\spark-3.4.1-bin-hadoop3\")\n",
    "# from pyspark.sql import SparkSession\n",
    "# spark = SparkSession.builder.master(\"local[*]\").getOrCreate()\n",
    "# spark.conf.set(\"spark.sql.repl.eagerEval.enabled\", True) # Property used to format output tables better\n",
    "# spark"
   ]
  },
  {
   "cell_type": "code",
   "execution_count": null,
   "metadata": {
    "executionInfo": {
     "elapsed": 63,
     "status": "ok",
     "timestamp": 1692878835074,
     "user": {
      "displayName": "harriet musinguzi",
      "userId": "10586340658233206628"
     },
     "user_tz": 0
    },
    "id": "_q-w1vnQPBii"
   },
   "outputs": [],
   "source": [
    "# facebook_df1 = spark.read.csv(\"D:/senego/dataafrica/oldfiles/facebook1.csv\", header=True, inferSchema=True)\n",
    "# facebook_df2 = spark.read.csv(\"D:/senego/dataafrica/oldfiles/facebook2.csv\", header=True, inferSchema=True)\n",
    "\n",
    "# # youtube_df = spark.read.csv(\"D:/senego/dataafrica/oldfiles/youtube2new.csv\", header=True, inferSchema=True)\n"
   ]
  },
  {
   "cell_type": "code",
   "execution_count": null,
   "metadata": {
    "executionInfo": {
     "elapsed": 63,
     "status": "ok",
     "timestamp": 1692878835076,
     "user": {
      "displayName": "harriet musinguzi",
      "userId": "10586340658233206628"
     },
     "user_tz": 0
    },
    "id": "6QfVEWLYPBii"
   },
   "outputs": [],
   "source": []
  },
  {
   "cell_type": "code",
   "execution_count": null,
   "metadata": {
    "executionInfo": {
     "elapsed": 63,
     "status": "ok",
     "timestamp": 1692878835077,
     "user": {
      "displayName": "harriet musinguzi",
      "userId": "10586340658233206628"
     },
     "user_tz": 0
    },
    "id": "VslfIofEPBij"
   },
   "outputs": [],
   "source": [
    "# facebook_df1.write \\\n",
    "#     .format(\"jdbc\") \\\n",
    "#     .option(\"driver\", \"com.mysql.cj.jdbc.Driver\") \\\n",
    "#     .option(\"url\", \"jdbc:mysql://localhost:3306/socialconcernsnew3?serverTimezone=UTC\") \\\n",
    "#     .option(\"dbtable\", \"facebook1\") \\\n",
    "#     .option(\"user\", \"root\") \\\n",
    "#     .option(\"password\", \"Sibitary1#\") \\\n",
    "#     .mode(\"overwrite\") \\\n",
    "#     .save()\n",
    "\n",
    "# # Stop the Spark session\n",
    "# # spark.stop()\n"
   ]
  },
  {
   "cell_type": "code",
   "execution_count": null,
   "metadata": {
    "executionInfo": {
     "elapsed": 64,
     "status": "ok",
     "timestamp": 1692878835079,
     "user": {
      "displayName": "harriet musinguzi",
      "userId": "10586340658233206628"
     },
     "user_tz": 0
    },
    "id": "BfhvuJ9SPBij"
   },
   "outputs": [],
   "source": [
    "# facebook_df2.write \\\n",
    "#     .format(\"jdbc\") \\\n",
    "#     .option(\"driver\", \"com.mysql.cj.jdbc.Driver\") \\\n",
    "#     .option(\"url\", \"jdbc:mysql://localhost:3306/socialconcernsnew3?serverTimezone=UTC\") \\\n",
    "#     .option(\"dbtable\", \"facebook2\") \\\n",
    "#     .option(\"user\", \"root\") \\\n",
    "#     .option(\"password\", \"Sibitary1#\") \\\n",
    "#     .mode(\"overwrite\") \\\n",
    "#     .save()\n",
    "\n",
    "# # Stop the Spark session\n",
    "# # spark.stop()\n"
   ]
  },
  {
   "cell_type": "code",
   "execution_count": null,
   "metadata": {
    "executionInfo": {
     "elapsed": 63,
     "status": "ok",
     "timestamp": 1692878835080,
     "user": {
      "displayName": "harriet musinguzi",
      "userId": "10586340658233206628"
     },
     "user_tz": 0
    },
    "id": "jRlthdA6PBik"
   },
   "outputs": [],
   "source": [
    "# facebook_df.limit(5)"
   ]
  },
  {
   "cell_type": "code",
   "execution_count": null,
   "metadata": {
    "colab": {
     "base_uri": "https://localhost:8080/"
    },
    "executionInfo": {
     "elapsed": 62,
     "status": "ok",
     "timestamp": 1692878835081,
     "user": {
      "displayName": "harriet musinguzi",
      "userId": "10586340658233206628"
     },
     "user_tz": 0
    },
    "id": "K1AVO3vcPBil",
    "outputId": "288f2537-75d9-4717-bfee-3a794d78e442"
   },
   "outputs": [],
   "source": [
    "newfacebook_df.columns"
   ]
  },
  {
   "cell_type": "code",
   "execution_count": null,
   "metadata": {
    "colab": {
     "base_uri": "https://localhost:8080/",
     "height": 449
    },
    "executionInfo": {
     "elapsed": 18,
     "status": "ok",
     "timestamp": 1692879004605,
     "user": {
      "displayName": "harriet musinguzi",
      "userId": "10586340658233206628"
     },
     "user_tz": 0
    },
    "id": "-pz6ue7jPBim",
    "outputId": "e071d1e3-01de-41fc-ae9b-809bc80b4dca"
   },
   "outputs": [],
   "source": [
    "facebook2 = newfacebook_df[[\"fid\", \"Date\", \"Text\",\"sourcetype\",\"Views\"]]\n",
    "facebook2.rename(columns={\"Text\": \"textf\"}, inplace=True)\n",
    "facebook2.head(10)"
   ]
  },
  {
   "cell_type": "code",
   "execution_count": null,
   "metadata": {
    "executionInfo": {
     "elapsed": 2634,
     "status": "ok",
     "timestamp": 1692885433026,
     "user": {
      "displayName": "harriet musinguzi",
      "userId": "10586340658233206628"
     },
     "user_tz": 0
    },
    "id": "_MWQWW2VdBmV"
   },
   "outputs": [],
   "source": [
    "facebook2.to_csv('/content/drive/MyDrive/Colab Notebooks/facebook2.csv')\n",
    "facebook.to_csv('/content/drive/MyDrive/Colab Notebooks/facebook1.csv')"
   ]
  },
  {
   "cell_type": "code",
   "execution_count": null,
   "metadata": {
    "executionInfo": {
     "elapsed": 5,
     "status": "ok",
     "timestamp": 1692879044307,
     "user": {
      "displayName": "harriet musinguzi",
      "userId": "10586340658233206628"
     },
     "user_tz": 0
    },
    "id": "lGHf1EYtPBim"
   },
   "outputs": [],
   "source": [
    "# # df.to_csv('/content/drive/MyDrive/Colab Notebooks/bertfullbertopics.csv')\n",
    "# youtube=pd.read_csv('D:/senego/dataafrica/oldfiles/youtube.csv')\n",
    "youtube=pd.read_csv('/content/drive/MyDrive/Colab Notebooks/youtube.csv')"
   ]
  },
  {
   "cell_type": "code",
   "execution_count": null,
   "metadata": {
    "executionInfo": {
     "elapsed": 997,
     "status": "ok",
     "timestamp": 1692879047346,
     "user": {
      "displayName": "harriet musinguzi",
      "userId": "10586340658233206628"
     },
     "user_tz": 0
    },
    "id": "__cH6zb9PBin"
   },
   "outputs": [],
   "source": [
    "youtube=youtube.astype(str)"
   ]
  },
  {
   "cell_type": "code",
   "execution_count": null,
   "metadata": {
    "colab": {
     "base_uri": "https://localhost:8080/",
     "height": 164
    },
    "executionInfo": {
     "elapsed": 582,
     "status": "ok",
     "timestamp": 1692879052293,
     "user": {
      "displayName": "harriet musinguzi",
      "userId": "10586340658233206628"
     },
     "user_tz": 0
    },
    "id": "uEAiygz1PBio",
    "outputId": "b7681747-45a4-4580-9de1-7352bd6dde45"
   },
   "outputs": [],
   "source": [
    "youtube['Texty'] = youtube[['title','desc1','desc2','reactions','time']].apply(lambda x: ''.join(x), axis=1)\n",
    "youtube.head(2)"
   ]
  },
  {
   "cell_type": "code",
   "execution_count": null,
   "metadata": {
    "colab": {
     "base_uri": "https://localhost:8080/",
     "height": 554
    },
    "executionInfo": {
     "elapsed": 1104,
     "status": "ok",
     "timestamp": 1692879115115,
     "user": {
      "displayName": "harriet musinguzi",
      "userId": "10586340658233206628"
     },
     "user_tz": 0
    },
    "id": "VNhlavL4PBio",
    "outputId": "79a25dd9-05e2-4fa7-e213-fc8034a91e0e"
   },
   "outputs": [],
   "source": [
    "from dateutil import parser\n",
    "from dateutil.relativedelta import relativedelta\n",
    "import re\n",
    "from datetime import datetime, timedelta\n",
    "import pandas as pd\n",
    "\n",
    "def extract_date(row):\n",
    "    text = row['Texty']\n",
    "    try:\n",
    "        if 'years ago' in text:\n",
    "            years = int(re.search(r'(\\d+)\\s*years', text).group(1))\n",
    "            return datetime.now().date() - relativedelta(years=years)\n",
    "        elif 'year ago' in text:\n",
    "            years = 1\n",
    "            return datetime.now().date() - relativedelta(years=years)\n",
    "        elif 'months ago' in text:\n",
    "            months = int(re.search(r'(\\d+)\\s*months', text).group(1))\n",
    "            return datetime.now().date() - relativedelta(months=months)\n",
    "        elif 'month ago' in text:\n",
    "            months = 1\n",
    "            return datetime.now().date() - relativedelta(months=months)\n",
    "        elif 'weeks ago' in text:\n",
    "            weeks = int(re.search(r'(\\d+)\\s*weeks', text).group(1))\n",
    "            return datetime.now().date() - relativedelta(weeks=weeks)\n",
    "        elif 'week ago' in text:\n",
    "            weeks = 1\n",
    "            return datetime.now().date() - relativedelta(weeks=weeks)\n",
    "        elif 'days ago' in text:\n",
    "            days = int(re.search(r'(\\d+)\\s*days', text).group(1))\n",
    "            return datetime.now().date() - timedelta(days=days)\n",
    "        elif 'day ago' in text:\n",
    "            days = 1\n",
    "            return datetime.now().date() - timedelta(days=days)\n",
    "        else:\n",
    "            return None\n",
    "    except AttributeError:\n",
    "        return None\n",
    "\n",
    "# Apply the extract_date function to each row and create a new 'Date' column\n",
    "youtube['Date'] = youtube.apply(extract_date, axis=1)\n",
    "\n",
    "# Display the updated DataFrame\n",
    "youtube.head(10)\n"
   ]
  },
  {
   "cell_type": "code",
   "execution_count": null,
   "metadata": {
    "colab": {
     "base_uri": "https://localhost:8080/",
     "height": 310
    },
    "executionInfo": {
     "elapsed": 794,
     "status": "ok",
     "timestamp": 1692879127151,
     "user": {
      "displayName": "harriet musinguzi",
      "userId": "10586340658233206628"
     },
     "user_tz": 0
    },
    "id": "x_PpmaL_PBip",
    "outputId": "fde2cf1b-5af5-4897-a478-f6d132add512"
   },
   "outputs": [],
   "source": [
    "# Regular expression to extract the views\n",
    "views_reg = r'(\\d+(?:\\.\\d+)?(?:k)?) views'\n",
    "\n",
    "# Function to extract views or return 0 if no match\n",
    "def extract_views(text):\n",
    "    match = re.search(views_reg, text, re.IGNORECASE)\n",
    "    if match:\n",
    "        views_text = match.group(1)\n",
    "        if 'k' in views_text.lower():\n",
    "            return int(float(views_text[:-1]) * 1000)\n",
    "        else:\n",
    "            return int(views_text.replace(',', ''))\n",
    "    return 0\n",
    "\n",
    "# Extract views using the function\n",
    "youtube['Views'] = youtube['Texty'].apply(extract_views)\n",
    "\n",
    "youtube.head()"
   ]
  },
  {
   "cell_type": "code",
   "execution_count": null,
   "metadata": {
    "colab": {
     "base_uri": "https://localhost:8080/"
    },
    "executionInfo": {
     "elapsed": 7,
     "status": "ok",
     "timestamp": 1692879071204,
     "user": {
      "displayName": "harriet musinguzi",
      "userId": "10586340658233206628"
     },
     "user_tz": 0
    },
    "id": "Xagf9-EFPBiq",
    "outputId": "0be5f26a-e125-414c-b8a5-2957ddca8b0f"
   },
   "outputs": [],
   "source": [
    "youtube.columns"
   ]
  },
  {
   "cell_type": "code",
   "execution_count": null,
   "metadata": {
    "colab": {
     "base_uri": "https://localhost:8080/",
     "height": 112
    },
    "executionInfo": {
     "elapsed": 890,
     "status": "ok",
     "timestamp": 1692879132993,
     "user": {
      "displayName": "harriet musinguzi",
      "userId": "10586340658233206628"
     },
     "user_tz": 0
    },
    "id": "UAIYrGkHPBir",
    "outputId": "b7b79772-b747-40a4-9fb9-222d4f282d3c"
   },
   "outputs": [],
   "source": [
    "youtube= youtube[['username', 'Texty','Date', 'Views']]\n",
    "\n",
    "youtube = youtube.dropna(how='all')\n",
    "youtube.head(2)"
   ]
  },
  {
   "cell_type": "code",
   "execution_count": null,
   "metadata": {
    "executionInfo": {
     "elapsed": 15,
     "status": "ok",
     "timestamp": 1692879140881,
     "user": {
      "displayName": "harriet musinguzi",
      "userId": "10586340658233206628"
     },
     "user_tz": 0
    },
    "id": "DN2eJNkSPBis"
   },
   "outputs": [],
   "source": [
    "# youtube.to_csv('D:/senego/dataafrica/oldfiles/youtube1.csv')\n",
    "youtube.to_csv('/content/drive/MyDrive/Colab Notebooks/youtube1.csv')"
   ]
  },
  {
   "cell_type": "code",
   "execution_count": null,
   "metadata": {
    "colab": {
     "base_uri": "https://localhost:8080/",
     "height": 175
    },
    "executionInfo": {
     "elapsed": 13,
     "status": "ok",
     "timestamp": 1692879140882,
     "user": {
      "displayName": "harriet musinguzi",
      "userId": "10586340658233206628"
     },
     "user_tz": 0
    },
    "id": "N1l1Vaf3PBit",
    "outputId": "76e33ab4-ffbd-4660-f425-1a1a843307e3"
   },
   "outputs": [],
   "source": [
    "youtube[\"sourcetype\"] = \"youtube\"\n",
    "youtube.head(4)\n"
   ]
  },
  {
   "cell_type": "code",
   "execution_count": null,
   "metadata": {
    "colab": {
     "base_uri": "https://localhost:8080/",
     "height": 112
    },
    "executionInfo": {
     "elapsed": 10,
     "status": "ok",
     "timestamp": 1692879141679,
     "user": {
      "displayName": "harriet musinguzi",
      "userId": "10586340658233206628"
     },
     "user_tz": 0
    },
    "id": "bGchwHf4PBit",
    "outputId": "5498d85f-269c-45d3-dcbd-8e7d131672af"
   },
   "outputs": [],
   "source": [
    "\n",
    "# Adding a new column \"fid\" with row numbers ordered by \"sourcetype\"\n",
    "# df['fid'] = df.groupby('sourcetype').cumcount() + 1\n",
    "youtube['yid'] = range(1, len(youtube) + 1)\n",
    "# Displaying the first 2 rows\n",
    "youtube.head(2)\n",
    "# print(result)\n"
   ]
  },
  {
   "cell_type": "code",
   "execution_count": null,
   "metadata": {
    "executionInfo": {
     "elapsed": 518,
     "status": "ok",
     "timestamp": 1692879148732,
     "user": {
      "displayName": "harriet musinguzi",
      "userId": "10586340658233206628"
     },
     "user_tz": 0
    },
    "id": "WCBikG6hPBiu"
   },
   "outputs": [],
   "source": [
    "newyoutube_df = youtube.drop_duplicates('Texty')"
   ]
  },
  {
   "cell_type": "code",
   "execution_count": null,
   "metadata": {
    "colab": {
     "base_uri": "https://localhost:8080/"
    },
    "executionInfo": {
     "elapsed": 8,
     "status": "ok",
     "timestamp": 1692879153026,
     "user": {
      "displayName": "harriet musinguzi",
      "userId": "10586340658233206628"
     },
     "user_tz": 0
    },
    "id": "z2OMu9Z2X8lD",
    "outputId": "b99a0b91-8995-4650-8b3a-0a17ebc06694"
   },
   "outputs": [],
   "source": [
    "newyoutube_df.shape"
   ]
  },
  {
   "cell_type": "code",
   "execution_count": null,
   "metadata": {
    "executionInfo": {
     "elapsed": 54,
     "status": "aborted",
     "timestamp": 1692878836580,
     "user": {
      "displayName": "harriet musinguzi",
      "userId": "10586340658233206628"
     },
     "user_tz": 0
    },
    "id": "ilVzfXS8PBiv"
   },
   "outputs": [],
   "source": [
    "youtube.columns"
   ]
  },
  {
   "cell_type": "code",
   "execution_count": null,
   "metadata": {
    "colab": {
     "base_uri": "https://localhost:8080/",
     "height": 363
    },
    "executionInfo": {
     "elapsed": 477,
     "status": "ok",
     "timestamp": 1692879158367,
     "user": {
      "displayName": "harriet musinguzi",
      "userId": "10586340658233206628"
     },
     "user_tz": 0
    },
    "id": "54Hin23lPBiv",
    "outputId": "469dbdb1-6ccf-4799-fd76-a6b5aa5b68a1"
   },
   "outputs": [],
   "source": [
    "youtube2 = newyoutube_df[[\"yid\", \"Date\", \"Texty\",\"sourcetype\",\"Views\"]]\n",
    "youtube2.head(10)"
   ]
  },
  {
   "cell_type": "code",
   "execution_count": null,
   "metadata": {
    "executionInfo": {
     "elapsed": 6,
     "status": "ok",
     "timestamp": 1692879162808,
     "user": {
      "displayName": "harriet musinguzi",
      "userId": "10586340658233206628"
     },
     "user_tz": 0
    },
    "id": "7yyzAlCNPBiw"
   },
   "outputs": [],
   "source": [
    "# youtube2.to_csv('D:/senego/dataafrica/oldfiles/youtube2.csv')\n",
    "# youtube.to_csv('D:/senego/dataafrica/oldfiles/youtube1.csv')\n",
    "\n",
    "youtube2.to_csv('/content/drive/MyDrive/Colab Notebooks/youtube2.csv')\n",
    "youtube.to_csv('/content/drive/MyDrive/Colab Notebooks/youtube1.csv')"
   ]
  },
  {
   "cell_type": "code",
   "execution_count": null,
   "metadata": {
    "colab": {
     "base_uri": "https://localhost:8080/"
    },
    "executionInfo": {
     "elapsed": 1168,
     "status": "ok",
     "timestamp": 1692879166402,
     "user": {
      "displayName": "harriet musinguzi",
      "userId": "10586340658233206628"
     },
     "user_tz": 0
    },
    "id": "dYZEQ2uDPBix",
    "outputId": "edeeb9a6-5623-413c-c6bf-d2441c62fc3a"
   },
   "outputs": [],
   "source": [
    "newyoutube_df.shape"
   ]
  },
  {
   "cell_type": "code",
   "execution_count": null,
   "metadata": {
    "colab": {
     "base_uri": "https://localhost:8080/"
    },
    "executionInfo": {
     "elapsed": 24,
     "status": "ok",
     "timestamp": 1692879166403,
     "user": {
      "displayName": "harriet musinguzi",
      "userId": "10586340658233206628"
     },
     "user_tz": 0
    },
    "id": "35yaIHoxPBiy",
    "outputId": "e5182706-7342-4afb-d574-210e90dc1573"
   },
   "outputs": [],
   "source": [
    "newyoutube_df.columns"
   ]
  },
  {
   "cell_type": "code",
   "execution_count": null,
   "metadata": {
    "colab": {
     "base_uri": "https://localhost:8080/"
    },
    "executionInfo": {
     "elapsed": 17,
     "status": "ok",
     "timestamp": 1692879166405,
     "user": {
      "displayName": "harriet musinguzi",
      "userId": "10586340658233206628"
     },
     "user_tz": 0
    },
    "id": "uEj7WD7jPBiy",
    "outputId": "efbf0a4a-3402-43cc-bc24-530d6acf636e"
   },
   "outputs": [],
   "source": [
    "youtube.columns"
   ]
  },
  {
   "cell_type": "code",
   "execution_count": null,
   "metadata": {
    "executionInfo": {
     "elapsed": 4,
     "status": "ok",
     "timestamp": 1692879167037,
     "user": {
      "displayName": "harriet musinguzi",
      "userId": "10586340658233206628"
     },
     "user_tz": 0
    },
    "id": "pUCE6bicPBiz"
   },
   "outputs": [],
   "source": [
    "# # youtube_spark = spark.read.csv(\"D:/senego/dataafrica/oldfiles/youtube1.csv\", header=True, inferSchema=True)\n",
    "# newyoutube_df_spark1 = spark.read.csv(\"D:/senego/dataafrica/oldfiles/youtube1.csv\", header=True, inferSchema=True)\n",
    "# newyoutube_df_spark2 = spark.read.csv(\"D:/senego/dataafrica/oldfiles/youtube2.csv\", header=True, inferSchema=True)\n"
   ]
  },
  {
   "cell_type": "code",
   "execution_count": null,
   "metadata": {
    "executionInfo": {
     "elapsed": 746,
     "status": "ok",
     "timestamp": 1692879172765,
     "user": {
      "displayName": "harriet musinguzi",
      "userId": "10586340658233206628"
     },
     "user_tz": 0
    },
    "id": "zYEvG7-fPBi0"
   },
   "outputs": [],
   "source": [
    "# newyoutube_df_spark1.write \\\n",
    "#     .format(\"jdbc\") \\\n",
    "#     .option(\"driver\", \"com.mysql.cj.jdbc.Driver\") \\\n",
    "#     .option(\"url\", \"jdbc:mysql://localhost:3306/socialconcernsnew3?serverTimezone=UTC\") \\\n",
    "#     .option(\"dbtable\", \"youtube1\") \\\n",
    "#     .option(\"user\", \"root\") \\\n",
    "#     .option(\"password\", \"Sibitary1#\") \\\n",
    "#     .mode(\"overwrite\") \\\n",
    "#     .save()\n",
    "\n",
    "# # Stop the Spark session\n",
    "# # spark.stop()\n"
   ]
  },
  {
   "cell_type": "code",
   "execution_count": null,
   "metadata": {
    "executionInfo": {
     "elapsed": 5,
     "status": "ok",
     "timestamp": 1692879173672,
     "user": {
      "displayName": "harriet musinguzi",
      "userId": "10586340658233206628"
     },
     "user_tz": 0
    },
    "id": "8v6N2NCPPBi1"
   },
   "outputs": [],
   "source": [
    "# newyoutube_df_spark2.write \\\n",
    "#     .format(\"jdbc\") \\\n",
    "#     .option(\"driver\", \"com.mysql.cj.jdbc.Driver\") \\\n",
    "#     .option(\"url\", \"jdbc:mysql://localhost:3306/socialconcernsnew3?serverTimezone=UTC\") \\\n",
    "#     .option(\"dbtable\", \"youtube2\") \\\n",
    "#     .option(\"user\", \"root\") \\\n",
    "#     .option(\"password\", \"Sibitary1#\") \\\n",
    "#     .mode(\"overwrite\") \\\n",
    "#     .save()\n",
    "\n",
    "# # Stop the Spark session\n",
    "# # spark.stop()\n"
   ]
  },
  {
   "cell_type": "code",
   "execution_count": null,
   "metadata": {
    "colab": {
     "base_uri": "https://localhost:8080/",
     "height": 363
    },
    "executionInfo": {
     "elapsed": 762,
     "status": "ok",
     "timestamp": 1692879178455,
     "user": {
      "displayName": "harriet musinguzi",
      "userId": "10586340658233206628"
     },
     "user_tz": 0
    },
    "id": "uHuNkNSOPBi1",
    "outputId": "e8039c31-e65f-4fa4-e817-ebcfbf9e57b6"
   },
   "outputs": [],
   "source": [
    "youtube2 = newyoutube_df[[\"yid\", \"Date\", \"Texty\",\"sourcetype\",\"Views\"]]\n",
    "youtube2.head(10)"
   ]
  },
  {
   "cell_type": "code",
   "execution_count": null,
   "metadata": {
    "colab": {
     "base_uri": "https://localhost:8080/",
     "height": 568
    },
    "executionInfo": {
     "elapsed": 13,
     "status": "ok",
     "timestamp": 1692879180556,
     "user": {
      "displayName": "harriet musinguzi",
      "userId": "10586340658233206628"
     },
     "user_tz": 0
    },
    "id": "7eHvo54ZPBi2",
    "outputId": "0b29062a-543c-4fa2-a229-8262a4b1b129"
   },
   "outputs": [],
   "source": [
    "twitter=pd.read_csv('/content/drive/MyDrive/Colab Notebooks/twitter.csv')\n",
    "\n",
    "twitter.head()"
   ]
  },
  {
   "cell_type": "code",
   "execution_count": null,
   "metadata": {
    "colab": {
     "base_uri": "https://localhost:8080/"
    },
    "executionInfo": {
     "elapsed": 13,
     "status": "ok",
     "timestamp": 1692879181313,
     "user": {
      "displayName": "harriet musinguzi",
      "userId": "10586340658233206628"
     },
     "user_tz": 0
    },
    "id": "2u-pbH4IPBi3",
    "outputId": "3fd95cc4-44fe-4a66-b741-5fbc829475e3"
   },
   "outputs": [],
   "source": [
    "twitter.columns"
   ]
  },
  {
   "cell_type": "code",
   "execution_count": null,
   "metadata": {
    "executionInfo": {
     "elapsed": 9,
     "status": "ok",
     "timestamp": 1692879181314,
     "user": {
      "displayName": "harriet musinguzi",
      "userId": "10586340658233206628"
     },
     "user_tz": 0
    },
    "id": "nN_AQLpDPBi4"
   },
   "outputs": [],
   "source": [
    "twitter['Date']=twitter[['Datetime']]\n",
    "\n",
    "# Calculate the \"views\" column and cast it to string without decimal points\n",
    "twitter['Views'] = (twitter['RetweetCount'] + twitter['Likes'] + twitter['Replies']).astype(int).astype(str)\n",
    "\n",
    "twitter=twitter[['Date','Views', 'Tweet Id', 'RetweetCount', 'Likes', 'Replies', 'Text',\n",
    "       'language', 'Username']]"
   ]
  },
  {
   "cell_type": "code",
   "execution_count": null,
   "metadata": {
    "colab": {
     "base_uri": "https://localhost:8080/"
    },
    "executionInfo": {
     "elapsed": 7,
     "status": "ok",
     "timestamp": 1692879182479,
     "user": {
      "displayName": "harriet musinguzi",
      "userId": "10586340658233206628"
     },
     "user_tz": 0
    },
    "id": "qeyHKU3JYhZm",
    "outputId": "8b94d73c-3f73-464d-f2d0-0855efd35c2a"
   },
   "outputs": [],
   "source": [
    "twitter.shape"
   ]
  },
  {
   "cell_type": "code",
   "execution_count": null,
   "metadata": {
    "executionInfo": {
     "elapsed": 4,
     "status": "ok",
     "timestamp": 1692879183775,
     "user": {
      "displayName": "harriet musinguzi",
      "userId": "10586340658233206628"
     },
     "user_tz": 0
    },
    "id": "nPyHmyxQPBi5"
   },
   "outputs": [],
   "source": [
    "twitter.to_csv('/content/drive/MyDrive/Colab Notebooks/twitter1.csv')\n",
    "# twitter.head()"
   ]
  },
  {
   "cell_type": "code",
   "execution_count": null,
   "metadata": {
    "executionInfo": {
     "elapsed": 5,
     "status": "ok",
     "timestamp": 1692879189351,
     "user": {
      "displayName": "harriet musinguzi",
      "userId": "10586340658233206628"
     },
     "user_tz": 0
    },
    "id": "mItJgd6ZPBi5"
   },
   "outputs": [],
   "source": [
    "# twitter_spark = spark.read.csv(\"D:/senego/dataafrica/oldfiles/twitter1.csv\", header=True, inferSchema=True)\n"
   ]
  },
  {
   "cell_type": "code",
   "execution_count": null,
   "metadata": {
    "executionInfo": {
     "elapsed": 13,
     "status": "ok",
     "timestamp": 1692879190087,
     "user": {
      "displayName": "harriet musinguzi",
      "userId": "10586340658233206628"
     },
     "user_tz": 0
    },
    "id": "0Hlv4NfdPBi6"
   },
   "outputs": [],
   "source": [
    "# twitter_spark.write \\\n",
    "#     .format(\"jdbc\") \\\n",
    "#     .option(\"driver\", \"com.mysql.cj.jdbc.Driver\") \\\n",
    "#     .option(\"url\", \"jdbc:mysql://localhost:3306/socialconcernsnew3?serverTimezone=UTC\") \\\n",
    "#     .option(\"dbtable\", \"twitter1\") \\\n",
    "#     .option(\"user\", \"root\") \\\n",
    "#     .option(\"password\", \"Sibitary1#\") \\\n",
    "#     .mode(\"overwrite\") \\\n",
    "#     .save()\n",
    "\n",
    "# # Stop the Spark session\n",
    "# # spark.stop()\n"
   ]
  },
  {
   "cell_type": "code",
   "execution_count": null,
   "metadata": {
    "colab": {
     "base_uri": "https://localhost:8080/",
     "height": 112
    },
    "executionInfo": {
     "elapsed": 13,
     "status": "ok",
     "timestamp": 1692879190089,
     "user": {
      "displayName": "harriet musinguzi",
      "userId": "10586340658233206628"
     },
     "user_tz": 0
    },
    "id": "7UTDSrsBPBi7",
    "outputId": "01d0e7b1-85a3-4d34-ea05-58a353c6d9b4"
   },
   "outputs": [],
   "source": [
    "twitterdf= twitter[['Text','Date', 'Views']]\n",
    "\n",
    "twitterdf = twitterdf.dropna(how='all')\n",
    "twitterdf.head(2)"
   ]
  },
  {
   "cell_type": "code",
   "execution_count": null,
   "metadata": {
    "colab": {
     "base_uri": "https://localhost:8080/",
     "height": 175
    },
    "executionInfo": {
     "elapsed": 19,
     "status": "ok",
     "timestamp": 1692879191061,
     "user": {
      "displayName": "harriet musinguzi",
      "userId": "10586340658233206628"
     },
     "user_tz": 0
    },
    "id": "r0q_6B_HPBi8",
    "outputId": "3710b3ec-cbbb-4ec5-c897-816dfaf2b508"
   },
   "outputs": [],
   "source": [
    "twitterdf[\"sourcetype\"] = \"twitter\"\n",
    "twitterdf.head(4)\n"
   ]
  },
  {
   "cell_type": "code",
   "execution_count": null,
   "metadata": {
    "colab": {
     "base_uri": "https://localhost:8080/",
     "height": 112
    },
    "executionInfo": {
     "elapsed": 16,
     "status": "ok",
     "timestamp": 1692879191062,
     "user": {
      "displayName": "harriet musinguzi",
      "userId": "10586340658233206628"
     },
     "user_tz": 0
    },
    "id": "AghgKQIjPBi9",
    "outputId": "a5ef5b62-bfe8-4940-d9ec-c3cbc563e3ba"
   },
   "outputs": [],
   "source": [
    "\n",
    "# Adding a new column \"fid\" with row numbers ordered by \"sourcetype\"\n",
    "# df['fid'] = df.groupby('sourcetype').cumcount() + 1\n",
    "twitterdf['tid'] = range(1, len(twitter) + 1)\n",
    "# Displaying the first 2 rows\n",
    "twitterdf.head(2)\n",
    "# print(result)\n"
   ]
  },
  {
   "cell_type": "code",
   "execution_count": null,
   "metadata": {
    "colab": {
     "base_uri": "https://localhost:8080/"
    },
    "executionInfo": {
     "elapsed": 5,
     "status": "ok",
     "timestamp": 1692879194216,
     "user": {
      "displayName": "harriet musinguzi",
      "userId": "10586340658233206628"
     },
     "user_tz": 0
    },
    "id": "CcdMWwZhPBi-",
    "outputId": "bcf5a69c-6110-426b-861e-3ae5a54a80f1"
   },
   "outputs": [],
   "source": [
    "twitterdf.shape"
   ]
  },
  {
   "cell_type": "code",
   "execution_count": null,
   "metadata": {
    "executionInfo": {
     "elapsed": 4,
     "status": "ok",
     "timestamp": 1692879197780,
     "user": {
      "displayName": "harriet musinguzi",
      "userId": "10586340658233206628"
     },
     "user_tz": 0
    },
    "id": "7_yEXpfdPBi-"
   },
   "outputs": [],
   "source": [
    "twitter2 = twitterdf.drop_duplicates('Text')"
   ]
  },
  {
   "cell_type": "code",
   "execution_count": null,
   "metadata": {
    "colab": {
     "base_uri": "https://localhost:8080/"
    },
    "executionInfo": {
     "elapsed": 6,
     "status": "ok",
     "timestamp": 1692879198495,
     "user": {
      "displayName": "harriet musinguzi",
      "userId": "10586340658233206628"
     },
     "user_tz": 0
    },
    "id": "cGTwCIu_PBi_",
    "outputId": "972ccaf7-f29d-4cb9-c66a-6f5b460aae1e"
   },
   "outputs": [],
   "source": [
    "twitter2.shape"
   ]
  },
  {
   "cell_type": "code",
   "execution_count": null,
   "metadata": {
    "colab": {
     "base_uri": "https://localhost:8080/"
    },
    "executionInfo": {
     "elapsed": 12,
     "status": "ok",
     "timestamp": 1692879202751,
     "user": {
      "displayName": "harriet musinguzi",
      "userId": "10586340658233206628"
     },
     "user_tz": 0
    },
    "id": "aiHv22gaPBjA",
    "outputId": "2b7506a6-cff7-4f4e-f1d1-4d2a01dc67a3"
   },
   "outputs": [],
   "source": [
    "twitter2.columns"
   ]
  },
  {
   "cell_type": "code",
   "execution_count": null,
   "metadata": {
    "executionInfo": {
     "elapsed": 7,
     "status": "ok",
     "timestamp": 1692879204249,
     "user": {
      "displayName": "harriet musinguzi",
      "userId": "10586340658233206628"
     },
     "user_tz": 0
    },
    "id": "NqezaHX0PBjB"
   },
   "outputs": [],
   "source": [
    "# twitter2.to_csv('D:/senego/dataafrica/oldfiles/twitter2.csv')\n",
    "twitter2.to_csv('/content/drive/MyDrive/Colab Notebooks/twitter2.csv')\n",
    "# twitter.head()"
   ]
  },
  {
   "cell_type": "code",
   "execution_count": null,
   "metadata": {
    "executionInfo": {
     "elapsed": 8,
     "status": "ok",
     "timestamp": 1692879205435,
     "user": {
      "displayName": "harriet musinguzi",
      "userId": "10586340658233206628"
     },
     "user_tz": 0
    },
    "id": "lkj13y5nPBjC"
   },
   "outputs": [],
   "source": [
    "# twitter2_spark = spark.read.csv(\"D:/senego/dataafrica/oldfiles/twitter2.csv\", header=True, inferSchema=True)\n"
   ]
  },
  {
   "cell_type": "code",
   "execution_count": null,
   "metadata": {
    "executionInfo": {
     "elapsed": 6,
     "status": "ok",
     "timestamp": 1692879205436,
     "user": {
      "displayName": "harriet musinguzi",
      "userId": "10586340658233206628"
     },
     "user_tz": 0
    },
    "id": "GHhJ1yYiPBjC"
   },
   "outputs": [],
   "source": [
    "# twitter2_spark.write \\\n",
    "#     .format(\"jdbc\") \\\n",
    "#     .option(\"driver\", \"com.mysql.cj.jdbc.Driver\") \\\n",
    "#     .option(\"url\", \"jdbc:mysql://localhost:3306/socialconcernsnew3?serverTimezone=UTC\") \\\n",
    "#     .option(\"dbtable\", \"twitter2\") \\\n",
    "#     .option(\"user\", \"root\") \\\n",
    "#     .option(\"password\", \"Sibitary1#\") \\\n",
    "#     .mode(\"overwrite\") \\\n",
    "#     .save()\n",
    "\n",
    "# # Stop the Spark session\n",
    "# # spark.stop()\n"
   ]
  },
  {
   "cell_type": "code",
   "execution_count": null,
   "metadata": {
    "colab": {
     "base_uri": "https://localhost:8080/",
     "height": 89
    },
    "executionInfo": {
     "elapsed": 14,
     "status": "ok",
     "timestamp": 1692879270425,
     "user": {
      "displayName": "harriet musinguzi",
      "userId": "10586340658233206628"
     },
     "user_tz": 0
    },
    "id": "Rik9uR-VPBjD",
    "outputId": "caefd963-0aba-4fb3-fca3-92ae44d112db"
   },
   "outputs": [],
   "source": [
    "twitter2.head(1)"
   ]
  },
  {
   "cell_type": "code",
   "execution_count": null,
   "metadata": {
    "executionInfo": {
     "elapsed": 5,
     "status": "ok",
     "timestamp": 1692879207942,
     "user": {
      "displayName": "harriet musinguzi",
      "userId": "10586340658233206628"
     },
     "user_tz": 0
    },
    "id": "G_r9c1jvPBjE"
   },
   "outputs": [],
   "source": [
    "# twitter2_spark.na.drop()\n",
    "# twitter2.coulmns"
   ]
  },
  {
   "cell_type": "code",
   "execution_count": null,
   "metadata": {
    "colab": {
     "base_uri": "https://localhost:8080/"
    },
    "executionInfo": {
     "elapsed": 14,
     "status": "ok",
     "timestamp": 1692879209126,
     "user": {
      "displayName": "harriet musinguzi",
      "userId": "10586340658233206628"
     },
     "user_tz": 0
    },
    "id": "XP6XMHclPBjE",
    "outputId": "4648d373-d9f1-4eb9-d907-9a47beacfcd9"
   },
   "outputs": [],
   "source": [
    "# facebook_df2.na.drop()\n",
    "facebook2.columns"
   ]
  },
  {
   "cell_type": "code",
   "execution_count": null,
   "metadata": {
    "colab": {
     "base_uri": "https://localhost:8080/"
    },
    "executionInfo": {
     "elapsed": 7,
     "status": "ok",
     "timestamp": 1692879210091,
     "user": {
      "displayName": "harriet musinguzi",
      "userId": "10586340658233206628"
     },
     "user_tz": 0
    },
    "id": "7lK0PoPXPBjF",
    "outputId": "dee92f82-200d-49eb-c559-2cd43130cf24"
   },
   "outputs": [],
   "source": [
    "# newyoutube_df_spark2.na.drop()\n",
    "youtube2.columns"
   ]
  },
  {
   "cell_type": "code",
   "execution_count": null,
   "metadata": {
    "colab": {
     "base_uri": "https://localhost:8080/",
     "height": 206
    },
    "executionInfo": {
     "elapsed": 456,
     "status": "ok",
     "timestamp": 1692879878481,
     "user": {
      "displayName": "harriet musinguzi",
      "userId": "10586340658233206628"
     },
     "user_tz": 0
    },
    "id": "HHZbpa1sPBjG",
    "outputId": "16c55008-b9ff-492c-c8a6-6be51181421f"
   },
   "outputs": [],
   "source": [
    "dfs = [twitter2, facebook2, youtube2]\n",
    "\n",
    "# Concatenate DataFrames along columns\n",
    "df = pd.concat(dfs, axis=0)\n",
    "# df=df.dropna()\n",
    "df.head(5)"
   ]
  },
  {
   "cell_type": "code",
   "execution_count": null,
   "metadata": {
    "colab": {
     "base_uri": "https://localhost:8080/"
    },
    "executionInfo": {
     "elapsed": 457,
     "status": "ok",
     "timestamp": 1692879884443,
     "user": {
      "displayName": "harriet musinguzi",
      "userId": "10586340658233206628"
     },
     "user_tz": 0
    },
    "id": "JEQU2pXWPBjH",
    "outputId": "89db96d4-8b24-42ca-de0f-af4774981f94"
   },
   "outputs": [],
   "source": [
    "df.columns"
   ]
  },
  {
   "cell_type": "code",
   "execution_count": null,
   "metadata": {
    "colab": {
     "base_uri": "https://localhost:8080/"
    },
    "executionInfo": {
     "elapsed": 441,
     "status": "ok",
     "timestamp": 1692879887127,
     "user": {
      "displayName": "harriet musinguzi",
      "userId": "10586340658233206628"
     },
     "user_tz": 0
    },
    "id": "Uv3agz0_ev3f",
    "outputId": "039974a9-8aaf-4063-95f7-8d6e6387baf2"
   },
   "outputs": [],
   "source": [
    "df.shape"
   ]
  },
  {
   "cell_type": "code",
   "execution_count": null,
   "metadata": {
    "colab": {
     "base_uri": "https://localhost:8080/",
     "height": 147
    },
    "executionInfo": {
     "elapsed": 550,
     "status": "ok",
     "timestamp": 1692880258174,
     "user": {
      "displayName": "harriet musinguzi",
      "userId": "10586340658233206628"
     },
     "user_tz": 0
    },
    "id": "zrVh8xVaPBjI",
    "outputId": "e7b3c2c3-3388-4afb-f347-eda5066cb583"
   },
   "outputs": [],
   "source": [
    "# df['alltext']=df[['Text','textf','Texty']]\n",
    "# Replace NaN values with empty strings\n",
    "df[['Text', 'textf', 'Texty']] = df[['Text', 'textf', 'Texty']].fillna('')\n",
    "\n",
    "# Concatenate the columns and create a new column 'alltext'\n",
    "df['alltext'] = df['Text'] + ' ' + df['textf'] + ' ' + df['Texty']\n",
    "\n",
    "df['textid'] = range(1, len(df) + 1)\n",
    "\n",
    "df.head(2)\n",
    "\n"
   ]
  },
  {
   "cell_type": "code",
   "execution_count": null,
   "metadata": {
    "colab": {
     "base_uri": "https://localhost:8080/"
    },
    "executionInfo": {
     "elapsed": 1461,
     "status": "ok",
     "timestamp": 1692880333677,
     "user": {
      "displayName": "harriet musinguzi",
      "userId": "10586340658233206628"
     },
     "user_tz": 0
    },
    "id": "DF9Q31Yrhyo7",
    "outputId": "549a2213-0a27-4971-bb59-5ae18e3c46d4"
   },
   "outputs": [],
   "source": [
    "df.columns"
   ]
  },
  {
   "cell_type": "code",
   "execution_count": null,
   "metadata": {
    "colab": {
     "base_uri": "https://localhost:8080/"
    },
    "executionInfo": {
     "elapsed": 1935,
     "status": "ok",
     "timestamp": 1692880402140,
     "user": {
      "displayName": "harriet musinguzi",
      "userId": "10586340658233206628"
     },
     "user_tz": 0
    },
    "id": "V5Ut0QXRh5x2",
    "outputId": "6e822b02-6ba7-4cbc-f9c7-0c41b9a996c9"
   },
   "outputs": [],
   "source": [
    "df2=df[['textid','Date', 'Views','sourcetype','alltext']]\n",
    "df2.shape"
   ]
  },
  {
   "cell_type": "code",
   "execution_count": null,
   "metadata": {
    "executionInfo": {
     "elapsed": 722,
     "status": "ok",
     "timestamp": 1692880427589,
     "user": {
      "displayName": "harriet musinguzi",
      "userId": "10586340658233206628"
     },
     "user_tz": 0
    },
    "id": "S-KOarwGiSP4"
   },
   "outputs": [],
   "source": [
    "df=df2.copy()"
   ]
  },
  {
   "cell_type": "code",
   "execution_count": null,
   "metadata": {
    "executionInfo": {
     "elapsed": 1180,
     "status": "ok",
     "timestamp": 1692880431322,
     "user": {
      "displayName": "harriet musinguzi",
      "userId": "10586340658233206628"
     },
     "user_tz": 0
    },
    "id": "Zi2uSLjiPBjI"
   },
   "outputs": [],
   "source": [
    "# df.to_csv('D:/senego/dataafrica/oldfiles/socialdatacleaned2all.csv')\n",
    "df.to_csv('/content/drive/MyDrive/Colab Notebooks/socialdatacleaned2all.csv')\n",
    "# twitter.head()"
   ]
  },
  {
   "cell_type": "code",
   "execution_count": null,
   "metadata": {
    "id": "Yxnz3BfkhxpC"
   },
   "outputs": [],
   "source": []
  },
  {
   "cell_type": "code",
   "execution_count": null,
   "metadata": {
    "executionInfo": {
     "elapsed": 38019,
     "status": "aborted",
     "timestamp": 1692878836613,
     "user": {
      "displayName": "harriet musinguzi",
      "userId": "10586340658233206628"
     },
     "user_tz": 0
    },
    "id": "YnX-fibkPBjJ"
   },
   "outputs": [],
   "source": [
    "# df_spark = spark.read.csv(\"D:/senego/dataafrica/oldfiles/socialdatacleaned2all.csv\", header=True, inferSchema=True)\n"
   ]
  },
  {
   "cell_type": "code",
   "execution_count": null,
   "metadata": {
    "executionInfo": {
     "elapsed": 38015,
     "status": "aborted",
     "timestamp": 1692878836614,
     "user": {
      "displayName": "harriet musinguzi",
      "userId": "10586340658233206628"
     },
     "user_tz": 0
    },
    "id": "a-8KA4N0PBjK"
   },
   "outputs": [],
   "source": [
    "# df_spark.write \\\n",
    "#     .format(\"jdbc\") \\\n",
    "#     .option(\"driver\", \"com.mysql.cj.jdbc.Driver\") \\\n",
    "#     .option(\"url\", \"jdbc:mysql://localhost:3306/socialconcernsnew3?serverTimezone=UTC\") \\\n",
    "#     .option(\"dbtable\", \"onefile\") \\\n",
    "#     .option(\"user\", \"root\") \\\n",
    "#     .option(\"password\", \"Sibitary1#\") \\\n",
    "#     .mode(\"overwrite\") \\\n",
    "#     .save()\n",
    "\n",
    "# # Stop the Spark session\n",
    "# # spark.stop()\n"
   ]
  },
  {
   "cell_type": "code",
   "execution_count": null,
   "metadata": {
    "executionInfo": {
     "elapsed": 38000,
     "status": "aborted",
     "timestamp": 1692878836615,
     "user": {
      "displayName": "harriet musinguzi",
      "userId": "10586340658233206628"
     },
     "user_tz": 0
    },
    "id": "VlRXvIcpPBjK"
   },
   "outputs": [],
   "source": [
    "# df_spark.limit(5)"
   ]
  },
  {
   "cell_type": "code",
   "execution_count": null,
   "metadata": {
    "executionInfo": {
     "elapsed": 37995,
     "status": "aborted",
     "timestamp": 1692878836616,
     "user": {
      "displayName": "harriet musinguzi",
      "userId": "10586340658233206628"
     },
     "user_tz": 0
    },
    "id": "UGwh-eewPBjL"
   },
   "outputs": [],
   "source": [
    "# from functools import reduce\n",
    "# from pyspark.sql import DataFrame\n",
    "\n",
    "# dfs = [twitter2_spark,facebook_df2,newyoutube_df_spark2]\n",
    "# df2= twitter2_spark.join(facebook_df2, \"sourcetype\").join(newyoutube_df_spark2, \"sourcetype\")\n",
    "\n",
    "# df2 = reduce(DataFrame.unionAll, dfs)"
   ]
  },
  {
   "cell_type": "code",
   "execution_count": null,
   "metadata": {
    "executionInfo": {
     "elapsed": 37991,
     "status": "aborted",
     "timestamp": 1692878836617,
     "user": {
      "displayName": "harriet musinguzi",
      "userId": "10586340658233206628"
     },
     "user_tz": 0
    },
    "id": "4nX450vQPBjM"
   },
   "outputs": [],
   "source": [
    "# # Read from MySQL Table\n",
    "# df1 = spark.read \\\n",
    "#     .format(\"jdbc\") \\\n",
    "#     .option(\"driver\",\"com.mysql.jdbc.Driver\") \\\n",
    "#     .option(\"url\", \"jdbc:mysql://localhost:3306/concernsnew\") \\\n",
    "#     .option(\"dbtable\", \"twitter2\") \\\n",
    "#     .option(\"user\", \"root\") \\\n",
    "#     .option(\"password\", \"Sibitary1#\") \\\n",
    "#     .load()\n",
    "\n",
    "# df1.limit(5)\n"
   ]
  },
  {
   "cell_type": "code",
   "execution_count": null,
   "metadata": {
    "executionInfo": {
     "elapsed": 37987,
     "status": "aborted",
     "timestamp": 1692878836618,
     "user": {
      "displayName": "harriet musinguzi",
      "userId": "10586340658233206628"
     },
     "user_tz": 0
    },
    "id": "icgl9-H5PBjN"
   },
   "outputs": [],
   "source": [
    "# df.toPandas().to_csv(\"D:/senego/dataafrica/oldfiles/socialcleaned2.csv\", header=True)"
   ]
  },
  {
   "cell_type": "code",
   "execution_count": null,
   "metadata": {
    "colab": {
     "base_uri": "https://localhost:8080/"
    },
    "executionInfo": {
     "elapsed": 920,
     "status": "ok",
     "timestamp": 1692880439193,
     "user": {
      "displayName": "harriet musinguzi",
      "userId": "10586340658233206628"
     },
     "user_tz": 0
    },
    "id": "6lvyMsTJPBjN",
    "outputId": "28513e2a-d43e-46ad-8af0-84f90a43774c"
   },
   "outputs": [],
   "source": [
    "# df = pd.read_csv('D:/senego/dataafrica/oldfiles/socialdatacleaned2all.csv')\n",
    "# df = pd.read_csv('D:/senego/dataafrica/oldfiles/socialdata21new.csv', encoding = \"UTF-8\")\n",
    "\n",
    "df=df.astype(str)\n",
    "df.shape"
   ]
  },
  {
   "cell_type": "code",
   "execution_count": null,
   "metadata": {
    "executionInfo": {
     "elapsed": 7,
     "status": "ok",
     "timestamp": 1692880442679,
     "user": {
      "displayName": "harriet musinguzi",
      "userId": "10586340658233206628"
     },
     "user_tz": 0
    },
    "id": "EcuUhWQ6PBjO"
   },
   "outputs": [],
   "source": [
    "# Thanks : https://github.com/NeelShah18/emot/blob/master/emot/emo_unicode.py\n",
    "EMOTICONS = {\n",
    "    u\":‑\\)\":\"Happy face or smiley\",\n",
    "    u\":\\)\":\"Happy face or smiley\",\n",
    "    u\":-\\]\":\"Happy face or smiley\",\n",
    "    u\":\\]\":\"Happy face or smiley\",\n",
    "    u\":-3\":\"Happy face smiley\",\n",
    "    u\":3\":\"Happy face smiley\",\n",
    "    u\":->\":\"Happy face smiley\",\n",
    "    u\":>\":\"Happy face smiley\",\n",
    "    u\"8-\\)\":\"Happy face smiley\",\n",
    "    u\":o\\)\":\"Happy face smiley\",\n",
    "    u\":-\\}\":\"Happy face smiley\",\n",
    "    u\":\\}\":\"Happy face smiley\",\n",
    "    u\":-\\)\":\"Happy face smiley\",\n",
    "    u\":c\\)\":\"Happy face smiley\",\n",
    "    u\":\\^\\)\":\"Happy face smiley\",\n",
    "    u\"=\\]\":\"Happy face smiley\",\n",
    "    u\"=\\)\":\"Happy face smiley\",\n",
    "    u\":‑D\":\"Laughing, big grin or laugh with glasses\",\n",
    "    u\":D\":\"Laughing, big grin or laugh with glasses\",\n",
    "    u\"8‑D\":\"Laughing, big grin or laugh with glasses\",\n",
    "    u\"8D\":\"Laughing, big grin or laugh with glasses\",\n",
    "    u\"X‑D\":\"Laughing, big grin or laugh with glasses\",\n",
    "    u\"XD\":\"Laughing, big grin or laugh with glasses\",\n",
    "    u\"=D\":\"Laughing, big grin or laugh with glasses\",\n",
    "    u\"=3\":\"Laughing, big grin or laugh with glasses\",\n",
    "    u\"B\\^D\":\"Laughing, big grin or laugh with glasses\",\n",
    "    u\":-\\)\\)\":\"Very happy\",\n",
    "    u\":‑\\(\":\"Frown, sad, andry or pouting\",\n",
    "    u\":-\\(\":\"Frown, sad, andry or pouting\",\n",
    "    u\":\\(\":\"Frown, sad, andry or pouting\",\n",
    "    u\":‑c\":\"Frown, sad, andry or pouting\",\n",
    "    u\":c\":\"Frown, sad, andry or pouting\",\n",
    "    u\":‑<\":\"Frown, sad, andry or pouting\",\n",
    "    u\":<\":\"Frown, sad, andry or pouting\",\n",
    "    u\":‑\\[\":\"Frown, sad, andry or pouting\",\n",
    "    u\":\\[\":\"Frown, sad, andry or pouting\",\n",
    "    u\":-\\|\\|\":\"Frown, sad, andry or pouting\",\n",
    "    u\">:\\[\":\"Frown, sad, andry or pouting\",\n",
    "    u\":\\{\":\"Frown, sad, andry or pouting\",\n",
    "    u\":@\":\"Frown, sad, andry or pouting\",\n",
    "    u\">:\\(\":\"Frown, sad, andry or pouting\",\n",
    "    u\":'‑\\(\":\"Crying\",\n",
    "    u\":'\\(\":\"Crying\",\n",
    "    u\":'‑\\)\":\"Tears of happiness\",\n",
    "    u\":'\\)\":\"Tears of happiness\",\n",
    "    u\"D‑':\":\"Horror\",\n",
    "    u\"D:<\":\"Disgust\",\n",
    "    u\"D:\":\"Sadness\",\n",
    "    u\"D8\":\"Great dismay\",\n",
    "    u\"D;\":\"Great dismay\",\n",
    "    u\"D=\":\"Great dismay\",\n",
    "    u\"DX\":\"Great dismay\",\n",
    "    u\":‑O\":\"Surprise\",\n",
    "    u\":O\":\"Surprise\",\n",
    "    u\":‑o\":\"Surprise\",\n",
    "    u\":o\":\"Surprise\",\n",
    "    u\":-0\":\"Shock\",\n",
    "    u\"8‑0\":\"Yawn\",\n",
    "    u\">:O\":\"Yawn\",\n",
    "    u\":-\\*\":\"Kiss\",\n",
    "    u\":\\*\":\"Kiss\",\n",
    "    u\":X\":\"Kiss\",\n",
    "    u\";‑\\)\":\"Wink or smirk\",\n",
    "    u\";\\)\":\"Wink or smirk\",\n",
    "    u\"\\*-\\)\":\"Wink or smirk\",\n",
    "    u\"\\*\\)\":\"Wink or smirk\",\n",
    "    u\";‑\\]\":\"Wink or smirk\",\n",
    "    u\";\\]\":\"Wink or smirk\",\n",
    "    u\";\\^\\)\":\"Wink or smirk\",\n",
    "    u\":‑,\":\"Wink or smirk\",\n",
    "    u\";D\":\"Wink or smirk\",\n",
    "    u\":‑P\":\"Tongue sticking out, cheeky, playful or blowing a raspberry\",\n",
    "    u\":P\":\"Tongue sticking out, cheeky, playful or blowing a raspberry\",\n",
    "    u\"X‑P\":\"Tongue sticking out, cheeky, playful or blowing a raspberry\",\n",
    "    u\"XP\":\"Tongue sticking out, cheeky, playful or blowing a raspberry\",\n",
    "    u\":‑Þ\":\"Tongue sticking out, cheeky, playful or blowing a raspberry\",\n",
    "    u\":Þ\":\"Tongue sticking out, cheeky, playful or blowing a raspberry\",\n",
    "    u\":b\":\"Tongue sticking out, cheeky, playful or blowing a raspberry\",\n",
    "    u\"d:\":\"Tongue sticking out, cheeky, playful or blowing a raspberry\",\n",
    "    u\"=p\":\"Tongue sticking out, cheeky, playful or blowing a raspberry\",\n",
    "    u\">:P\":\"Tongue sticking out, cheeky, playful or blowing a raspberry\",\n",
    "    u\":‑/\":\"Skeptical, annoyed, undecided, uneasy or hesitant\",\n",
    "    u\":/\":\"Skeptical, annoyed, undecided, uneasy or hesitant\",\n",
    "    u\":-[.]\":\"Skeptical, annoyed, undecided, uneasy or hesitant\",\n",
    "    u\">:[(\\\\\\)]\":\"Skeptical, annoyed, undecided, uneasy or hesitant\",\n",
    "    u\">:/\":\"Skeptical, annoyed, undecided, uneasy or hesitant\",\n",
    "    u\":[(\\\\\\)]\":\"Skeptical, annoyed, undecided, uneasy or hesitant\",\n",
    "    u\"=/\":\"Skeptical, annoyed, undecided, uneasy or hesitant\",\n",
    "    u\"=[(\\\\\\)]\":\"Skeptical, annoyed, undecided, uneasy or hesitant\",\n",
    "    u\":L\":\"Skeptical, annoyed, undecided, uneasy or hesitant\",\n",
    "    u\"=L\":\"Skeptical, annoyed, undecided, uneasy or hesitant\",\n",
    "    u\":S\":\"Skeptical, annoyed, undecided, uneasy or hesitant\",\n",
    "    u\":‑\\|\":\"Straight face\",\n",
    "    u\":\\|\":\"Straight face\",\n",
    "    u\":$\":\"Embarrassed or blushing\",\n",
    "    u\":‑x\":\"Sealed lips or wearing braces or tongue-tied\",\n",
    "    u\":x\":\"Sealed lips or wearing braces or tongue-tied\",\n",
    "    u\":‑#\":\"Sealed lips or wearing braces or tongue-tied\",\n",
    "    u\":#\":\"Sealed lips or wearing braces or tongue-tied\",\n",
    "    u\":‑&\":\"Sealed lips or wearing braces or tongue-tied\",\n",
    "    u\":&\":\"Sealed lips or wearing braces or tongue-tied\",\n",
    "    u\"O:‑\\)\":\"Angel, saint or innocent\",\n",
    "    u\"O:\\)\":\"Angel, saint or innocent\",\n",
    "    u\"0:‑3\":\"Angel, saint or innocent\",\n",
    "    u\"0:3\":\"Angel, saint or innocent\",\n",
    "    u\"0:‑\\)\":\"Angel, saint or innocent\",\n",
    "    u\"0:\\)\":\"Angel, saint or innocent\",\n",
    "    u\":‑b\":\"Tongue sticking out, cheeky, playful or blowing a raspberry\",\n",
    "    u\"0;\\^\\)\":\"Angel, saint or innocent\",\n",
    "    u\">:‑\\)\":\"Evil or devilish\",\n",
    "    u\">:\\)\":\"Evil or devilish\",\n",
    "    u\"\\}:‑\\)\":\"Evil or devilish\",\n",
    "    u\"\\}:\\)\":\"Evil or devilish\",\n",
    "    u\"3:‑\\)\":\"Evil or devilish\",\n",
    "    u\"3:\\)\":\"Evil or devilish\",\n",
    "    u\">;\\)\":\"Evil or devilish\",\n",
    "    u\"\\|;‑\\)\":\"Cool\",\n",
    "    u\"\\|‑O\":\"Bored\",\n",
    "    u\":‑J\":\"Tongue-in-cheek\",\n",
    "    u\"#‑\\)\":\"Party all night\",\n",
    "    u\"%‑\\)\":\"Drunk or confused\",\n",
    "    u\"%\\)\":\"Drunk or confused\",\n",
    "    u\":-###..\":\"Being sick\",\n",
    "    u\":###..\":\"Being sick\",\n",
    "    u\"<:‑\\|\":\"Dump\",\n",
    "    u\"\\(>_<\\)\":\"Troubled\",\n",
    "    u\"\\(>_<\\)>\":\"Troubled\",\n",
    "    u\"\\(';'\\)\":\"Baby\",\n",
    "    u\"\\(\\^\\^>``\":\"Nervous or Embarrassed or Troubled or Shy or Sweat drop\",\n",
    "    u\"\\(\\^_\\^;\\)\":\"Nervous or Embarrassed or Troubled or Shy or Sweat drop\",\n",
    "    u\"\\(-_-;\\)\":\"Nervous or Embarrassed or Troubled or Shy or Sweat drop\",\n",
    "    u\"\\(~_~;\\) \\(・\\.・;\\)\":\"Nervous or Embarrassed or Troubled or Shy or Sweat drop\",\n",
    "    u\"\\(-_-\\)zzz\":\"Sleeping\",\n",
    "    u\"\\(\\^_-\\)\":\"Wink\",\n",
    "    u\"\\(\\(\\+_\\+\\)\\)\":\"Confused\",\n",
    "    u\"\\(\\+o\\+\\)\":\"Confused\",\n",
    "    u\"\\(o\\|o\\)\":\"Ultraman\",\n",
    "    u\"\\^_\\^\":\"Joyful\",\n",
    "    u\"\\(\\^_\\^\\)/\":\"Joyful\",\n",
    "    u\"\\(\\^O\\^\\)／\":\"Joyful\",\n",
    "    u\"\\(\\^o\\^\\)／\":\"Joyful\",\n",
    "    u\"\\(__\\)\":\"Kowtow as a sign of respect, or dogeza for apology\",\n",
    "    u\"_\\(\\._\\.\\)_\":\"Kowtow as a sign of respect, or dogeza for apology\",\n",
    "    u\"<\\(_ _\\)>\":\"Kowtow as a sign of respect, or dogeza for apology\",\n",
    "    u\"<m\\(__\\)m>\":\"Kowtow as a sign of respect, or dogeza for apology\",\n",
    "    u\"m\\(__\\)m\":\"Kowtow as a sign of respect, or dogeza for apology\",\n",
    "    u\"m\\(_ _\\)m\":\"Kowtow as a sign of respect, or dogeza for apology\",\n",
    "    u\"\\('_'\\)\":\"Sad or Crying\",\n",
    "    u\"\\(/_;\\)\":\"Sad or Crying\",\n",
    "    u\"\\(T_T\\) \\(;_;\\)\":\"Sad or Crying\",\n",
    "    u\"\\(;_;\":\"Sad of Crying\",\n",
    "    u\"\\(;_:\\)\":\"Sad or Crying\",\n",
    "    u\"\\(;O;\\)\":\"Sad or Crying\",\n",
    "    u\"\\(:_;\\)\":\"Sad or Crying\",\n",
    "    u\"\\(ToT\\)\":\"Sad or Crying\",\n",
    "    u\";_;\":\"Sad or Crying\",\n",
    "    u\";-;\":\"Sad or Crying\",\n",
    "    u\";n;\":\"Sad or Crying\",\n",
    "    u\";;\":\"Sad or Crying\",\n",
    "    u\"Q\\.Q\":\"Sad or Crying\",\n",
    "    u\"T\\.T\":\"Sad or Crying\",\n",
    "    u\"QQ\":\"Sad or Crying\",\n",
    "    u\"Q_Q\":\"Sad or Crying\",\n",
    "    u\"\\(-\\.-\\)\":\"Shame\",\n",
    "    u\"\\(-_-\\)\":\"Shame\",\n",
    "    u\"\\(一一\\)\":\"Shame\",\n",
    "    u\"\\(；一_一\\)\":\"Shame\",\n",
    "    u\"\\(=_=\\)\":\"Tired\",\n",
    "    u\"\\(=\\^\\·\\^=\\)\":\"cat\",\n",
    "    u\"\\(=\\^\\·\\·\\^=\\)\":\"cat\",\n",
    "    u\"=_\\^=\t\":\"cat\",\n",
    "    u\"\\(\\.\\.\\)\":\"Looking down\",\n",
    "    u\"\\(\\._\\.\\)\":\"Looking down\",\n",
    "    u\"\\^m\\^\":\"Giggling with hand covering mouth\",\n",
    "    u\"\\(\\・\\・?\":\"Confusion\",\n",
    "    u\"\\(?_?\\)\":\"Confusion\",\n",
    "    u\">\\^_\\^<\":\"Normal Laugh\",\n",
    "    u\"<\\^!\\^>\":\"Normal Laugh\",\n",
    "    u\"\\^/\\^\":\"Normal Laugh\",\n",
    "    u\"\\（\\*\\^_\\^\\*）\" :\"Normal Laugh\",\n",
    "    u\"\\(\\^<\\^\\) \\(\\^\\.\\^\\)\":\"Normal Laugh\",\n",
    "    u\"\\(^\\^\\)\":\"Normal Laugh\",\n",
    "    u\"\\(\\^\\.\\^\\)\":\"Normal Laugh\",\n",
    "    u\"\\(\\^_\\^\\.\\)\":\"Normal Laugh\",\n",
    "    u\"\\(\\^_\\^\\)\":\"Normal Laugh\",\n",
    "    u\"\\(\\^\\^\\)\":\"Normal Laugh\",\n",
    "    u\"\\(\\^J\\^\\)\":\"Normal Laugh\",\n",
    "    u\"\\(\\*\\^\\.\\^\\*\\)\":\"Normal Laugh\",\n",
    "    u\"\\(\\^—\\^\\）\":\"Normal Laugh\",\n",
    "    u\"\\(#\\^\\.\\^#\\)\":\"Normal Laugh\",\n",
    "    u\"\\（\\^—\\^\\）\":\"Waving\",\n",
    "    u\"\\(;_;\\)/~~~\":\"Waving\",\n",
    "    u\"\\(\\^\\.\\^\\)/~~~\":\"Waving\",\n",
    "    u\"\\(-_-\\)/~~~ \\($\\·\\·\\)/~~~\":\"Waving\",\n",
    "    u\"\\(T_T\\)/~~~\":\"Waving\",\n",
    "    u\"\\(ToT\\)/~~~\":\"Waving\",\n",
    "    u\"\\(\\*\\^0\\^\\*\\)\":\"Excited\",\n",
    "    u\"\\(\\*_\\*\\)\":\"Amazed\",\n",
    "    u\"\\(\\*_\\*;\":\"Amazed\",\n",
    "    u\"\\(\\+_\\+\\) \\(@_@\\)\":\"Amazed\",\n",
    "    u\"\\(\\*\\^\\^\\)v\":\"Laughing,Cheerful\",\n",
    "    u\"\\(\\^_\\^\\)v\":\"Laughing,Cheerful\",\n",
    "    u\"\\(\\(d[-_-]b\\)\\)\":\"Headphones,Listening to music\",\n",
    "    u'\\(-\"-\\)':\"Worried\",\n",
    "    u\"\\(ーー;\\)\":\"Worried\",\n",
    "    u\"\\(\\^0_0\\^\\)\":\"Eyeglasses\",\n",
    "    u\"\\(\\＾ｖ\\＾\\)\":\"Happy\",\n",
    "    u\"\\(\\＾ｕ\\＾\\)\":\"Happy\",\n",
    "    u\"\\(\\^\\)o\\(\\^\\)\":\"Happy\",\n",
    "    u\"\\(\\^O\\^\\)\":\"Happy\",\n",
    "    u\"\\(\\^o\\^\\)\":\"Happy\",\n",
    "    u\"\\)\\^o\\^\\(\":\"Happy\",\n",
    "    u\":O o_O\":\"Surprised\",\n",
    "    u\"o_0\":\"Surprised\",\n",
    "    u\"o\\.O\":\"Surpised\",\n",
    "    u\"\\(o\\.o\\)\":\"Surprised\",\n",
    "    u\"oO\":\"Surprised\",\n",
    "    u\"\\(\\*￣m￣\\)\":\"Dissatisfied\",\n",
    "    u\"\\(‘A`\\)\":\"Snubbed or Deflated\"\n",
    "}"
   ]
  },
  {
   "cell_type": "code",
   "execution_count": null,
   "metadata": {
    "colab": {
     "base_uri": "https://localhost:8080/",
     "height": 36
    },
    "executionInfo": {
     "elapsed": 15,
     "status": "ok",
     "timestamp": 1692880444121,
     "user": {
      "displayName": "harriet musinguzi",
      "userId": "10586340658233206628"
     },
     "user_tz": 0
    },
    "id": "mujsK_85PBjS",
    "outputId": "6b233fcb-ef27-4ddb-e3ae-0287a16757a0"
   },
   "outputs": [],
   "source": [
    "def remove_emoticons(text):\n",
    "    emoticon_pattern = re.compile(u'(' + u'|'.join(k for k in EMOTICONS) + u')')\n",
    "    return emoticon_pattern.sub(r'', text)\n",
    "\n",
    "remove_emoticons(\"Hello :-)\")"
   ]
  },
  {
   "cell_type": "markdown",
   "metadata": {
    "id": "P2-kEp9wPBjT"
   },
   "source": [
    "## Conversion of Emoticon to Words\n",
    "\n",
    "In the previous step, we have removed the emoticons. In case of use cases like sentiment analysis, the emoticons give some valuable information and so removing them might not be a good solution. What can we do in such cases?\n",
    "\n",
    "One way is to convert the emoticons to word format so that they can be used in downstream modeling processes. Thanks for Neel again for the wonderful dictionary that we have used in the previous step. We are going to use that again for conversion of emoticons to words."
   ]
  },
  {
   "cell_type": "code",
   "execution_count": null,
   "metadata": {
    "executionInfo": {
     "elapsed": 5,
     "status": "ok",
     "timestamp": 1692880445626,
     "user": {
      "displayName": "harriet musinguzi",
      "userId": "10586340658233206628"
     },
     "user_tz": 0
    },
    "id": "_lFMj1FxPBjX"
   },
   "outputs": [],
   "source": [
    "#df = pd.read_csv('C:/Users/Administrator/OneDrive/Documents/africa/dataafrica/socialdata.csv')\n",
    "# df = pd.read_csv('D:/senego/dataafrica/oldfiles/socialdata21new.csv', encoding = \"UTF-8\")\n"
   ]
  },
  {
   "cell_type": "code",
   "execution_count": null,
   "metadata": {
    "executionInfo": {
     "elapsed": 15,
     "status": "ok",
     "timestamp": 1692880449358,
     "user": {
      "displayName": "harriet musinguzi",
      "userId": "10586340658233206628"
     },
     "user_tz": 0
    },
    "id": "cAOIhiFaPBjY"
   },
   "outputs": [],
   "source": []
  },
  {
   "cell_type": "code",
   "execution_count": null,
   "metadata": {
    "colab": {
     "base_uri": "https://localhost:8080/"
    },
    "executionInfo": {
     "elapsed": 14,
     "status": "ok",
     "timestamp": 1692880449360,
     "user": {
      "displayName": "harriet musinguzi",
      "userId": "10586340658233206628"
     },
     "user_tz": 0
    },
    "id": "Q92i2XIfPBjZ",
    "outputId": "77e1bb22-ced1-4e59-980a-018d54a5dada"
   },
   "outputs": [],
   "source": [
    "df.columns"
   ]
  },
  {
   "cell_type": "code",
   "execution_count": null,
   "metadata": {
    "colab": {
     "base_uri": "https://localhost:8080/",
     "height": 36
    },
    "executionInfo": {
     "elapsed": 11,
     "status": "ok",
     "timestamp": 1692880449990,
     "user": {
      "displayName": "harriet musinguzi",
      "userId": "10586340658233206628"
     },
     "user_tz": 0
    },
    "id": "6dEvP2AJPBjZ",
    "outputId": "14997e51-7985-464b-9436-61aa4504ef07"
   },
   "outputs": [],
   "source": [
    "def convert_emoticons(text):\n",
    "    for emot in EMOTICONS:\n",
    "        text = re.sub(u'('+emot+')', \"_\".join(EMOTICONS[emot].replace(\",\",\"\").split()), text)\n",
    "    return text\n",
    "\n",
    "\n",
    "convert_emoticons(\"Hello :-)\")"
   ]
  },
  {
   "cell_type": "code",
   "execution_count": null,
   "metadata": {
    "colab": {
     "base_uri": "https://localhost:8080/"
    },
    "executionInfo": {
     "elapsed": 19595,
     "status": "ok",
     "timestamp": 1692880493584,
     "user": {
      "displayName": "harriet musinguzi",
      "userId": "10586340658233206628"
     },
     "user_tz": 0
    },
    "id": "znpXx3AaPBja",
    "outputId": "6e3c5b48-bc63-4aed-897b-0e2267923f24",
    "scrolled": true
   },
   "outputs": [],
   "source": [
    "def convert_emoticons(text):\n",
    "    for emot in EMOTICONS:\n",
    "        text = re.sub(u'('+emot+')', \"_\".join(EMOTICONS[emot].replace(\",\",\"\").split()), text)\n",
    "    return text\n",
    "\n",
    "df['Text_emt'] = df['alltext'].astype(str)\n",
    "df['Text_emt'] = df['alltext'].apply(convert_emoticons)\n",
    "#dataset.to_csv('output.csv',index=False, encoding='utf-8')\n",
    "df['Text_emt'].head()"
   ]
  },
  {
   "cell_type": "code",
   "execution_count": null,
   "metadata": {
    "colab": {
     "base_uri": "https://localhost:8080/",
     "height": 363
    },
    "executionInfo": {
     "elapsed": 16,
     "status": "ok",
     "timestamp": 1692880493586,
     "user": {
      "displayName": "harriet musinguzi",
      "userId": "10586340658233206628"
     },
     "user_tz": 0
    },
    "id": "yUgp1GCAPBjb",
    "outputId": "bca3a4ba-ee31-4168-9991-3527dcd776a5",
    "scrolled": true
   },
   "outputs": [],
   "source": [
    "df.head(10)"
   ]
  },
  {
   "cell_type": "code",
   "execution_count": null,
   "metadata": {
    "colab": {
     "base_uri": "https://localhost:8080/",
     "height": 36
    },
    "executionInfo": {
     "elapsed": 12,
     "status": "ok",
     "timestamp": 1692880499563,
     "user": {
      "displayName": "harriet musinguzi",
      "userId": "10586340658233206628"
     },
     "user_tz": 0
    },
    "id": "X0X4_2WQPBjd",
    "outputId": "844847fd-f834-4b18-c6b0-18661882b024"
   },
   "outputs": [],
   "source": [
    "text = \"I am sad :()\"\n",
    "convert_emoticons(text)"
   ]
  },
  {
   "cell_type": "markdown",
   "metadata": {
    "id": "Tab54GflPBje"
   },
   "source": [
    "This method might be better for some use cases when we do not want to miss out on the emoticon information.\n",
    "\n",
    "## Conversion of Emoji to Words\n",
    "\n",
    "Now let us do the same for Emojis as well. Neel Shah has put together a list of emojis with the corresponding words as well as part of his [Github repo](https://github.com/NeelShah18/emot/blob/master/emot/emo_unicode.py). We are going to make use of this dictionary to convert the emojis to corresponding words.\n",
    "\n",
    "Again this conversion might be better than emoji removal for certain use cases. Please use the one that is suitable for the use case."
   ]
  },
  {
   "cell_type": "code",
   "execution_count": null,
   "metadata": {
    "colab": {
     "base_uri": "https://localhost:8080/",
     "height": 36
    },
    "executionInfo": {
     "elapsed": 40,
     "status": "ok",
     "timestamp": 1692880506727,
     "user": {
      "displayName": "harriet musinguzi",
      "userId": "10586340658233206628"
     },
     "user_tz": 0
    },
    "id": "IYETcO4qPBkM",
    "outputId": "d1bdb84a-81d2-47ba-da78-2382fdb1c306"
   },
   "outputs": [],
   "source": [
    "def convert_emoticons(text):\n",
    "    for emot in EMOTICONS:\n",
    "        text = re.sub(u'('+emot+')', \"_\".join(EMOTICONS[emot].replace(\",\",\"\").split()), text)\n",
    "    return text\n",
    "\n",
    "text = \"Hello :-) :-)\"\n",
    "convert_emoticons(text)"
   ]
  },
  {
   "cell_type": "code",
   "execution_count": null,
   "metadata": {
    "colab": {
     "base_uri": "https://localhost:8080/",
     "height": 36
    },
    "executionInfo": {
     "elapsed": 11,
     "status": "ok",
     "timestamp": 1692880509209,
     "user": {
      "displayName": "harriet musinguzi",
      "userId": "10586340658233206628"
     },
     "user_tz": 0
    },
    "id": "dl_dtExjPBkN",
    "outputId": "1aff1dcd-961f-4af2-89ef-60fe31ca6f44"
   },
   "outputs": [],
   "source": [
    "def convert_emojis(text):\n",
    "    for emot in UNICODE_EMO:\n",
    "        text = re.sub(r'('+emot+')', \"_\".join(UNICODE_EMO[emot].replace(\",\",\"\").replace(\":\",\"\").split()), text)\n",
    "    return text\n",
    "\n",
    "text = \"EP1 ➡️ La ville vue par les \"\n",
    "#\"game is on 🔥\"\n",
    "convert_emojis(text)"
   ]
  },
  {
   "cell_type": "code",
   "execution_count": null,
   "metadata": {
    "colab": {
     "base_uri": "https://localhost:8080/",
     "height": 36
    },
    "executionInfo": {
     "elapsed": 16,
     "status": "ok",
     "timestamp": 1692880513424,
     "user": {
      "displayName": "harriet musinguzi",
      "userId": "10586340658233206628"
     },
     "user_tz": 0
    },
    "id": "_gvxoKqFPBkP",
    "outputId": "caefbc7c-0978-4bd1-e6bc-7ab85fae97ff"
   },
   "outputs": [],
   "source": [
    "text = \"🔴 Top 30 countries in vaccinations against COVID-19 (updated April 29th 2021)\"\n",
    "convert_emojis(text)"
   ]
  },
  {
   "cell_type": "code",
   "execution_count": null,
   "metadata": {
    "colab": {
     "base_uri": "https://localhost:8080/"
    },
    "executionInfo": {
     "elapsed": 2945421,
     "status": "ok",
     "timestamp": 1692883461054,
     "user": {
      "displayName": "harriet musinguzi",
      "userId": "10586340658233206628"
     },
     "user_tz": 0
    },
    "id": "LqPAYNNjPBkQ",
    "outputId": "9d32e628-9da1-413b-8def-9bf028acdc3c"
   },
   "outputs": [],
   "source": [
    "#from emot import EMOTICONS\n",
    "\n",
    "def convert_emojis(text):\n",
    "    for emot in UNICODE_EMO:\n",
    "        text = re.sub(r'('+emot+')', \"_\".join(UNICODE_EMO[emot].replace(\",\",\"\").replace(\":\",\"\").split()), text)\n",
    "    return text\n",
    "df['Text_emj'] = df['Text_emt'].astype(str)\n",
    "df['Text_emj'] = df['Text_emt'].apply(convert_emojis)\n",
    "#dataset.to_csv('output.csv',index=False, encoding='utf-8')\n",
    "df['Text_emj'].head()"
   ]
  },
  {
   "cell_type": "code",
   "execution_count": null,
   "metadata": {
    "colab": {
     "base_uri": "https://localhost:8080/",
     "height": 536
    },
    "executionInfo": {
     "elapsed": 82,
     "status": "ok",
     "timestamp": 1692883461057,
     "user": {
      "displayName": "harriet musinguzi",
      "userId": "10586340658233206628"
     },
     "user_tz": 0
    },
    "id": "S0gGiqp7PBkR",
    "outputId": "5c337821-e37e-41cf-cf81-aed672a9fa6c"
   },
   "outputs": [],
   "source": [
    "df.head(10)"
   ]
  },
  {
   "cell_type": "code",
   "execution_count": null,
   "metadata": {
    "colab": {
     "base_uri": "https://localhost:8080/",
     "height": 484
    },
    "executionInfo": {
     "elapsed": 76,
     "status": "ok",
     "timestamp": 1692883461060,
     "user": {
      "displayName": "harriet musinguzi",
      "userId": "10586340658233206628"
     },
     "user_tz": 0
    },
    "id": "ngnrHBXlPBkS",
    "outputId": "12f3bbe6-1c62-4c1c-f657-8c38b5b47b8d",
    "scrolled": true
   },
   "outputs": [],
   "source": [
    "#df1= df.copy()\n",
    "shuffled = df.sample(frac=1)\n",
    "shuffled.head(10)"
   ]
  },
  {
   "cell_type": "code",
   "execution_count": null,
   "metadata": {
    "colab": {
     "base_uri": "https://localhost:8080/"
    },
    "executionInfo": {
     "elapsed": 17425,
     "status": "ok",
     "timestamp": 1692883689637,
     "user": {
      "displayName": "harriet musinguzi",
      "userId": "10586340658233206628"
     },
     "user_tz": 0
    },
    "id": "bkxyH9yYisy6",
    "outputId": "3f908d49-b6ef-4601-cd19-f0395472ce44"
   },
   "outputs": [],
   "source": [
    "!pip install langdetect\n",
    "\n",
    "!pip install langid\n",
    "!pip install deep_translator"
   ]
  },
  {
   "cell_type": "code",
   "execution_count": null,
   "metadata": {
    "colab": {
     "base_uri": "https://localhost:8080/"
    },
    "executionInfo": {
     "elapsed": 197030,
     "status": "ok",
     "timestamp": 1692883902887,
     "user": {
      "displayName": "harriet musinguzi",
      "userId": "10586340658233206628"
     },
     "user_tz": 0
    },
    "id": "XHsDq8JtPBkS",
    "outputId": "7e5024ec-bf14-4f5d-d69c-e8c06978670b"
   },
   "outputs": [],
   "source": [
    "# Detect and convert languages\n",
    "from langdetect import detect\n",
    "def detect_my(text):\n",
    "   try:\n",
    "       return detect(text)\n",
    "   except:\n",
    "       return 'unknown'\n",
    "df['Text_langue'] = df['Text_emj'].apply(detect_my)\n",
    "df['Text_langue'].head(2)"
   ]
  },
  {
   "cell_type": "code",
   "execution_count": null,
   "metadata": {
    "executionInfo": {
     "elapsed": 3274,
     "status": "ok",
     "timestamp": 1692883981207,
     "user": {
      "displayName": "harriet musinguzi",
      "userId": "10586340658233206628"
     },
     "user_tz": 0
    },
    "id": "eDBrDI1fPBkT"
   },
   "outputs": [],
   "source": [
    "# df.to_csv(\"D:/senego/dataafrica/oldfiles/socialdatacleaned2allemoji.csv\", encoding = \"UTF-8\")\n",
    "df.to_csv(\"/content/drive/MyDrive/Colab Notebooks/socialdatacleaned2allemoji.csv\", encoding = \"UTF-8\")\n",
    "# df=df.astype(str)"
   ]
  },
  {
   "cell_type": "code",
   "execution_count": null,
   "metadata": {
    "executionInfo": {
     "elapsed": 10,
     "status": "ok",
     "timestamp": 1692883981210,
     "user": {
      "displayName": "harriet musinguzi",
      "userId": "10586340658233206628"
     },
     "user_tz": 0
    },
    "id": "aR6O_b4pPBkU",
    "scrolled": true
   },
   "outputs": [],
   "source": [
    "\n",
    "df_new=df['Text_langue'].value_counts().reset_index()#.plot(kind='bar')"
   ]
  },
  {
   "cell_type": "code",
   "execution_count": null,
   "metadata": {
    "colab": {
     "base_uri": "https://localhost:8080/",
     "height": 472
    },
    "executionInfo": {
     "elapsed": 13,
     "status": "ok",
     "timestamp": 1692883985356,
     "user": {
      "displayName": "harriet musinguzi",
      "userId": "10586340658233206628"
     },
     "user_tz": 0
    },
    "id": "gFehb6rXPBkV",
    "outputId": "930d0fa5-4400-44a1-915a-1d439116df2e",
    "scrolled": false
   },
   "outputs": [],
   "source": [
    "df_new=df['Text_langue'].value_counts().reset_index()#.plot(kind='bar')\n",
    "ax = sns.barplot(x='Text_langue', y='index', data=df_new)\n",
    "ax.set_title('Count of records for all languages in data')\n",
    "ax.set_xlabel('Languages in data')\n",
    "ax.set_ylabel('Number of count')\n",
    "plt.show()"
   ]
  },
  {
   "cell_type": "code",
   "execution_count": null,
   "metadata": {
    "executionInfo": {
     "elapsed": 7,
     "status": "ok",
     "timestamp": 1692883985842,
     "user": {
      "displayName": "harriet musinguzi",
      "userId": "10586340658233206628"
     },
     "user_tz": 0
    },
    "id": "k4jm97dCPBkW"
   },
   "outputs": [],
   "source": [
    "textdf=df"
   ]
  },
  {
   "cell_type": "code",
   "execution_count": null,
   "metadata": {
    "executionInfo": {
     "elapsed": 6,
     "status": "ok",
     "timestamp": 1692883985843,
     "user": {
      "displayName": "harriet musinguzi",
      "userId": "10586340658233206628"
     },
     "user_tz": 0
    },
    "id": "FfS8XmwnPBkW"
   },
   "outputs": [],
   "source": [
    "train_en = textdf[textdf['Text_langue'] == 'en']\n",
    "train_not_en = textdf[textdf['Text_langue'] != 'en']"
   ]
  },
  {
   "cell_type": "code",
   "execution_count": null,
   "metadata": {
    "colab": {
     "base_uri": "https://localhost:8080/",
     "height": 556
    },
    "executionInfo": {
     "elapsed": 11,
     "status": "ok",
     "timestamp": 1692883987466,
     "user": {
      "displayName": "harriet musinguzi",
      "userId": "10586340658233206628"
     },
     "user_tz": 0
    },
    "id": "lB_5ATG4PBkX",
    "outputId": "c56d1704-e97f-49ea-9d17-5a153c29fb00",
    "scrolled": true
   },
   "outputs": [],
   "source": [
    "train_not_en.head(10)"
   ]
  },
  {
   "cell_type": "code",
   "execution_count": null,
   "metadata": {
    "colab": {
     "base_uri": "https://localhost:8080/",
     "height": 206
    },
    "executionInfo": {
     "elapsed": 14,
     "status": "ok",
     "timestamp": 1692883992766,
     "user": {
      "displayName": "harriet musinguzi",
      "userId": "10586340658233206628"
     },
     "user_tz": 0
    },
    "id": "HSy5g5kIPBkY",
    "outputId": "055b47bd-3ec8-420e-e276-926c93f23a58"
   },
   "outputs": [],
   "source": [
    "# Identify and remove missing values\n",
    "train_not_en.isna().head()"
   ]
  },
  {
   "cell_type": "code",
   "execution_count": null,
   "metadata": {
    "colab": {
     "base_uri": "https://localhost:8080/"
    },
    "executionInfo": {
     "elapsed": 94961,
     "status": "ok",
     "timestamp": 1692884089616,
     "user": {
      "displayName": "harriet musinguzi",
      "userId": "10586340658233206628"
     },
     "user_tz": 0
    },
    "id": "AbN3iiD1PBkY",
    "outputId": "41583dc1-e08a-4517-e380-bacd71dd1b7c",
    "scrolled": false
   },
   "outputs": [],
   "source": [
    "# Translating text not in English\n",
    "from deep_translator import GoogleTranslator\n",
    "import langid\n",
    "len_data = len( train_not_en)\n",
    "# For each article, we detect its language; if it's not English,\n",
    "# we ask Google Translate to translate it into English, otherwise we keep the source text\n",
    "gt = GoogleTranslator(source='auto', target='en')\n",
    "max_art_len = 1000  # Here, we truncate the content to first 1000 characters; Google Translate accepts texts\n",
    "                    # not longer than 5000 characters, but the volume of 1000 can be enough for classification\n",
    "                    # and enables us to reduce the time of working with translation service\n",
    "\n",
    "translated_arts = []\n",
    "\n",
    "for i in range(len( train_not_en)):\n",
    "    if i % 200 == 0:\n",
    "        print(f\"Translated {i} / {len_data}\")\n",
    "    cur_art =  train_not_en.iloc[i]['Text_emj'][:max_art_len]\n",
    "    translated_arts.append(cur_art if langid.classify(cur_art)[0] == 'en' else gt.translate(cur_art))\n",
    "\n",
    "train_not_en['Text_translate'] = translated_arts"
   ]
  },
  {
   "cell_type": "code",
   "execution_count": null,
   "metadata": {
    "colab": {
     "base_uri": "https://localhost:8080/"
    },
    "executionInfo": {
     "elapsed": 714,
     "status": "ok",
     "timestamp": 1692884090323,
     "user": {
      "displayName": "harriet musinguzi",
      "userId": "10586340658233206628"
     },
     "user_tz": 0
    },
    "id": "QxoIr8orPBkZ",
    "outputId": "5c7334a8-848e-4a4a-cb46-ac3d18c1b2d4"
   },
   "outputs": [],
   "source": [
    "# Detect and convert languages\n",
    "from langdetect import detect\n",
    "def detect_my(text):\n",
    "   try:\n",
    "       return detect(text)\n",
    "   except:\n",
    "       return 'unknown'\n",
    "train_not_en['Text_langue2'] = train_not_en['Text_translate'].apply(detect_my)\n",
    "train_not_en['Text_langue2'].head(2)"
   ]
  },
  {
   "cell_type": "code",
   "execution_count": null,
   "metadata": {
    "colab": {
     "base_uri": "https://localhost:8080/",
     "height": 472
    },
    "executionInfo": {
     "elapsed": 897,
     "status": "ok",
     "timestamp": 1692884269845,
     "user": {
      "displayName": "harriet musinguzi",
      "userId": "10586340658233206628"
     },
     "user_tz": 0
    },
    "id": "lPR9cTTMPBka",
    "outputId": "06bbff47-b602-4b63-86ab-a21cb709d4ad",
    "scrolled": false
   },
   "outputs": [],
   "source": [
    "df_new2=train_not_en['Text_langue2'].value_counts().reset_index()#.plot(kind='bar')\n",
    "ax = sns.barplot(x='Text_langue2', y='index', data=df_new2)\n",
    "ax.set_title('Count of records for all languages in data')\n",
    "ax.set_xlabel('Languages in data')\n",
    "ax.set_ylabel('Number of count')\n",
    "plt.show()"
   ]
  },
  {
   "cell_type": "code",
   "execution_count": null,
   "metadata": {
    "executionInfo": {
     "elapsed": 1031,
     "status": "ok",
     "timestamp": 1692884277790,
     "user": {
      "displayName": "harriet musinguzi",
      "userId": "10586340658233206628"
     },
     "user_tz": 0
    },
    "id": "AaWgNUnbPBkb"
   },
   "outputs": [],
   "source": [
    "# # We can compare source and translated articles\n",
    "# #train_not_en.head(10)\n",
    "# shuffled = train_not_en.sample(frac=1)\n",
    "# shuffled.head(10)"
   ]
  },
  {
   "cell_type": "code",
   "execution_count": null,
   "metadata": {
    "colab": {
     "base_uri": "https://localhost:8080/",
     "height": 556
    },
    "executionInfo": {
     "elapsed": 12,
     "status": "ok",
     "timestamp": 1692884279509,
     "user": {
      "displayName": "harriet musinguzi",
      "userId": "10586340658233206628"
     },
     "user_tz": 0
    },
    "id": "PKyr4LCsPBkb",
    "outputId": "b5fa7a79-f7cb-4444-8abc-310553475a5f",
    "scrolled": true
   },
   "outputs": [],
   "source": [
    "train_not_en.head(10)"
   ]
  },
  {
   "cell_type": "code",
   "execution_count": null,
   "metadata": {
    "colab": {
     "base_uri": "https://localhost:8080/"
    },
    "executionInfo": {
     "elapsed": 7,
     "status": "ok",
     "timestamp": 1692884282096,
     "user": {
      "displayName": "harriet musinguzi",
      "userId": "10586340658233206628"
     },
     "user_tz": 0
    },
    "id": "Ke9aMj86PBkc",
    "outputId": "8053227e-424f-4d47-eff5-5ba616e58097"
   },
   "outputs": [],
   "source": [
    "train_not_en.columns"
   ]
  },
  {
   "cell_type": "code",
   "execution_count": null,
   "metadata": {
    "colab": {
     "base_uri": "https://localhost:8080/",
     "height": 355
    },
    "executionInfo": {
     "elapsed": 4350,
     "status": "error",
     "timestamp": 1692884290269,
     "user": {
      "displayName": "harriet musinguzi",
      "userId": "10586340658233206628"
     },
     "user_tz": 0
    },
    "id": "rDdSoDg2PBkd",
    "outputId": "39e8b879-5fd1-4d5a-d4ad-94f1b1c95eb2",
    "scrolled": false
   },
   "outputs": [],
   "source": [
    "df_drop=train_not_en[['textid', 'Text', 'sourcetype',\n",
    "       'Text_langue', 'Text_translate', 'Text_langue2']]\n",
    "df_drop.head(10)"
   ]
  },
  {
   "cell_type": "code",
   "execution_count": null,
   "metadata": {
    "executionInfo": {
     "elapsed": 14,
     "status": "ok",
     "timestamp": 1692884290272,
     "user": {
      "displayName": "harriet musinguzi",
      "userId": "10586340658233206628"
     },
     "user_tz": 0
    },
    "id": "1H2tNQbePBkd"
   },
   "outputs": [],
   "source": [
    "train_en2 = train_not_en[train_not_en['Text_langue2'] == 'en']\n",
    "train_not_en2 = train_not_en[train_not_en['Text_langue2'] != 'en']"
   ]
  },
  {
   "cell_type": "code",
   "execution_count": null,
   "metadata": {
    "colab": {
     "base_uri": "https://localhost:8080/",
     "height": 1000
    },
    "executionInfo": {
     "elapsed": 2247,
     "status": "ok",
     "timestamp": 1692884295503,
     "user": {
      "displayName": "harriet musinguzi",
      "userId": "10586340658233206628"
     },
     "user_tz": 0
    },
    "id": "BgVJbuF1PBke",
    "outputId": "43cb413b-6f65-454f-e4a8-9d7957750fdb",
    "scrolled": true
   },
   "outputs": [],
   "source": [
    "\n",
    "# Remove column name 'A'\n",
    "#train_not_en = train_not_en.drop(['Text_translated'], axis=1)\n",
    "train_not_en2"
   ]
  },
  {
   "cell_type": "code",
   "execution_count": null,
   "metadata": {
    "colab": {
     "base_uri": "https://localhost:8080/"
    },
    "executionInfo": {
     "elapsed": 68,
     "status": "ok",
     "timestamp": 1692884295504,
     "user": {
      "displayName": "harriet musinguzi",
      "userId": "10586340658233206628"
     },
     "user_tz": 0
    },
    "id": "ue1W_qZePBkf",
    "outputId": "8731192e-8201-4d80-d145-b527a6631d77"
   },
   "outputs": [],
   "source": [
    "train_not_en2.shape"
   ]
  },
  {
   "cell_type": "code",
   "execution_count": null,
   "metadata": {
    "colab": {
     "base_uri": "https://localhost:8080/",
     "height": 1000
    },
    "executionInfo": {
     "elapsed": 58,
     "status": "ok",
     "timestamp": 1692884295505,
     "user": {
      "displayName": "harriet musinguzi",
      "userId": "10586340658233206628"
     },
     "user_tz": 0
    },
    "id": "fWwj9aWsPBkf",
    "outputId": "e3970cb6-91fa-46ae-aeb6-02aaa43778c5"
   },
   "outputs": [],
   "source": [
    "train_not_en2"
   ]
  },
  {
   "cell_type": "code",
   "execution_count": null,
   "metadata": {
    "colab": {
     "base_uri": "https://localhost:8080/",
     "height": 472
    },
    "executionInfo": {
     "elapsed": 54,
     "status": "ok",
     "timestamp": 1692884295506,
     "user": {
      "displayName": "harriet musinguzi",
      "userId": "10586340658233206628"
     },
     "user_tz": 0
    },
    "id": "RQILv3zEPBkg",
    "outputId": "08f16664-e25f-48e4-ba2a-7f14847677e5",
    "scrolled": false
   },
   "outputs": [],
   "source": [
    "df_new3=train_not_en2['Text_langue2'].value_counts().reset_index()#.plot(kind='bar')\n",
    "ax = sns.barplot(x='Text_langue2', y='index', data=df_new3)\n",
    "ax.set_title('Count of records for all languages in data')\n",
    "ax.set_xlabel('Languages in data')\n",
    "ax.set_ylabel('Number of count')\n",
    "plt.show()"
   ]
  },
  {
   "cell_type": "code",
   "execution_count": null,
   "metadata": {
    "colab": {
     "base_uri": "https://localhost:8080/",
     "height": 556
    },
    "executionInfo": {
     "elapsed": 52,
     "status": "ok",
     "timestamp": 1692884295508,
     "user": {
      "displayName": "harriet musinguzi",
      "userId": "10586340658233206628"
     },
     "user_tz": 0
    },
    "id": "44kREDEfPBkh",
    "outputId": "1c166bdb-aa66-4cb9-94f7-1f9bdb1f9822"
   },
   "outputs": [],
   "source": [
    "train_en2.head(10)"
   ]
  },
  {
   "cell_type": "code",
   "execution_count": null,
   "metadata": {
    "colab": {
     "base_uri": "https://localhost:8080/"
    },
    "executionInfo": {
     "elapsed": 50,
     "status": "ok",
     "timestamp": 1692884295509,
     "user": {
      "displayName": "harriet musinguzi",
      "userId": "10586340658233206628"
     },
     "user_tz": 0
    },
    "id": "P5M3FK1-PBki",
    "outputId": "9414a8e5-82fa-48fe-c97f-875082af0636"
   },
   "outputs": [],
   "source": [
    "train_en['Text_translate']= train_en['Text_emj']\n"
   ]
  },
  {
   "cell_type": "code",
   "execution_count": null,
   "metadata": {
    "colab": {
     "base_uri": "https://localhost:8080/",
     "height": 582
    },
    "executionInfo": {
     "elapsed": 38,
     "status": "ok",
     "timestamp": 1692884295510,
     "user": {
      "displayName": "harriet musinguzi",
      "userId": "10586340658233206628"
     },
     "user_tz": 0
    },
    "id": "HT0JeKSEPBki",
    "outputId": "c220c2bd-04cc-47d6-c509-fff43e3fe552",
    "scrolled": false
   },
   "outputs": [],
   "source": [
    "#train_en\n",
    "train_en2.dropna()"
   ]
  },
  {
   "cell_type": "code",
   "execution_count": null,
   "metadata": {
    "colab": {
     "base_uri": "https://localhost:8080/",
     "height": 614
    },
    "executionInfo": {
     "elapsed": 14,
     "status": "ok",
     "timestamp": 1692884296524,
     "user": {
      "displayName": "harriet musinguzi",
      "userId": "10586340658233206628"
     },
     "user_tz": 0
    },
    "id": "pQhcfIaaPBkk",
    "outputId": "3b92ad68-999f-4a38-9206-11f32a10e15e"
   },
   "outputs": [],
   "source": [
    "train_en.dropna()"
   ]
  },
  {
   "cell_type": "code",
   "execution_count": null,
   "metadata": {
    "colab": {
     "base_uri": "https://localhost:8080/",
     "height": 206
    },
    "executionInfo": {
     "elapsed": 12,
     "status": "ok",
     "timestamp": 1692884297804,
     "user": {
      "displayName": "harriet musinguzi",
      "userId": "10586340658233206628"
     },
     "user_tz": 0
    },
    "id": "IsNlCOcgPBkk",
    "outputId": "052930fe-ee6e-4bb7-d1c6-3bc278502b4e",
    "scrolled": true
   },
   "outputs": [],
   "source": [
    "train_en2.isna().head()"
   ]
  },
  {
   "cell_type": "code",
   "execution_count": null,
   "metadata": {
    "colab": {
     "base_uri": "https://localhost:8080/"
    },
    "executionInfo": {
     "elapsed": 56,
     "status": "ok",
     "timestamp": 1692884314815,
     "user": {
      "displayName": "harriet musinguzi",
      "userId": "10586340658233206628"
     },
     "user_tz": 0
    },
    "id": "RQr0psb4PBkl",
    "outputId": "8c561a92-2a68-4350-8990-376aefd8bb46",
    "scrolled": true
   },
   "outputs": [],
   "source": [
    "# train_not_en.isna().head()\n",
    "train_en['Text_langue2']= train_en['Text_langue']"
   ]
  },
  {
   "cell_type": "code",
   "execution_count": null,
   "metadata": {
    "colab": {
     "base_uri": "https://localhost:8080/",
     "height": 519
    },
    "executionInfo": {
     "elapsed": 47,
     "status": "ok",
     "timestamp": 1692884314816,
     "user": {
      "displayName": "harriet musinguzi",
      "userId": "10586340658233206628"
     },
     "user_tz": 0
    },
    "id": "8c5UadRwPBkm",
    "outputId": "b9addba6-91e9-4c2a-a02a-83d1e272d182",
    "scrolled": true
   },
   "outputs": [],
   "source": [
    "#train_not_en\n",
    "#df.head(10)\n",
    "shuffledlw = train_not_en.sample(frac=1)\n",
    "shuffledlw.head(10)"
   ]
  },
  {
   "cell_type": "code",
   "execution_count": null,
   "metadata": {
    "executionInfo": {
     "elapsed": 45,
     "status": "ok",
     "timestamp": 1692884314818,
     "user": {
      "displayName": "harriet musinguzi",
      "userId": "10586340658233206628"
     },
     "user_tz": 0
    },
    "id": "9iRgYhgyPBkn"
   },
   "outputs": [],
   "source": [
    "df2111 = pd.concat([train_en, train_not_en])"
   ]
  },
  {
   "cell_type": "code",
   "execution_count": null,
   "metadata": {
    "colab": {
     "base_uri": "https://localhost:8080/",
     "height": 571
    },
    "executionInfo": {
     "elapsed": 45,
     "status": "ok",
     "timestamp": 1692884314819,
     "user": {
      "displayName": "harriet musinguzi",
      "userId": "10586340658233206628"
     },
     "user_tz": 0
    },
    "id": "grOoD9ZTPBko",
    "outputId": "76f86283-2e29-469e-ba6f-6c24eb4f05d9",
    "scrolled": true
   },
   "outputs": [],
   "source": [
    "df2111.head(10)"
   ]
  },
  {
   "cell_type": "code",
   "execution_count": null,
   "metadata": {
    "colab": {
     "base_uri": "https://localhost:8080/"
    },
    "executionInfo": {
     "elapsed": 43,
     "status": "ok",
     "timestamp": 1692884314820,
     "user": {
      "displayName": "harriet musinguzi",
      "userId": "10586340658233206628"
     },
     "user_tz": 0
    },
    "id": "gy_JyM9CPBko",
    "outputId": "b0fd75aa-b073-4b08-dfae-d3ee1da83976"
   },
   "outputs": [],
   "source": [
    "df2111.columns"
   ]
  },
  {
   "cell_type": "code",
   "execution_count": null,
   "metadata": {
    "colab": {
     "base_uri": "https://localhost:8080/",
     "height": 472
    },
    "executionInfo": {
     "elapsed": 30,
     "status": "ok",
     "timestamp": 1692884314821,
     "user": {
      "displayName": "harriet musinguzi",
      "userId": "10586340658233206628"
     },
     "user_tz": 0
    },
    "id": "vNDd_K7YPBkp",
    "outputId": "0728f806-5da6-4c07-a0c0-61ae7eeb4cd4",
    "scrolled": true
   },
   "outputs": [],
   "source": [
    "df_new21=df2111['Text_langue2'].value_counts().reset_index()#.plot(kind='bar')\n",
    "ax = sns.barplot(x='Text_langue2', y='index', data=df_new21)\n",
    "ax.set_title('Count of records for all languages in data')\n",
    "ax.set_xlabel('Languages in data')\n",
    "ax.set_ylabel('Number of count')\n",
    "plt.show()"
   ]
  },
  {
   "cell_type": "code",
   "execution_count": null,
   "metadata": {
    "executionInfo": {
     "elapsed": 3644,
     "status": "ok",
     "timestamp": 1692884421873,
     "user": {
      "displayName": "harriet musinguzi",
      "userId": "10586340658233206628"
     },
     "user_tz": 0
    },
    "id": "Mr1Rf5koPBkq"
   },
   "outputs": [],
   "source": [
    "# df2111.to_csv(\"D:/senego/dataafrica/oldfiles/socialdatanewclean2.csv\", encoding = \"UTF-8\")\n",
    "df2111.to_csv('/content/drive/MyDrive/Colab Notebooks/newfacebook_df2.csv')\n",
    "# df=pd.read_csv(\"D:/senego/dataafrica/oldfiles/socialdatanewclean.csv\", encoding = \"UTF-8\")\n",
    "#df = pd.read_csv('C:/Users/Administrator/OneDrive/Documents/africa/dataafrica/socialdatanew.csv', encoding = \"UTF-8\")"
   ]
  },
  {
   "cell_type": "code",
   "execution_count": null,
   "metadata": {
    "colab": {
     "base_uri": "https://localhost:8080/",
     "height": 310
    },
    "executionInfo": {
     "elapsed": 679,
     "status": "ok",
     "timestamp": 1692884424994,
     "user": {
      "displayName": "harriet musinguzi",
      "userId": "10586340658233206628"
     },
     "user_tz": 0
    },
    "id": "9ioLEXxXPBkq",
    "outputId": "3a8fdbec-3e1d-4588-e0e1-36ed849c896c",
    "scrolled": true
   },
   "outputs": [],
   "source": [
    "df=df2111.copy()\n",
    "df=df.astype(str)\n",
    "df.head()"
   ]
  },
  {
   "cell_type": "code",
   "execution_count": null,
   "metadata": {
    "executionInfo": {
     "elapsed": 767,
     "status": "ok",
     "timestamp": 1692884429165,
     "user": {
      "displayName": "harriet musinguzi",
      "userId": "10586340658233206628"
     },
     "user_tz": 0
    },
    "id": "R0Zi54A5PBkr"
   },
   "outputs": [],
   "source": [
    "# df=df.astype(str)"
   ]
  },
  {
   "cell_type": "code",
   "execution_count": null,
   "metadata": {
    "colab": {
     "base_uri": "https://localhost:8080/"
    },
    "executionInfo": {
     "elapsed": 8,
     "status": "ok",
     "timestamp": 1692884432952,
     "user": {
      "displayName": "harriet musinguzi",
      "userId": "10586340658233206628"
     },
     "user_tz": 0
    },
    "id": "AQ9Fgn5sPBks",
    "outputId": "86ba5677-21b2-4e1f-b004-f9cc2dd44dac"
   },
   "outputs": [],
   "source": [
    "# Converting all the characters in a text into lower case\n",
    "def casefoldingText(text):\n",
    "    text = text.lower()\n",
    "    return text\n",
    "#df['Text_lower'] = df['Text_translate'].astype(str)\n",
    "df['Text_lower'] = df['Text_translate'].apply(casefoldingText)\n",
    "df['Text_lower'].head()"
   ]
  },
  {
   "cell_type": "code",
   "execution_count": null,
   "metadata": {
    "colab": {
     "base_uri": "https://localhost:8080/",
     "height": 710
    },
    "executionInfo": {
     "elapsed": 16,
     "status": "ok",
     "timestamp": 1692884433895,
     "user": {
      "displayName": "harriet musinguzi",
      "userId": "10586340658233206628"
     },
     "user_tz": 0
    },
    "id": "9DhIXDmUPBkt",
    "outputId": "e0f7e244-dfa7-4662-d9a7-4311b4952cda"
   },
   "outputs": [],
   "source": [
    "#df.head(10)\n",
    "shuffledlw = df.sample(frac=1)\n",
    "shuffledlw.head(10)"
   ]
  },
  {
   "cell_type": "code",
   "execution_count": null,
   "metadata": {
    "executionInfo": {
     "elapsed": 6,
     "status": "ok",
     "timestamp": 1692884436841,
     "user": {
      "displayName": "harriet musinguzi",
      "userId": "10586340658233206628"
     },
     "user_tz": 0
    },
    "id": "wx-nIYGLPBku"
   },
   "outputs": [],
   "source": [
    "#df = shuffledlw.copy()"
   ]
  },
  {
   "cell_type": "code",
   "execution_count": null,
   "metadata": {
    "colab": {
     "base_uri": "https://localhost:8080/"
    },
    "executionInfo": {
     "elapsed": 1210,
     "status": "ok",
     "timestamp": 1692884441434,
     "user": {
      "displayName": "harriet musinguzi",
      "userId": "10586340658233206628"
     },
     "user_tz": 0
    },
    "id": "9Uybi_FvPBku",
    "outputId": "de07654c-8315-4497-b599-22ab2e93317d"
   },
   "outputs": [],
   "source": [
    "# Remove unwanted characters\n",
    "import string\n",
    "def cleaningText(text):\n",
    "    text = re.sub(r'@[A-Za-z0-9]+', '', text) # remove mentions\n",
    "    text = re.sub(r'#[A-Za-z0-9]+', '', text) # remove hashtag\n",
    "    text = re.sub(r'RT[\\s]', '', text) # remove RT\n",
    "    text = re.sub(r\"http\\S+\", '', text) # remove link\n",
    "    text = re.sub(r\"[!@#$]\", '', text) # remove link\n",
    "    text = re.sub(r'[0-9]+', '', text) # remove numbers\n",
    "    text = re.sub(r'[^\\x00-\\x7f]', \"\", text) # non ASCII characters\n",
    "\n",
    "    text = text.replace('\\n', ' ')# replace new line into space\n",
    "    text = text.translate(str.maketrans('', '', string.punctuation)) # remove all punctuations\n",
    "    text = text.strip(' ') # remove characters space from both left and right text\n",
    "    return text\n",
    "df['Text_punct'] = df['Text_lower'].astype(str)\n",
    "df['Text_punct'] = df['Text_lower'].apply(cleaningText)\n",
    "df['Text_punct'].head()"
   ]
  },
  {
   "cell_type": "code",
   "execution_count": null,
   "metadata": {
    "colab": {
     "base_uri": "https://localhost:8080/"
    },
    "executionInfo": {
     "elapsed": 22,
     "status": "ok",
     "timestamp": 1692884441436,
     "user": {
      "displayName": "harriet musinguzi",
      "userId": "10586340658233206628"
     },
     "user_tz": 0
    },
    "id": "XQeDGWamPBkw",
    "outputId": "ba2ddef7-909d-4ac3-ca3b-c073989a4156"
   },
   "outputs": [],
   "source": [
    "df.columns"
   ]
  },
  {
   "cell_type": "code",
   "execution_count": null,
   "metadata": {
    "colab": {
     "base_uri": "https://localhost:8080/",
     "height": 536
    },
    "executionInfo": {
     "elapsed": 545,
     "status": "ok",
     "timestamp": 1692884460712,
     "user": {
      "displayName": "harriet musinguzi",
      "userId": "10586340658233206628"
     },
     "user_tz": 0
    },
    "id": "ophjje0oPBkw",
    "outputId": "70693c69-e855-402d-d274-252d260762d3",
    "scrolled": true
   },
   "outputs": [],
   "source": [
    "df_show=df[['textid', 'alltext', 'sourcetype','Text_translate', 'Text_lower',\n",
    "       'Text_punct']]\n",
    "df_show=df_show.sample(frac=1)\n",
    "df_show.head(10)"
   ]
  },
  {
   "cell_type": "code",
   "execution_count": null,
   "metadata": {
    "colab": {
     "base_uri": "https://localhost:8080/",
     "height": 233
    },
    "executionInfo": {
     "elapsed": 11,
     "status": "ok",
     "timestamp": 1692884446538,
     "user": {
      "displayName": "harriet musinguzi",
      "userId": "10586340658233206628"
     },
     "user_tz": 0
    },
    "id": "0ghOQA8LPBkx",
    "outputId": "04589513-ee31-4e15-fd12-cfbe45c3768e"
   },
   "outputs": [],
   "source": [
    "df.head(2)"
   ]
  },
  {
   "cell_type": "code",
   "execution_count": null,
   "metadata": {
    "colab": {
     "base_uri": "https://localhost:8080/"
    },
    "executionInfo": {
     "elapsed": 4696,
     "status": "ok",
     "timestamp": 1692884454264,
     "user": {
      "displayName": "harriet musinguzi",
      "userId": "10586340658233206628"
     },
     "user_tz": 0
    },
    "id": "bxg_DjZbPBky",
    "outputId": "b7df2280-00c8-4bd8-97a4-1858187b5a93"
   },
   "outputs": [],
   "source": [
    "# Remove HTML/XML tags\n",
    "from bs4 import BeautifulSoup\n",
    "import html as ihtml\n",
    "def html(text):\n",
    "    return BeautifulSoup(text, \"lxml\").text\n",
    "df['Text_tags'] = df['Text_punct'].astype(str)\n",
    "df['Text_tags'] = df['Text_punct'].apply(html)\n",
    "df['Text_tags'].head()"
   ]
  },
  {
   "cell_type": "markdown",
   "metadata": {
    "id": "0jYKN-OzPBkz"
   },
   "source": [
    "## Normalization of data"
   ]
  },
  {
   "cell_type": "markdown",
   "metadata": {
    "id": "ZadlthBtPBkz"
   },
   "source": [
    "Chat Words Conversion\n",
    "\n",
    "This is an important text preprocessing step if we are dealing with chat data. People do use a lot of abbreviated words in chat and so it might be helpful to expand those words for our analysis purposes.\n",
    "\n",
    "Got a good list of chat slang words from this repo. We can use this for our conversion here. We can add more words to this list."
   ]
  },
  {
   "cell_type": "code",
   "execution_count": null,
   "metadata": {
    "executionInfo": {
     "elapsed": 597,
     "status": "ok",
     "timestamp": 1692884482613,
     "user": {
      "displayName": "harriet musinguzi",
      "userId": "10586340658233206628"
     },
     "user_tz": 0
    },
    "id": "wo30aEp-PBk0"
   },
   "outputs": [],
   "source": [
    "chat_words_str = \"\"\"\n",
    "AFAIK=As Far As I Know\n",
    "AFK=Away From Keyboard\n",
    "ASAP=As Soon As Possible\n",
    "ATK=At The Keyboard\n",
    "ATM=At The Moment\n",
    "A3=Anytime, Anywhere, Anyplace\n",
    "BAK=Back At Keyboard\n",
    "BBL=Be Back Later\n",
    "BBS=Be Back Soon\n",
    "BFN=Bye For Now\n",
    "B4N=Bye For Now\n",
    "BRB=Be Right Back\n",
    "BRT=Be Right There\n",
    "BTW=By The Way\n",
    "B4=Before\n",
    "B4N=Bye For Now\n",
    "CU=See You\n",
    "CUL8R=See You Later\n",
    "CYA=See You\n",
    "FAQ=Frequently Asked Questions\n",
    "FC=Fingers Crossed\n",
    "FWIW=For What It's Worth\n",
    "FYI=For Your Information\n",
    "GAL=Get A Life\n",
    "GG=Good Game\n",
    "GN=Good Night\n",
    "GMTA=Great Minds Think Alike\n",
    "GR8=Great!\n",
    "G9=Genius\n",
    "IC=I See\n",
    "ICQ=I Seek you (also a chat program)\n",
    "ILU=ILU: I Love You\n",
    "IMHO=In My Honest/Humble Opinion\n",
    "IMO=In My Opinion\n",
    "IOW=In Other Words\n",
    "IRL=In Real Life\n",
    "KISS=Keep It Simple, Stupid\n",
    "LDR=Long Distance Relationship\n",
    "LMAO=Laugh My A.. Off\n",
    "LOL=Laughing Out Loud\n",
    "LTNS=Long Time No See\n",
    "L8R=Later\n",
    "MTE=My Thoughts Exactly\n",
    "M8=Mate\n",
    "NRN=No Reply Necessary\n",
    "OIC=Oh I See\n",
    "PITA=Pain In The A..\n",
    "PRT=Party\n",
    "PRW=Parents Are Watching\n",
    "ROFL=Rolling On The Floor Laughing\n",
    "ROFLOL=Rolling On The Floor Laughing Out Loud\n",
    "ROTFLMAO=Rolling On The Floor Laughing My A.. Off\n",
    "SK8=Skate\n",
    "STATS=Your sex and age\n",
    "ASL=Age, Sex, Location\n",
    "THX=Thank You\n",
    "TTFN=Ta-Ta For Now!\n",
    "TTYL=Talk To You Later\n",
    "U=You\n",
    "U2=You Too\n",
    "U4E=Yours For Ever\n",
    "WB=Welcome Back\n",
    "WTF=What The F...\n",
    "WTG=Way To Go!\n",
    "WUF=Where Are You From?\n",
    "W8=Wait...\n",
    "7K=Sick:-D Laugher\n",
    "\"\"\""
   ]
  },
  {
   "cell_type": "code",
   "execution_count": null,
   "metadata": {
    "colab": {
     "base_uri": "https://localhost:8080/"
    },
    "executionInfo": {
     "elapsed": 1993,
     "status": "ok",
     "timestamp": 1692884489977,
     "user": {
      "displayName": "harriet musinguzi",
      "userId": "10586340658233206628"
     },
     "user_tz": 0
    },
    "id": "BFLq8fc-PBk1",
    "outputId": "68d729b5-74dc-4620-ab65-3807384fa2dd"
   },
   "outputs": [],
   "source": [
    "#Convert short form words\n",
    "chat_words_map_dict = {}\n",
    "chat_words_list = []\n",
    "for line in chat_words_str.split(\"\\n\"):\n",
    "    if line != \"\":\n",
    "        cw = line.split(\"=\")[0]\n",
    "        cw_expanded = line.split(\"=\")[1]\n",
    "        chat_words_list.append(cw)\n",
    "        chat_words_map_dict[cw] = cw_expanded\n",
    "chat_words_list = set(chat_words_list)\n",
    "\n",
    "def chat_words_conversion(text):\n",
    "    new_text = []\n",
    "    for w in text.split():\n",
    "        if w.upper() in chat_words_list:\n",
    "            new_text.append(chat_words_map_dict[w.upper()])\n",
    "        else:\n",
    "            new_text.append(w)\n",
    "    return \" \".join(new_text)\n",
    "\n",
    "df['Text_chat'] = df['Text_tags'].astype(str)\n",
    "df['Text_chat'] = df['Text_tags'].apply(chat_words_conversion)\n",
    "df['Text_chat'].head()"
   ]
  },
  {
   "cell_type": "markdown",
   "metadata": {
    "id": "mHjnWMcHPBk2"
   },
   "source": [
    "Spelling Correction\n",
    "\n",
    "One another important text preprocessing step is spelling correction. Typos are common in text data and we might want to correct those spelling mistakes before we do our analysis.\n",
    "\n",
    "If we are interested in wrinting a spell corrector of our own, we can probably start with famous code from Peter Norvig.\n",
    "\n",
    "In this notebook, let us use the python package pyspellchecker for our spelling correction."
   ]
  },
  {
   "cell_type": "code",
   "execution_count": null,
   "metadata": {
    "executionInfo": {
     "elapsed": 37833,
     "status": "aborted",
     "timestamp": 1692878837604,
     "user": {
      "displayName": "harriet musinguzi",
      "userId": "10586340658233206628"
     },
     "user_tz": 0
    },
    "id": "6RnDCOuHPBk3",
    "scrolled": true
   },
   "outputs": [],
   "source": [
    "# df.to_csv(\"D:/senego/dataafrica/oldfiles/socialdatanewclean2chats.csv\", encoding = \"UTF-8\")\n",
    "# df=pd.read_csv(\"D:/senego/dataafrica/oldfiles/socialdatanewclean2chats.csv\", encoding = \"UTF-8\")\n",
    "# df=df.astype(str)\n",
    "# df.head(5)"
   ]
  },
  {
   "cell_type": "code",
   "execution_count": null,
   "metadata": {
    "colab": {
     "base_uri": "https://localhost:8080/"
    },
    "executionInfo": {
     "elapsed": 7081,
     "status": "ok",
     "timestamp": 1692884579618,
     "user": {
      "displayName": "harriet musinguzi",
      "userId": "10586340658233206628"
     },
     "user_tz": 0
    },
    "id": "aQNIblwkx3Zf",
    "outputId": "d3819b6c-40b5-42ba-8c74-5d0192f861f4"
   },
   "outputs": [],
   "source": [
    "!pip install pyspellchecker"
   ]
  },
  {
   "cell_type": "code",
   "execution_count": null,
   "metadata": {
    "colab": {
     "base_uri": "https://localhost:8080/"
    },
    "executionInfo": {
     "elapsed": 110440,
     "status": "ok",
     "timestamp": 1692884691376,
     "user": {
      "displayName": "harriet musinguzi",
      "userId": "10586340658233206628"
     },
     "user_tz": 0
    },
    "id": "BP6JHUf7PBk3",
    "outputId": "140a541b-7e40-489a-a255-680fe127c23e"
   },
   "outputs": [],
   "source": [
    "# Correct spellings\n",
    "import pandas as pd\n",
    "from spellchecker import SpellChecker\n",
    "\n",
    "spell = SpellChecker()\n",
    "\n",
    "def correct_spelling(word):\n",
    "    corrected_word = spell.correction(word)\n",
    "    if corrected_word is not None:\n",
    "        return corrected_word\n",
    "    else:\n",
    "        return word\n",
    "\n",
    "\n",
    "df['Text_spell'] = df['Text_chat'].astype(str)\n",
    "df['Text_spell'] = df['Text_chat'].apply(correct_spelling)\n",
    "df['Text_spell'].head()\n"
   ]
  },
  {
   "cell_type": "code",
   "execution_count": null,
   "metadata": {
    "executionInfo": {
     "elapsed": 634,
     "status": "ok",
     "timestamp": 1692884702843,
     "user": {
      "displayName": "harriet musinguzi",
      "userId": "10586340658233206628"
     },
     "user_tz": 0
    },
    "id": "PhJGR0UAPBk4"
   },
   "outputs": [],
   "source": [
    "textdf2=df"
   ]
  },
  {
   "cell_type": "code",
   "execution_count": null,
   "metadata": {
    "executionInfo": {
     "elapsed": 6,
     "status": "ok",
     "timestamp": 1692884704725,
     "user": {
      "displayName": "harriet musinguzi",
      "userId": "10586340658233206628"
     },
     "user_tz": 0
    },
    "id": "n2Gk06U2PBk5"
   },
   "outputs": [],
   "source": [
    "train_en3 = textdf2[textdf2['Text_langue2'] == 'en']\n",
    "train_not_en3 = textdf2[textdf2['Text_langue2'] != 'en']"
   ]
  },
  {
   "cell_type": "code",
   "execution_count": null,
   "metadata": {
    "colab": {
     "base_uri": "https://localhost:8080/"
    },
    "executionInfo": {
     "elapsed": 8392,
     "status": "ok",
     "timestamp": 1692884715063,
     "user": {
      "displayName": "harriet musinguzi",
      "userId": "10586340658233206628"
     },
     "user_tz": 0
    },
    "id": "AD1_4lL_PBk5",
    "outputId": "72635ba4-b7ed-42d6-abb2-0e241c1d0581"
   },
   "outputs": [],
   "source": [
    "# Translating text not in English\n",
    "from deep_translator import GoogleTranslator\n",
    "import langid\n",
    "len_data = len( train_not_en3)\n",
    "# For each article, we detect its language; if it's not English,\n",
    "# we ask Google Translate to translate it into English, otherwise we keep the source text\n",
    "gt = GoogleTranslator(source='auto', target='en')\n",
    "max_art_len = 1000  # Here, we truncate the content to first 1000 characters; Google Translate accepts texts\n",
    "                    # not longer than 5000 characters, but the volume of 1000 can be enough for classification\n",
    "                    # and enables us to reduce the time of working with translation service\n",
    "\n",
    "translated_arts = []\n",
    "\n",
    "for i in range(len( train_not_en3)):\n",
    "    if i % 200 == 0:\n",
    "        print(f\"Translated {i} / {len_data}\")\n",
    "    cur_art =  train_not_en3.iloc[i]['Text_spell'][:max_art_len]\n",
    "    translated_arts.append(cur_art if langid.classify(cur_art)[0] == 'en' else gt.translate(cur_art))\n",
    "\n",
    "train_not_en3['Text_translate2'] = translated_arts"
   ]
  },
  {
   "cell_type": "code",
   "execution_count": null,
   "metadata": {
    "colab": {
     "base_uri": "https://localhost:8080/"
    },
    "executionInfo": {
     "elapsed": 1653,
     "status": "ok",
     "timestamp": 1692884716705,
     "user": {
      "displayName": "harriet musinguzi",
      "userId": "10586340658233206628"
     },
     "user_tz": 0
    },
    "id": "eOZKHMI7PBk6",
    "outputId": "2cba7dc9-3eda-4b14-db57-20f556921c6f",
    "scrolled": true
   },
   "outputs": [],
   "source": [
    "# Detect and convert languages\n",
    "from langdetect import detect\n",
    "def detect_my(text):\n",
    "   try:\n",
    "       return detect(text)\n",
    "   except:\n",
    "       return 'unknown'\n",
    "train_not_en3['Text_langue3'] = train_not_en3['Text_translate2'].apply(detect_my)\n",
    "train_not_en3['Text_langue3'].head(2)"
   ]
  },
  {
   "cell_type": "code",
   "execution_count": null,
   "metadata": {
    "executionInfo": {
     "elapsed": 68,
     "status": "ok",
     "timestamp": 1692884716707,
     "user": {
      "displayName": "harriet musinguzi",
      "userId": "10586340658233206628"
     },
     "user_tz": 0
    },
    "id": "kKj05KZUPBk7"
   },
   "outputs": [],
   "source": []
  },
  {
   "cell_type": "code",
   "execution_count": null,
   "metadata": {
    "colab": {
     "base_uri": "https://localhost:8080/",
     "height": 472
    },
    "executionInfo": {
     "elapsed": 69,
     "status": "ok",
     "timestamp": 1692884716710,
     "user": {
      "displayName": "harriet musinguzi",
      "userId": "10586340658233206628"
     },
     "user_tz": 0
    },
    "id": "Z_X1g3pJPBk7",
    "outputId": "32dd59f6-4d6d-4fb3-bfa3-ce13e0be2617",
    "scrolled": false
   },
   "outputs": [],
   "source": [
    "df_new2=train_not_en3['Text_langue3'].value_counts().reset_index()#.plot(kind='bar')\n",
    "ax = sns.barplot(x='Text_langue3', y='index', data=df_new2)\n",
    "ax.set_title('Count of records for all languages in data')\n",
    "ax.set_xlabel('Languages in data')\n",
    "ax.set_ylabel('Number of count')\n",
    "plt.show()"
   ]
  },
  {
   "cell_type": "code",
   "execution_count": null,
   "metadata": {
    "colab": {
     "base_uri": "https://localhost:8080/"
    },
    "executionInfo": {
     "elapsed": 67,
     "status": "ok",
     "timestamp": 1692884716712,
     "user": {
      "displayName": "harriet musinguzi",
      "userId": "10586340658233206628"
     },
     "user_tz": 0
    },
    "id": "AfvNGi1JPBk8",
    "outputId": "59590a77-fd43-4bf5-f3f1-22b7c70f7f49",
    "scrolled": true
   },
   "outputs": [],
   "source": [
    "train_not_en3.columns"
   ]
  },
  {
   "cell_type": "code",
   "execution_count": null,
   "metadata": {
    "colab": {
     "base_uri": "https://localhost:8080/"
    },
    "executionInfo": {
     "elapsed": 52,
     "status": "ok",
     "timestamp": 1692884716714,
     "user": {
      "displayName": "harriet musinguzi",
      "userId": "10586340658233206628"
     },
     "user_tz": 0
    },
    "id": "nddVkHINPBk9",
    "outputId": "3513450c-d4b9-4cd0-9aa1-8e5c1fc7cf57"
   },
   "outputs": [],
   "source": [
    "train_en3.columns"
   ]
  },
  {
   "cell_type": "code",
   "execution_count": null,
   "metadata": {
    "executionInfo": {
     "elapsed": 39,
     "status": "ok",
     "timestamp": 1692884716715,
     "user": {
      "displayName": "harriet musinguzi",
      "userId": "10586340658233206628"
     },
     "user_tz": 0
    },
    "id": "_kGWO9YfPBk9"
   },
   "outputs": [],
   "source": [
    "train_en32 = train_not_en3[train_not_en3['Text_langue3'] == 'en']\n",
    "train_not_en32 = train_not_en3[train_not_en3['Text_langue3'] != 'en']"
   ]
  },
  {
   "cell_type": "code",
   "execution_count": null,
   "metadata": {
    "colab": {
     "base_uri": "https://localhost:8080/"
    },
    "executionInfo": {
     "elapsed": 40,
     "status": "ok",
     "timestamp": 1692884716717,
     "user": {
      "displayName": "harriet musinguzi",
      "userId": "10586340658233206628"
     },
     "user_tz": 0
    },
    "id": "VWzQGxO4PBk-",
    "outputId": "a92b3e0a-bed5-497e-8273-5c3768f3db03"
   },
   "outputs": [],
   "source": [
    "train_not_en32.shape"
   ]
  },
  {
   "cell_type": "code",
   "execution_count": null,
   "metadata": {
    "colab": {
     "base_uri": "https://localhost:8080/",
     "height": 539
    },
    "executionInfo": {
     "elapsed": 11,
     "status": "ok",
     "timestamp": 1692884718368,
     "user": {
      "displayName": "harriet musinguzi",
      "userId": "10586340658233206628"
     },
     "user_tz": 0
    },
    "id": "KT5E0rsFPBk_",
    "outputId": "4ebd3fb2-cd6c-4c7b-de70-a7c225567a01",
    "scrolled": true
   },
   "outputs": [],
   "source": [
    "train_en32.dropna()"
   ]
  },
  {
   "cell_type": "code",
   "execution_count": null,
   "metadata": {
    "colab": {
     "base_uri": "https://localhost:8080/",
     "height": 1000
    },
    "executionInfo": {
     "elapsed": 492,
     "status": "ok",
     "timestamp": 1692884767345,
     "user": {
      "displayName": "harriet musinguzi",
      "userId": "10586340658233206628"
     },
     "user_tz": 0
    },
    "id": "hhtjoUFGPBk_",
    "outputId": "97a9c3f0-54a4-4082-afd1-c5ca457e20ee"
   },
   "outputs": [],
   "source": [
    "train_en3.dropna()"
   ]
  },
  {
   "cell_type": "code",
   "execution_count": null,
   "metadata": {
    "colab": {
     "base_uri": "https://localhost:8080/",
     "height": 305
    },
    "executionInfo": {
     "elapsed": 11,
     "status": "ok",
     "timestamp": 1692884768304,
     "user": {
      "displayName": "harriet musinguzi",
      "userId": "10586340658233206628"
     },
     "user_tz": 0
    },
    "id": "_47Pb7aDPBlA",
    "outputId": "b5d92e79-547d-4a0d-e89f-30893f1fbaea"
   },
   "outputs": [],
   "source": [
    "train_en32.head(2)"
   ]
  },
  {
   "cell_type": "code",
   "execution_count": null,
   "metadata": {
    "colab": {
     "base_uri": "https://localhost:8080/",
     "height": 288
    },
    "executionInfo": {
     "elapsed": 12,
     "status": "ok",
     "timestamp": 1692884771998,
     "user": {
      "displayName": "harriet musinguzi",
      "userId": "10586340658233206628"
     },
     "user_tz": 0
    },
    "id": "OslUds1QPBlB",
    "outputId": "145f2365-1788-4d2e-a467-e22c6964b274"
   },
   "outputs": [],
   "source": [
    "train_en3.head(2)"
   ]
  },
  {
   "cell_type": "code",
   "execution_count": null,
   "metadata": {
    "colab": {
     "base_uri": "https://localhost:8080/"
    },
    "executionInfo": {
     "elapsed": 8,
     "status": "ok",
     "timestamp": 1692884774311,
     "user": {
      "displayName": "harriet musinguzi",
      "userId": "10586340658233206628"
     },
     "user_tz": 0
    },
    "id": "2qwvzMN_PBlC",
    "outputId": "82e49998-fdf1-42e1-a11e-4d6daea7f8b5"
   },
   "outputs": [],
   "source": [
    "# train_not_en.isna().head()\n",
    "train_en3['Text_langue3']= train_en3['Text_langue2']"
   ]
  },
  {
   "cell_type": "code",
   "execution_count": null,
   "metadata": {
    "colab": {
     "base_uri": "https://localhost:8080/"
    },
    "executionInfo": {
     "elapsed": 9,
     "status": "ok",
     "timestamp": 1692884777680,
     "user": {
      "displayName": "harriet musinguzi",
      "userId": "10586340658233206628"
     },
     "user_tz": 0
    },
    "id": "jLVJ1TaFPBlC",
    "outputId": "a463c946-e205-4bde-e01e-55c6582ffe57"
   },
   "outputs": [],
   "source": [
    "train_en3['Text_translate2']= train_en3['Text_spell']"
   ]
  },
  {
   "cell_type": "code",
   "execution_count": null,
   "metadata": {
    "colab": {
     "base_uri": "https://localhost:8080/",
     "height": 504
    },
    "executionInfo": {
     "elapsed": 1346,
     "status": "ok",
     "timestamp": 1692884782465,
     "user": {
      "displayName": "harriet musinguzi",
      "userId": "10586340658233206628"
     },
     "user_tz": 0
    },
    "id": "5Jh6y9g1PBlD",
    "outputId": "b20432ef-2bc1-4e7a-86fb-23f4d304c862",
    "scrolled": false
   },
   "outputs": [],
   "source": [
    "shuffledlw = train_not_en32.sample(frac=1)\n",
    "shuffledlw.head(10)"
   ]
  },
  {
   "cell_type": "code",
   "execution_count": null,
   "metadata": {
    "executionInfo": {
     "elapsed": 711,
     "status": "ok",
     "timestamp": 1692884785140,
     "user": {
      "displayName": "harriet musinguzi",
      "userId": "10586340658233206628"
     },
     "user_tz": 0
    },
    "id": "U_HSu3TcPBlE"
   },
   "outputs": [],
   "source": [
    "df2 = pd.concat([train_en3, train_en32])"
   ]
  },
  {
   "cell_type": "code",
   "execution_count": null,
   "metadata": {
    "colab": {
     "base_uri": "https://localhost:8080/"
    },
    "executionInfo": {
     "elapsed": 8,
     "status": "ok",
     "timestamp": 1692884785141,
     "user": {
      "displayName": "harriet musinguzi",
      "userId": "10586340658233206628"
     },
     "user_tz": 0
    },
    "id": "kzwGy7slPBlF",
    "outputId": "207cda94-7ce2-4534-8ce8-d307595eca1a"
   },
   "outputs": [],
   "source": [
    "df2.shape"
   ]
  },
  {
   "cell_type": "code",
   "execution_count": null,
   "metadata": {
    "colab": {
     "base_uri": "https://localhost:8080/",
     "height": 288
    },
    "executionInfo": {
     "elapsed": 495,
     "status": "ok",
     "timestamp": 1692884792700,
     "user": {
      "displayName": "harriet musinguzi",
      "userId": "10586340658233206628"
     },
     "user_tz": 0
    },
    "id": "om6hVQzkPBlG",
    "outputId": "962a8afe-2bdd-4d42-ac98-0b065f95f597"
   },
   "outputs": [],
   "source": [
    "df2.head(2)"
   ]
  },
  {
   "cell_type": "code",
   "execution_count": null,
   "metadata": {
    "colab": {
     "base_uri": "https://localhost:8080/",
     "height": 472
    },
    "executionInfo": {
     "elapsed": 15,
     "status": "ok",
     "timestamp": 1692884795282,
     "user": {
      "displayName": "harriet musinguzi",
      "userId": "10586340658233206628"
     },
     "user_tz": 0
    },
    "id": "KOiAL3g7PBlH",
    "outputId": "3dc77bbb-f17a-4dcb-c3a3-1eacf6ed9a4c"
   },
   "outputs": [],
   "source": [
    "df_new21=df2['Text_langue3'].value_counts().reset_index()#.plot(kind='bar')\n",
    "ax = sns.barplot(x='Text_langue3', y='index', data=df_new21)\n",
    "ax.set_title('Count of records for all languages in data')\n",
    "ax.set_xlabel('Languages in data')\n",
    "ax.set_ylabel('Number of count')\n",
    "plt.show()"
   ]
  },
  {
   "cell_type": "code",
   "execution_count": null,
   "metadata": {
    "colab": {
     "base_uri": "https://localhost:8080/",
     "height": 573
    },
    "executionInfo": {
     "elapsed": 467,
     "status": "ok",
     "timestamp": 1692884818219,
     "user": {
      "displayName": "harriet musinguzi",
      "userId": "10586340658233206628"
     },
     "user_tz": 0
    },
    "id": "7ixaQ9kePBlI",
    "outputId": "055e48d3-0c60-4d9e-f08e-6c8839b1ba97"
   },
   "outputs": [],
   "source": [
    "df=df2.copy()\n",
    "df=df.astype(str)\n",
    "df.head()"
   ]
  },
  {
   "cell_type": "code",
   "execution_count": null,
   "metadata": {
    "executionInfo": {
     "elapsed": 37419,
     "status": "aborted",
     "timestamp": 1692878837631,
     "user": {
      "displayName": "harriet musinguzi",
      "userId": "10586340658233206628"
     },
     "user_tz": 0
    },
    "id": "kG7UktBOPBlJ"
   },
   "outputs": [],
   "source": [
    "\n"
   ]
  },
  {
   "cell_type": "code",
   "execution_count": null,
   "metadata": {
    "executionInfo": {
     "elapsed": 37415,
     "status": "aborted",
     "timestamp": 1692878837632,
     "user": {
      "displayName": "harriet musinguzi",
      "userId": "10586340658233206628"
     },
     "user_tz": 0
    },
    "id": "_H7Gm4XyPBlK"
   },
   "outputs": [],
   "source": []
  },
  {
   "cell_type": "markdown",
   "metadata": {
    "id": "CZgrIBq0PBlL"
   },
   "source": [
    "### Annotation of data"
   ]
  },
  {
   "cell_type": "code",
   "execution_count": null,
   "metadata": {
    "executionInfo": {
     "elapsed": 37410,
     "status": "aborted",
     "timestamp": 1692878837632,
     "user": {
      "displayName": "harriet musinguzi",
      "userId": "10586340658233206628"
     },
     "user_tz": 0
    },
    "id": "3-wcdxMnPBlL"
   },
   "outputs": [],
   "source": [
    "# Will be extracted using Sentiment analysis"
   ]
  },
  {
   "cell_type": "code",
   "execution_count": null,
   "metadata": {
    "colab": {
     "base_uri": "https://localhost:8080/"
    },
    "executionInfo": {
     "elapsed": 22419,
     "status": "ok",
     "timestamp": 1692884851291,
     "user": {
      "displayName": "harriet musinguzi",
      "userId": "10586340658233206628"
     },
     "user_tz": 0
    },
    "id": "MOYGaPWiPBlM",
    "outputId": "d5a57c33-201c-4cce-d9bc-f5d29c03896e",
    "scrolled": true
   },
   "outputs": [],
   "source": [
    "# Tokenizing or splitting a string, text into a list of tokens\n",
    "import nltk\n",
    "\n",
    "from nltk.tokenize import word_tokenize\n",
    "def tokenizingText(text):\n",
    "    text = word_tokenize(text)\n",
    "    return text\n",
    "df['Text_token'] = df['Text_spell'].astype(str)\n",
    "df['Text_token'] = df['Text_spell'].apply(tokenizingText)\n",
    "df['Text_token'].head()"
   ]
  },
  {
   "cell_type": "code",
   "execution_count": null,
   "metadata": {
    "colab": {
     "base_uri": "https://localhost:8080/"
    },
    "executionInfo": {
     "elapsed": 2011,
     "status": "ok",
     "timestamp": 1692884853292,
     "user": {
      "displayName": "harriet musinguzi",
      "userId": "10586340658233206628"
     },
     "user_tz": 0
    },
    "id": "QzJpP0qvPBlN",
    "outputId": "e50e5e96-9740-4602-ad42-9baad453bca3"
   },
   "outputs": [],
   "source": [
    "# Remove stopwors in a text\n",
    "import nltk\n",
    "nltk.download('stopwords')\n",
    "nltk.download('punkt')\n",
    "from nltk.corpus import stopwords\n",
    "STOPWORDS = set(stopwords.words('english'))\n",
    "# Function to remove the stopwords\n",
    "def stopwords(text):\n",
    "    return \" \".join([word for word in str(text).split() if word not in STOPWORDS])\n",
    "df['Text_stop'] = df['Text_spell'].astype(str)\n",
    "df['Text_stop'] = df['Text_spell'].apply(stopwords)\n",
    "df['Text_stop'].head()"
   ]
  },
  {
   "cell_type": "code",
   "execution_count": null,
   "metadata": {
    "colab": {
     "base_uri": "https://localhost:8080/"
    },
    "executionInfo": {
     "elapsed": 24,
     "status": "ok",
     "timestamp": 1692884853294,
     "user": {
      "displayName": "harriet musinguzi",
      "userId": "10586340658233206628"
     },
     "user_tz": 0
    },
    "id": "ejmY6oKtPBlO",
    "outputId": "982ef57d-0396-4de8-c2bb-fcf5bcff2adf"
   },
   "outputs": [],
   "source": [
    "df.columns"
   ]
  },
  {
   "cell_type": "code",
   "execution_count": null,
   "metadata": {
    "colab": {
     "base_uri": "https://localhost:8080/",
     "height": 536
    },
    "executionInfo": {
     "elapsed": 20,
     "status": "ok",
     "timestamp": 1692884853296,
     "user": {
      "displayName": "harriet musinguzi",
      "userId": "10586340658233206628"
     },
     "user_tz": 0
    },
    "id": "wiDH0JB8PBlO",
    "outputId": "a1ea5ea3-ed44-46c2-e007-74eb1445a4a4",
    "scrolled": true
   },
   "outputs": [],
   "source": [
    "shuffledlw=df[['textid', 'alltext', 'sourcetype','Text_spell', 'Text_token','Text_stop']]\n",
    "shuffledlw = shuffledlw.sample(frac=1)\n",
    "shuffledlw.head(10)"
   ]
  },
  {
   "cell_type": "code",
   "execution_count": null,
   "metadata": {
    "executionInfo": {
     "elapsed": 613,
     "status": "ok",
     "timestamp": 1692884881547,
     "user": {
      "displayName": "harriet musinguzi",
      "userId": "10586340658233206628"
     },
     "user_tz": 0
    },
    "id": "hs9zxsp0PBlQ"
   },
   "outputs": [],
   "source": []
  },
  {
   "cell_type": "code",
   "execution_count": null,
   "metadata": {
    "executionInfo": {
     "elapsed": 6,
     "status": "ok",
     "timestamp": 1692884881548,
     "user": {
      "displayName": "harriet musinguzi",
      "userId": "10586340658233206628"
     },
     "user_tz": 0
    },
    "id": "BILZIDldPBlQ"
   },
   "outputs": [],
   "source": []
  },
  {
   "cell_type": "code",
   "execution_count": null,
   "metadata": {
    "executionInfo": {
     "elapsed": 4,
     "status": "ok",
     "timestamp": 1692884882288,
     "user": {
      "displayName": "harriet musinguzi",
      "userId": "10586340658233206628"
     },
     "user_tz": 0
    },
    "id": "QRQ3pBVWPBlR"
   },
   "outputs": [],
   "source": [
    "#df.to_excel(\"C:/Users/Administrator/OneDrive/Documents/africa/dataafrica/socialconcernsnew.xlsx\", index=False)"
   ]
  },
  {
   "cell_type": "markdown",
   "metadata": {
    "id": "2j3EDqX5PBlS"
   },
   "source": [
    "Lemmatization vs stemming\n",
    "\n",
    "* Stemming is a faster process than lemmatization as stemming chops off the word irrespective of the context, whereas the latter is context-dependent\n",
    "* Stemming is a rule-based approach, whereas lemmatization is a canonical dictionary-based approach.\n",
    "* Lemmatization has higher accuracy than stemming.\n",
    "* Lemmatization is preferred for context analysis, whereas stemming is recommended when the context is not important."
   ]
  },
  {
   "cell_type": "markdown",
   "metadata": {
    "id": "WIXtQ511PBlS"
   },
   "source": [
    "We explore the most common stemmers available in the NLTK library\n",
    "\n",
    "* Porter's Stemmer is the oldest stemmer method. Porter's Stemmer applies a set of five sequential rule to determine common suffixes from sentences done with regular expressions\n",
    "* Snowball stemmer is an updated version of Porter’s Stemmer with new rules. The process is exactly the same as Porter’s Stemmer\n",
    "* Lancaster Stemmer rules are more agressive than Porter and Snowball and it is one of the most agressive stemmers. As a general rule of thumb, think that the rules of Lancaster’s Stemmer try to reduce the word to the shortest stem possible"
   ]
  },
  {
   "cell_type": "code",
   "execution_count": null,
   "metadata": {
    "executionInfo": {
     "elapsed": 1257,
     "status": "ok",
     "timestamp": 1692884887172,
     "user": {
      "displayName": "harriet musinguzi",
      "userId": "10586340658233206628"
     },
     "user_tz": 0
    },
    "id": "9tR9vRWzPBlT"
   },
   "outputs": [],
   "source": [
    "# text = \"hello I was thinking about your point of view africa ecommerce must be social and a challenge that quickly appears is where to place yourself on the scale of access to customer servicexd xd the extremes cf imageconfusion are ineffectivexd xd looking forward to hear you\""
   ]
  },
  {
   "cell_type": "code",
   "execution_count": null,
   "metadata": {
    "colab": {
     "base_uri": "https://localhost:8080/"
    },
    "executionInfo": {
     "elapsed": 7,
     "status": "ok",
     "timestamp": 1692884888745,
     "user": {
      "displayName": "harriet musinguzi",
      "userId": "10586340658233206628"
     },
     "user_tz": 0
    },
    "id": "Ag_VXa5kPBlT",
    "outputId": "2c525863-0344-4ea6-c10d-8c42ff5d9215",
    "scrolled": true
   },
   "outputs": [],
   "source": [
    "import nltk\n",
    "from nltk.tokenize import word_tokenize, sent_tokenize\n",
    "from nltk.stem import SnowballStemmer, LancasterStemmer,  PorterStemmer,WordNetLemmatizer\n",
    "from nltk.corpus import wordnet\n",
    "nltk.download('averaged_perceptron_tagger')\n",
    "nltk.download('punkt')\n",
    "nltk.download('omw-1.4')\n",
    "\n",
    "import warnings\n",
    "warnings.filterwarnings('ignore')"
   ]
  },
  {
   "cell_type": "code",
   "execution_count": null,
   "metadata": {
    "colab": {
     "base_uri": "https://localhost:8080/",
     "height": 36
    },
    "executionInfo": {
     "elapsed": 14,
     "status": "ok",
     "timestamp": 1692884891485,
     "user": {
      "displayName": "harriet musinguzi",
      "userId": "10586340658233206628"
     },
     "user_tz": 0
    },
    "id": "WamXw4hePBlU",
    "outputId": "09cd7afb-8177-4cec-9306-c7c7c8962eaf"
   },
   "outputs": [],
   "source": [
    "porter = PorterStemmer()\n",
    "porter.stem('going')"
   ]
  },
  {
   "cell_type": "code",
   "execution_count": null,
   "metadata": {
    "colab": {
     "base_uri": "https://localhost:8080/"
    },
    "executionInfo": {
     "elapsed": 9,
     "status": "ok",
     "timestamp": 1692884893324,
     "user": {
      "displayName": "harriet musinguzi",
      "userId": "10586340658233206628"
     },
     "user_tz": 0
    },
    "id": "a3xL3ZRUPBlV",
    "outputId": "3912d196-4d5f-435f-d7a5-6c541027035a"
   },
   "outputs": [],
   "source": [
    "tokenized_eu = word_tokenize(text)\n",
    "porter_eu = [porter.stem(word) for word in tokenized_eu]\n",
    "print(f\" PorterStemmer: {100*round(len(''.join(porter_eu))/len(''.join(word_tokenize(text))),3)}%\")\n",
    "\n",
    "snowball = SnowballStemmer(language='english')\n",
    "porter_eu = [snowball.stem(word) for word in tokenized_eu]\n",
    "print(f\" SnowballStemmer: {100*round(len(''.join(porter_eu))/len(''.join(word_tokenize(text))),3)}%\")\n",
    "\n",
    "lanc = LancasterStemmer()\n",
    "porter_eu = [lanc.stem(word) for word in tokenized_eu]\n",
    "print(f\" LancasterStemmerr: {100*round(len(''.join(porter_eu))/len(''.join(word_tokenize(text))),3)}%\")"
   ]
  },
  {
   "cell_type": "code",
   "execution_count": null,
   "metadata": {
    "colab": {
     "base_uri": "https://localhost:8080/"
    },
    "executionInfo": {
     "elapsed": 68939,
     "status": "ok",
     "timestamp": 1692884967126,
     "user": {
      "displayName": "harriet musinguzi",
      "userId": "10586340658233206628"
     },
     "user_tz": 0
    },
    "id": "SbjqB6-QPBlX",
    "outputId": "f49166df-45bd-491f-ec62-a9b3fc754228"
   },
   "outputs": [],
   "source": [
    "# Reducing a word to its word stem that affixes to suffixes and prefixes or to the roots of words\n",
    "import string\n",
    "from nltk.stem.porter import PorterStemmer\n",
    "\n",
    "stemmer = PorterStemmer()\n",
    "def stem_words(text):\n",
    "    return \" \".join([stemmer.stem(word) for word in text.split()])\n",
    "\n",
    "df['Text_stem'] = df['Text_stop'].astype(str)\n",
    "df['Text_stem'] = df['Text_stop'].apply(stem_words)\n",
    "df['Text_stem'].head()"
   ]
  },
  {
   "cell_type": "markdown",
   "metadata": {
    "id": "lh5h546lPBlX"
   },
   "source": [
    "Lemmatization\n",
    "\n",
    "* Lemmatization is similar to stemming in reducing inflected words to their word stem but differs in the way that it makes sure the root word (also called as lemma) belongs to the language.\n",
    "\n",
    "* As a result, this one is generally slower than stemming process. So depending on the speed requirement, we can choose to use either stemming or lemmatization.\n",
    "\n",
    "* Let us use the WordNetLemmatizer in nltk to lemmatize our sentences"
   ]
  },
  {
   "cell_type": "code",
   "execution_count": null,
   "metadata": {
    "colab": {
     "base_uri": "https://localhost:8080/"
    },
    "executionInfo": {
     "elapsed": 1345,
     "status": "ok",
     "timestamp": 1692885172455,
     "user": {
      "displayName": "harriet musinguzi",
      "userId": "10586340658233206628"
     },
     "user_tz": 0
    },
    "id": "qVv0bqK1z9x9",
    "outputId": "163ad26a-68b4-469e-987c-e6dc5f24ffa2"
   },
   "outputs": [],
   "source": [
    "import nltk\n",
    "nltk.download('wordnet')"
   ]
  },
  {
   "cell_type": "code",
   "execution_count": null,
   "metadata": {
    "colab": {
     "base_uri": "https://localhost:8080/"
    },
    "executionInfo": {
     "elapsed": 12722,
     "status": "ok",
     "timestamp": 1692885185842,
     "user": {
      "displayName": "harriet musinguzi",
      "userId": "10586340658233206628"
     },
     "user_tz": 0
    },
    "id": "e5Sexp5gPBlY",
    "outputId": "01c482f4-7de7-4b01-c82d-a9aa4a33a4a5"
   },
   "outputs": [],
   "source": [
    "\n",
    "from nltk.stem import WordNetLemmatizer\n",
    "\n",
    "lemmatizer = WordNetLemmatizer()\n",
    "def lemmatize_words(text):\n",
    "    return \" \".join([lemmatizer.lemmatize(word) for word in text.split()])\n",
    "\n",
    "df[\"Text_lemma\"] = df[\"Text_stop\"].astype(str)\n",
    "df[\"Text_lemma\"] = df[\"Text_stop\"].apply(lambda text: lemmatize_words(text))\n",
    "df[\"Text_lemma\"].head()"
   ]
  },
  {
   "cell_type": "code",
   "execution_count": null,
   "metadata": {
    "colab": {
     "base_uri": "https://localhost:8080/",
     "height": 536
    },
    "executionInfo": {
     "elapsed": 23,
     "status": "ok",
     "timestamp": 1692885185844,
     "user": {
      "displayName": "harriet musinguzi",
      "userId": "10586340658233206628"
     },
     "user_tz": 0
    },
    "id": "jw1ALWDCPBlZ",
    "outputId": "567a2157-de54-4747-a60f-7c0c696c40a6"
   },
   "outputs": [],
   "source": [
    "shuffledlw=df[['textid', 'alltext', 'sourcetype','Text_stop','Text_stem','Text_lemma']]\n",
    "shuffledlw = shuffledlw.sample(frac=1)\n",
    "shuffledlw.head(10)"
   ]
  },
  {
   "cell_type": "code",
   "execution_count": null,
   "metadata": {
    "executionInfo": {
     "elapsed": 578,
     "status": "ok",
     "timestamp": 1692885193668,
     "user": {
      "displayName": "harriet musinguzi",
      "userId": "10586340658233206628"
     },
     "user_tz": 0
    },
    "id": "hjL3b4JpPBla"
   },
   "outputs": [],
   "source": [
    "\n",
    "\n",
    "#df = pd.read_excel('C:/Users/Administrator/OneDrive/Documents/africa/dataafrica/socialconcernsnew3.xlsx',sheet_name='Sheet1')"
   ]
  },
  {
   "cell_type": "code",
   "execution_count": null,
   "metadata": {
    "executionInfo": {
     "elapsed": 10,
     "status": "ok",
     "timestamp": 1692885195843,
     "user": {
      "displayName": "harriet musinguzi",
      "userId": "10586340658233206628"
     },
     "user_tz": 0
    },
    "id": "MWftOt3cPBla",
    "scrolled": false
   },
   "outputs": [],
   "source": [
    "# df.head(2)"
   ]
  },
  {
   "cell_type": "code",
   "execution_count": null,
   "metadata": {
    "colab": {
     "base_uri": "https://localhost:8080/"
    },
    "executionInfo": {
     "elapsed": 25,
     "status": "ok",
     "timestamp": 1692885196431,
     "user": {
      "displayName": "harriet musinguzi",
      "userId": "10586340658233206628"
     },
     "user_tz": 0
    },
    "id": "dRhcDE-5PBlb",
    "outputId": "6bf294a0-4ee1-485f-d1cf-e7708e0f79a3"
   },
   "outputs": [],
   "source": [
    "#df = df.dropna()\n",
    "#df = df.reset_index(drop=True)\n",
    "print(\"No. of columns containing null values\")\n",
    "print(len(df.columns[df.isna().any()]))\n",
    "\n",
    "print(\"No. of columns not containing null values\")\n",
    "print(len(df.columns[df.notna().all()]))\n",
    "\n",
    "print(\"Total no. of columns in the dataframe\")\n",
    "print(len(df.columns))"
   ]
  },
  {
   "cell_type": "code",
   "execution_count": null,
   "metadata": {
    "colab": {
     "base_uri": "https://localhost:8080/"
    },
    "executionInfo": {
     "elapsed": 9,
     "status": "ok",
     "timestamp": 1692885197968,
     "user": {
      "displayName": "harriet musinguzi",
      "userId": "10586340658233206628"
     },
     "user_tz": 0
    },
    "id": "JISZKqrxPBlc",
    "outputId": "30bd088f-5ca7-4540-f512-aa7e6df2ea6a"
   },
   "outputs": [],
   "source": [
    "df.shape"
   ]
  },
  {
   "cell_type": "code",
   "execution_count": null,
   "metadata": {
    "colab": {
     "base_uri": "https://localhost:8080/",
     "height": 335
    },
    "executionInfo": {
     "elapsed": 795,
     "status": "ok",
     "timestamp": 1692885219347,
     "user": {
      "displayName": "harriet musinguzi",
      "userId": "10586340658233206628"
     },
     "user_tz": 0
    },
    "id": "7dGCkJ8nPBld",
    "outputId": "1aa29cfd-060c-4614-b884-9eb8dd95b7e7",
    "scrolled": true
   },
   "outputs": [],
   "source": [
    "# df = df.drop(df.columns[df.isna().sum()>len(df.columns)],axis = 1)\n",
    "# df = df.dropna(axis = 0).reset_index(drop=True)\n",
    "\n",
    "df = df[~df.isin(['nan']).any(axis=1)]\n",
    "df.head(2)"
   ]
  },
  {
   "cell_type": "code",
   "execution_count": null,
   "metadata": {
    "colab": {
     "base_uri": "https://localhost:8080/"
    },
    "executionInfo": {
     "elapsed": 19,
     "status": "ok",
     "timestamp": 1692885220270,
     "user": {
      "displayName": "harriet musinguzi",
      "userId": "10586340658233206628"
     },
     "user_tz": 0
    },
    "id": "N--TdrMxPBle",
    "outputId": "dd777981-822a-4f0c-c924-5ab6d633fd99",
    "scrolled": true
   },
   "outputs": [],
   "source": [
    "df.columns"
   ]
  },
  {
   "cell_type": "code",
   "execution_count": null,
   "metadata": {
    "colab": {
     "base_uri": "https://localhost:8080/"
    },
    "executionInfo": {
     "elapsed": 17,
     "status": "ok",
     "timestamp": 1692885220271,
     "user": {
      "displayName": "harriet musinguzi",
      "userId": "10586340658233206628"
     },
     "user_tz": 0
    },
    "id": "Ziuh7U_CPBlf",
    "outputId": "533213f2-f8dd-4192-cb78-36ccff7bbc65"
   },
   "outputs": [],
   "source": [
    "df.shape"
   ]
  },
  {
   "cell_type": "code",
   "execution_count": null,
   "metadata": {
    "colab": {
     "base_uri": "https://localhost:8080/"
    },
    "executionInfo": {
     "elapsed": 14,
     "status": "ok",
     "timestamp": 1692885222672,
     "user": {
      "displayName": "harriet musinguzi",
      "userId": "10586340658233206628"
     },
     "user_tz": 0
    },
    "id": "71jlStMfPBlf",
    "outputId": "aa88b71d-f0d7-4a12-d367-e61a92d53602"
   },
   "outputs": [],
   "source": [
    "df2=df.dropna()\n",
    "df2.shape"
   ]
  },
  {
   "cell_type": "code",
   "execution_count": null,
   "metadata": {
    "executionInfo": {
     "elapsed": 12969,
     "status": "ok",
     "timestamp": 1692885318892,
     "user": {
      "displayName": "harriet musinguzi",
      "userId": "10586340658233206628"
     },
     "user_tz": 0
    },
    "id": "PsLsv7MpPBlg"
   },
   "outputs": [],
   "source": [
    "# df.to_csv(\"C:/Users/Administrator/OneDrive/Documents/africa/dataafrica/socialcons_clean2.csv\", encoding = \"UTF-8\")\n",
    "# df.to_csv(\"D:/senego/dataafrica/oldfiles/socialcons_clean2.csv\", encoding = \"UTF-8\")\n",
    "df.to_csv('/content/drive/MyDrive/Colab Notebooks/socialcons_clean2.csv')"
   ]
  },
  {
   "cell_type": "code",
   "execution_count": null,
   "metadata": {
    "executionInfo": {
     "elapsed": 1133,
     "status": "ok",
     "timestamp": 1692885323459,
     "user": {
      "displayName": "harriet musinguzi",
      "userId": "10586340658233206628"
     },
     "user_tz": 0
    },
    "id": "uj6cBtMKPBlh",
    "scrolled": true
   },
   "outputs": [],
   "source": [
    "# df.head(2)"
   ]
  },
  {
   "cell_type": "code",
   "execution_count": null,
   "metadata": {
    "executionInfo": {
     "elapsed": 37020,
     "status": "aborted",
     "timestamp": 1692878837656,
     "user": {
      "displayName": "harriet musinguzi",
      "userId": "10586340658233206628"
     },
     "user_tz": 0
    },
    "id": "nigc-JrbPBlh",
    "scrolled": true
   },
   "outputs": [],
   "source": [
    "# cleandf = spark.read.csv(\"D:/senego/dataafrica/oldfiles/socialcons_clean2.csv\", header=True, inferSchema=True)\n",
    "# cleandf.limit(5)"
   ]
  },
  {
   "cell_type": "code",
   "execution_count": null,
   "metadata": {
    "executionInfo": {
     "elapsed": 37016,
     "status": "aborted",
     "timestamp": 1692878837657,
     "user": {
      "displayName": "harriet musinguzi",
      "userId": "10586340658233206628"
     },
     "user_tz": 0
    },
    "id": "oRYFmCsLPBli"
   },
   "outputs": [],
   "source": [
    "# cleandf2=cleandf.dropna()\n"
   ]
  },
  {
   "cell_type": "code",
   "execution_count": null,
   "metadata": {
    "executionInfo": {
     "elapsed": 36995,
     "status": "aborted",
     "timestamp": 1692878837658,
     "user": {
      "displayName": "harriet musinguzi",
      "userId": "10586340658233206628"
     },
     "user_tz": 0
    },
    "id": "KvKHO7avPBlj"
   },
   "outputs": [],
   "source": [
    "# cleandf2.printSchema()"
   ]
  },
  {
   "cell_type": "code",
   "execution_count": null,
   "metadata": {
    "executionInfo": {
     "elapsed": 36975,
     "status": "aborted",
     "timestamp": 1692878837659,
     "user": {
      "displayName": "harriet musinguzi",
      "userId": "10586340658233206628"
     },
     "user_tz": 0
    },
    "id": "rJX9YyP-PBlj"
   },
   "outputs": [],
   "source": [
    "# cleandf2.limit(2)"
   ]
  },
  {
   "cell_type": "code",
   "execution_count": null,
   "metadata": {
    "executionInfo": {
     "elapsed": 36971,
     "status": "aborted",
     "timestamp": 1692878837660,
     "user": {
      "displayName": "harriet musinguzi",
      "userId": "10586340658233206628"
     },
     "user_tz": 0
    },
    "id": "Dxz5eAYsPBlk"
   },
   "outputs": [],
   "source": [
    "# cleandf2.write \\\n",
    "#   .format(\"jdbc\") \\\n",
    "#   .option(\"driver\",\"com.mysql.cj.jdbc.Driver\") \\\n",
    "#   .option(\"url\", \"jdbc:mysql://localhost:3306/socialconcernsnew3?serverTimezone=UTC\") \\\n",
    "#   .option(\"dbtable\", \"social_cons_all2\") \\\n",
    "#   .option(\"user\", \"root\") \\\n",
    "#   .option(\"password\", \"Sibitary1#\") \\\n",
    "#   .save()"
   ]
  },
  {
   "cell_type": "code",
   "execution_count": null,
   "metadata": {
    "executionInfo": {
     "elapsed": 36967,
     "status": "aborted",
     "timestamp": 1692878837661,
     "user": {
      "displayName": "harriet musinguzi",
      "userId": "10586340658233206628"
     },
     "user_tz": 0
    },
    "id": "p_bZhkZZPBlk"
   },
   "outputs": [],
   "source": []
  },
  {
   "cell_type": "code",
   "execution_count": null,
   "metadata": {
    "executionInfo": {
     "elapsed": 36963,
     "status": "aborted",
     "timestamp": 1692878837662,
     "user": {
      "displayName": "harriet musinguzi",
      "userId": "10586340658233206628"
     },
     "user_tz": 0
    },
    "id": "tfK7qnHMPBll"
   },
   "outputs": [],
   "source": []
  },
  {
   "cell_type": "code",
   "execution_count": null,
   "metadata": {
    "executionInfo": {
     "elapsed": 36960,
     "status": "aborted",
     "timestamp": 1692878837663,
     "user": {
      "displayName": "harriet musinguzi",
      "userId": "10586340658233206628"
     },
     "user_tz": 0
    },
    "id": "6xT5-q4DPBll"
   },
   "outputs": [],
   "source": []
  },
  {
   "cell_type": "code",
   "execution_count": null,
   "metadata": {
    "executionInfo": {
     "elapsed": 13,
     "status": "aborted",
     "timestamp": 1692878839655,
     "user": {
      "displayName": "harriet musinguzi",
      "userId": "10586340658233206628"
     },
     "user_tz": 0
    },
    "id": "8vitrcU9PBlm"
   },
   "outputs": [],
   "source": []
  }
 ],
 "metadata": {
  "accelerator": "GPU",
  "colab": {
   "gpuType": "T4",
   "provenance": []
  },
  "kernelspec": {
   "display_name": "Python 3 (ipykernel)",
   "language": "python",
   "name": "python3"
  },
  "language_info": {
   "codemirror_mode": {
    "name": "ipython",
    "version": 3
   },
   "file_extension": ".py",
   "mimetype": "text/x-python",
   "name": "python",
   "nbconvert_exporter": "python",
   "pygments_lexer": "ipython3",
   "version": "3.11.5"
  }
 },
 "nbformat": 4,
 "nbformat_minor": 1
}
