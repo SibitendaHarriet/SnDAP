{
 "cells": [
  {
   "cell_type": "code",
   "execution_count": 1,
   "metadata": {},
   "outputs": [],
   "source": [
    "\n",
    "import pandas as pd\n",
    "import matplotlib.pyplot as plt\n",
    "\n",
    "import seaborn as sns\n",
    "from youtube_data import youtube_search"
   ]
  },
  {
   "cell_type": "code",
   "execution_count": null,
   "metadata": {},
   "outputs": [],
   "source": []
  },
  {
   "cell_type": "markdown",
   "metadata": {},
   "source": [
    "We can call the function youtube_search present in youtube_data.py and use the youtube_search function which returns a dictionary."
   ]
  },
  {
   "cell_type": "code",
   "execution_count": 21,
   "metadata": {
    "scrolled": false
   },
   "outputs": [],
   "source": [
    "def read_youtube(list_title, start_year, end_year):\n",
    "    tests = []\n",
    "\n",
    "    for i in range(start_year, end_year+1):\n",
    "        for title in list_title:\n",
    "            tests.append(youtube_search(\"social \" + title + \", Africa, \"+str(i)))\n",
    "\n",
    "    return tests\n",
    "\n",
    "\n",
    "test = read_youtube([\"concern\", \"problem\", \"challenge\", \"worry\", \"issue\", \"question\"], 2020, 2020)\n",
    "\n",
    "\n",
    "df_test = []\n",
    "for t in test:\n",
    "\n",
    "    t.keys()\n",
    "    df_test.append(pd.DataFrame(data=t))\n",
    "df = pd.concat(df_test)\n",
    "# save to excel sheet\n",
    "df.to_excel(\"concerns120202020.xlsx\")"
   ]
  },
  {
   "cell_type": "code",
   "execution_count": 22,
   "metadata": {},
   "outputs": [],
   "source": [
    "df_test = []\n",
    "for t in test:\n",
    "\n",
    "    t.keys()\n",
    "    df_test.append(pd.DataFrame(data=t))\n"
   ]
  },
  {
   "cell_type": "code",
   "execution_count": 24,
   "metadata": {},
   "outputs": [],
   "source": [
    "df = pd.concat(df_test)"
   ]
  },
  {
   "cell_type": "code",
   "execution_count": 25,
   "metadata": {},
   "outputs": [
    {
     "data": {
      "text/html": [
       "<div>\n",
       "<style scoped>\n",
       "    .dataframe tbody tr th:only-of-type {\n",
       "        vertical-align: middle;\n",
       "    }\n",
       "\n",
       "    .dataframe tbody tr th {\n",
       "        vertical-align: top;\n",
       "    }\n",
       "\n",
       "    .dataframe thead th {\n",
       "        text-align: right;\n",
       "    }\n",
       "</style>\n",
       "<table border=\"1\" class=\"dataframe\">\n",
       "  <thead>\n",
       "    <tr style=\"text-align: right;\">\n",
       "      <th></th>\n",
       "      <th>tags</th>\n",
       "      <th>channelId</th>\n",
       "      <th>channelTitle</th>\n",
       "      <th>categoryId</th>\n",
       "      <th>title</th>\n",
       "      <th>videoId</th>\n",
       "      <th>viewCount</th>\n",
       "      <th>commentCount</th>\n",
       "      <th>favoriteCount</th>\n",
       "    </tr>\n",
       "  </thead>\n",
       "  <tbody>\n",
       "    <tr>\n",
       "      <th>0</th>\n",
       "      <td>[The Social Problems in Africa Doc 1 Full Lect...</td>\n",
       "      <td>UC_STwA23RnVrj5bYe4OniIw</td>\n",
       "      <td>Kawalis Family</td>\n",
       "      <td>22</td>\n",
       "      <td>The Social Problems in Africa Doc 1 Full Lectu...</td>\n",
       "      <td>ggJm7PmkT84</td>\n",
       "      <td>2539</td>\n",
       "      <td>0</td>\n",
       "      <td>0</td>\n",
       "    </tr>\n",
       "    <tr>\n",
       "      <th>1</th>\n",
       "      <td>[]</td>\n",
       "      <td>UCjinQ1Dr8-MZHVDwwf_77Yw</td>\n",
       "      <td>SouthSide Comedy</td>\n",
       "      <td>23</td>\n",
       "      <td>SOCIAL DISTANCING (Africa vs Rest Of World) | ...</td>\n",
       "      <td>TvK70nr8FTw</td>\n",
       "      <td>1213</td>\n",
       "      <td>1</td>\n",
       "      <td>0</td>\n",
       "    </tr>\n",
       "    <tr>\n",
       "      <th>2</th>\n",
       "      <td>[Heal Africa]</td>\n",
       "      <td>UCycy9CyXHUD8d91FFJh90ng</td>\n",
       "      <td>Heal Africa</td>\n",
       "      <td>24</td>\n",
       "      <td>Social Distancing - Episode 2 | Heal Africa Films</td>\n",
       "      <td>zpn7qUc2lgU</td>\n",
       "      <td>252</td>\n",
       "      <td>0</td>\n",
       "      <td>0</td>\n",
       "    </tr>\n",
       "    <tr>\n",
       "      <th>3</th>\n",
       "      <td>[LATEST, TRENDING, PERFORMANCE, MATIANGI]</td>\n",
       "      <td>UC9T922hvCFns0DydovQOdzg</td>\n",
       "      <td>PRIMARY REVISION KENYA OFFICIAL</td>\n",
       "      <td>27</td>\n",
       "      <td>SOCIAL STUDIES SONGS FOR AFRICA:  E. WAWERU 2020</td>\n",
       "      <td>oQ_4cJ9_gy8</td>\n",
       "      <td>1387173</td>\n",
       "      <td>1082</td>\n",
       "      <td>0</td>\n",
       "    </tr>\n",
       "    <tr>\n",
       "      <th>4</th>\n",
       "      <td>[documentary, documentaries, doco, south afric...</td>\n",
       "      <td>UCmOCpBKeoBPp-HwarhIBA2g</td>\n",
       "      <td>Best Documentary</td>\n",
       "      <td>24</td>\n",
       "      <td>South Africa, In Search of Social Justice</td>\n",
       "      <td>U4u6S-_gSlA</td>\n",
       "      <td>5995</td>\n",
       "      <td>29</td>\n",
       "      <td>0</td>\n",
       "    </tr>\n",
       "    <tr>\n",
       "      <th>...</th>\n",
       "      <td>...</td>\n",
       "      <td>...</td>\n",
       "      <td>...</td>\n",
       "      <td>...</td>\n",
       "      <td>...</td>\n",
       "      <td>...</td>\n",
       "      <td>...</td>\n",
       "      <td>...</td>\n",
       "      <td>...</td>\n",
       "    </tr>\n",
       "    <tr>\n",
       "      <th>45</th>\n",
       "      <td>[]</td>\n",
       "      <td>UCHSOqo1eYLPaoY82fMs7_Rw</td>\n",
       "      <td>National Geographic Africa</td>\n",
       "      <td>22</td>\n",
       "      <td>South Africa and 30x30: Social, economic and e...</td>\n",
       "      <td>VPmelOJAhZo</td>\n",
       "      <td>258</td>\n",
       "      <td>0</td>\n",
       "      <td>0</td>\n",
       "    </tr>\n",
       "    <tr>\n",
       "      <th>46</th>\n",
       "      <td>[Africa, Africa 7th class Social studies, Afri...</td>\n",
       "      <td>UCWZURcr-Ci3WkccppIADWzQ</td>\n",
       "      <td>GVS Academy</td>\n",
       "      <td>27</td>\n",
       "      <td>Africa 7th Class Social studies | Africa lesso...</td>\n",
       "      <td>3Vtvw6pQA34</td>\n",
       "      <td>18420</td>\n",
       "      <td>55</td>\n",
       "      <td>0</td>\n",
       "    </tr>\n",
       "    <tr>\n",
       "      <th>47</th>\n",
       "      <td>[Zozi Tunzi, zozibini tunzi, zozibini tunzi mi...</td>\n",
       "      <td>UCgK0ISOrgUkitGvKo4c9Wfg</td>\n",
       "      <td>DStv</td>\n",
       "      <td>24</td>\n",
       "      <td>Zozibini Tunzi Nominated for African Social St...</td>\n",
       "      <td>YxiJK_LfDeA</td>\n",
       "      <td>530</td>\n",
       "      <td>2</td>\n",
       "      <td>0</td>\n",
       "    </tr>\n",
       "    <tr>\n",
       "      <th>48</th>\n",
       "      <td>[IMF, international monetary fund, Education, ...</td>\n",
       "      <td>UCIYhr3JsLYfKkCM7-W5B6DA</td>\n",
       "      <td>IMF</td>\n",
       "      <td>25</td>\n",
       "      <td>Social Spending for Inclusive Growth in the Mi...</td>\n",
       "      <td>T-EWT83aOAo</td>\n",
       "      <td>599</td>\n",
       "      <td>4</td>\n",
       "      <td>0</td>\n",
       "    </tr>\n",
       "    <tr>\n",
       "      <th>49</th>\n",
       "      <td>[bbc, bbc news, news]</td>\n",
       "      <td>UC16niRr50-MSBwiO3YDb3RA</td>\n",
       "      <td>BBC News</td>\n",
       "      <td>25</td>\n",
       "      <td>Have Turkey’s building designs impacted the ea...</td>\n",
       "      <td>npow8eiaP0s</td>\n",
       "      <td>177352</td>\n",
       "      <td>728</td>\n",
       "      <td>0</td>\n",
       "    </tr>\n",
       "  </tbody>\n",
       "</table>\n",
       "<p>300 rows × 9 columns</p>\n",
       "</div>"
      ],
      "text/plain": [
       "                                                 tags  \\\n",
       "0   [The Social Problems in Africa Doc 1 Full Lect...   \n",
       "1                                                  []   \n",
       "2                                       [Heal Africa]   \n",
       "3           [LATEST, TRENDING, PERFORMANCE, MATIANGI]   \n",
       "4   [documentary, documentaries, doco, south afric...   \n",
       "..                                                ...   \n",
       "45                                                 []   \n",
       "46  [Africa, Africa 7th class Social studies, Afri...   \n",
       "47  [Zozi Tunzi, zozibini tunzi, zozibini tunzi mi...   \n",
       "48  [IMF, international monetary fund, Education, ...   \n",
       "49                              [bbc, bbc news, news]   \n",
       "\n",
       "                   channelId                     channelTitle categoryId  \\\n",
       "0   UC_STwA23RnVrj5bYe4OniIw                   Kawalis Family         22   \n",
       "1   UCjinQ1Dr8-MZHVDwwf_77Yw                 SouthSide Comedy         23   \n",
       "2   UCycy9CyXHUD8d91FFJh90ng                      Heal Africa         24   \n",
       "3   UC9T922hvCFns0DydovQOdzg  PRIMARY REVISION KENYA OFFICIAL         27   \n",
       "4   UCmOCpBKeoBPp-HwarhIBA2g                 Best Documentary         24   \n",
       "..                       ...                              ...        ...   \n",
       "45  UCHSOqo1eYLPaoY82fMs7_Rw       National Geographic Africa         22   \n",
       "46  UCWZURcr-Ci3WkccppIADWzQ                      GVS Academy         27   \n",
       "47  UCgK0ISOrgUkitGvKo4c9Wfg                             DStv         24   \n",
       "48  UCIYhr3JsLYfKkCM7-W5B6DA                              IMF         25   \n",
       "49  UC16niRr50-MSBwiO3YDb3RA                         BBC News         25   \n",
       "\n",
       "                                                title      videoId viewCount  \\\n",
       "0   The Social Problems in Africa Doc 1 Full Lectu...  ggJm7PmkT84      2539   \n",
       "1   SOCIAL DISTANCING (Africa vs Rest Of World) | ...  TvK70nr8FTw      1213   \n",
       "2   Social Distancing - Episode 2 | Heal Africa Films  zpn7qUc2lgU       252   \n",
       "3    SOCIAL STUDIES SONGS FOR AFRICA:  E. WAWERU 2020  oQ_4cJ9_gy8   1387173   \n",
       "4           South Africa, In Search of Social Justice  U4u6S-_gSlA      5995   \n",
       "..                                                ...          ...       ...   \n",
       "45  South Africa and 30x30: Social, economic and e...  VPmelOJAhZo       258   \n",
       "46  Africa 7th Class Social studies | Africa lesso...  3Vtvw6pQA34     18420   \n",
       "47  Zozibini Tunzi Nominated for African Social St...  YxiJK_LfDeA       530   \n",
       "48  Social Spending for Inclusive Growth in the Mi...  T-EWT83aOAo       599   \n",
       "49  Have Turkey’s building designs impacted the ea...  npow8eiaP0s    177352   \n",
       "\n",
       "   commentCount favoriteCount  \n",
       "0             0             0  \n",
       "1             1             0  \n",
       "2             0             0  \n",
       "3          1082             0  \n",
       "4            29             0  \n",
       "..          ...           ...  \n",
       "45            0             0  \n",
       "46           55             0  \n",
       "47            2             0  \n",
       "48            4             0  \n",
       "49          728             0  \n",
       "\n",
       "[300 rows x 9 columns]"
      ]
     },
     "execution_count": 25,
     "metadata": {},
     "output_type": "execute_result"
    }
   ],
   "source": [
    "df"
   ]
  },
  {
   "cell_type": "markdown",
   "metadata": {},
   "source": [
    "The above function searches for the given Keyword in YouTube, gets the statistics, tags and category details for each video. "
   ]
  },
  {
   "cell_type": "code",
   "execution_count": 26,
   "metadata": {},
   "outputs": [],
   "source": [
    "#test['commentCount'][:5]\n"
   ]
  },
  {
   "cell_type": "code",
   "execution_count": 27,
   "metadata": {},
   "outputs": [],
   "source": [
    "# df = pd.DataFrame(data=test)\n",
    "# df.head()"
   ]
  },
  {
   "cell_type": "markdown",
   "metadata": {},
   "source": [
    "Rearranging the columns in the below cell"
   ]
  },
  {
   "cell_type": "code",
   "execution_count": 9,
   "metadata": {},
   "outputs": [],
   "source": [
    "# df1 = df[['title','viewCount','channelTitle','commentCount','tags','favoriteCount','videoId','channelId','categoryId']]\n",
    "# df1.columns = ['Title','viewCount','channelTitle','commentCount','tags','favoriteCount','videoId','channelId','categoryId']\n",
    "# df1.head(2)"
   ]
  },
  {
   "cell_type": "code",
   "execution_count": 29,
   "metadata": {},
   "outputs": [],
   "source": [
    "#df1_to_excel('concerns20182019.xlsx')\n",
    "df.to_excel(\"concerns120202020.xlsx\")"
   ]
  },
  {
   "cell_type": "code",
   "execution_count": 28,
   "metadata": {},
   "outputs": [],
   "source": [
    "df.to_csv('concerns20202020.csv', sep=',', index=False)"
   ]
  },
  {
   "cell_type": "markdown",
   "metadata": {},
   "source": [
    "We need to convert the numbers from string to integer."
   ]
  },
  {
   "cell_type": "code",
   "execution_count": null,
   "metadata": {},
   "outputs": [],
   "source": []
  },
  {
   "cell_type": "code",
   "execution_count": null,
   "metadata": {},
   "outputs": [],
   "source": [
    "df1.to_csv(\"fb3.csv\")"
   ]
  },
  {
   "cell_type": "code",
   "execution_count": null,
   "metadata": {},
   "outputs": [],
   "source": []
  }
 ],
 "metadata": {
  "kernelspec": {
   "display_name": "Python 3 (ipykernel)",
   "language": "python",
   "name": "python3"
  },
  "language_info": {
   "codemirror_mode": {
    "name": "ipython",
    "version": 3
   },
   "file_extension": ".py",
   "mimetype": "text/x-python",
   "name": "python",
   "nbconvert_exporter": "python",
   "pygments_lexer": "ipython3",
   "version": "3.11.5"
  },
  "vscode": {
   "interpreter": {
    "hash": "57bc2b6ce032b5f0e93daa91901b7ea38a856826ef43aa9e95b6d3999f5310df"
   }
  }
 },
 "nbformat": 4,
 "nbformat_minor": 2
}
