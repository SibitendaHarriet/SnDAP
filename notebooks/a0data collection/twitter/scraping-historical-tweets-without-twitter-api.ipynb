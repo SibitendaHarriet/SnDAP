{
 "cells": [
  {
   "cell_type": "markdown",
   "id": "resident-chemical",
   "metadata": {
    "papermill": {
     "duration": 0.021894,
     "end_time": "2021-04-15T20:36:13.806547",
     "exception": false,
     "start_time": "2021-04-15T20:36:13.784653",
     "status": "completed"
    },
    "tags": []
   },
   "source": [
    "# <center> Scraping historical tweets without a Twitter Developer Account\n",
    "\n",
    "![Image by Tumisu from Pixabay](https://mihaelagrigore.info/wp-content/uploads/2021/04/scrape-historical-tweets-and-other-social-networks.jpg)"
   ]
  },
  {
   "cell_type": "markdown",
   "id": "infrared-riding",
   "metadata": {
    "papermill": {
     "duration": 0.019831,
     "end_time": "2021-04-15T20:36:13.846405",
     "exception": false,
     "start_time": "2021-04-15T20:36:13.826574",
     "status": "completed"
    },
    "tags": []
   },
   "source": [
    "The tool we will use:\n",
    "- snscrape\n",
    "\n",
    "What you need: \n",
    "- Python 3.8\n",
    "\n",
    "What you don't need:\n",
    "- a Twitter Developer Account\n",
    "\n",
    "\n",
    "For a research project related to public discourse about results on international large scale assessments I needed to scrape historical tweets, going back all the way to the begining of Twitter. This is how I discovered **snscrape**, a wonderful tool, easy to setup and use. \n",
    "\n",
    "I didn't find snscrape from the start, initially I was reading through the intricate details of Twitter Developer Account, application procedure, different levels of access, limits etc etc. But luckily a friend recommended snscrape and suddenly the task of collecting tweets became extremely easy.\n",
    "\n",
    "Snscrape is a popular tool with social scientists for Tweets collection, at least in 2021. Apparently, it bypasses several limitations of the Twitter API.  \n",
    "The prettiest thing is that you don't need Twitter developer account credentials (like you do with <a href='https://www.tweepy.org/'>Tweepy</a>, for example)\n",
    "\n",
    "<font color='red'>Mind that installing and running snscrape does not work in Kaggle, at the moment, because Kaggle does not offer Python 3.8.  \n",
    "    You will have to download this Notebook and run it in Google Colab, Deepnote or your local Anaconda installation, for example,</font>"
   ]
  },
  {
   "cell_type": "markdown",
   "id": "former-sleeve",
   "metadata": {
    "papermill": {
     "duration": 0.021217,
     "end_time": "2021-04-15T20:36:13.888764",
     "exception": false,
     "start_time": "2021-04-15T20:36:13.867547",
     "status": "completed"
    },
    "tags": []
   },
   "source": [
    "## Table of contents\n",
    "\n",
    "\n",
    "1. [Installing snscrape](#1.-Installing-snscrape)\n",
    "2. [How to use snscrape](#2.-How-to-use-snscrape)\n",
    "3. [Calling snscrape CLI commands from Python Notebook](#3.-Calling-snscrape-CLI-commands-from-Python-Notebook)\n",
    "4. [Using snscrape Python wrapper](#4.-Using-snscrape-Python-wrapper)\n",
    "5. [Tweets meta-information gathered with snscrape](#5.-Tweets-meta-information-gathered-with-snscrape) \n",
    "6. [Dataset manipulation: JSON, CSV and Pandas DataFrame](#6.-Dataset-manipulation:-JSON,-CSV-and-Pandas-DataFrame)\n",
    "7. [Basic exploration of our collected dataset of tweets](#7.-Basic-exploration-of-our-collected-dataset-of-tweets)\n",
    "8. [Bonus: Publishing your Jupyter Notebook on Medium](#8.-Bonus:-Publishing-your-Jupyter-Notebook-on-Medium)\n",
    "9. [What next ? Sentiment analysis](#9.-What-next-?-Sentiment-analysis)"
   ]
  },
  {
   "cell_type": "markdown",
   "id": "selective-punch",
   "metadata": {
    "papermill": {
     "duration": 0.019919,
     "end_time": "2021-04-15T20:36:13.928744",
     "exception": false,
     "start_time": "2021-04-15T20:36:13.908825",
     "status": "completed"
    },
    "tags": []
   },
   "source": [
    "We begin with some standard library imports."
   ]
  },
  {
   "cell_type": "code",
   "execution_count": 1,
   "id": "enclosed-grenada",
   "metadata": {
    "execution": {
     "iopub.execute_input": "2021-04-15T20:36:13.974487Z",
     "iopub.status.busy": "2021-04-15T20:36:13.973457Z",
     "iopub.status.idle": "2021-04-15T20:36:13.978090Z",
     "shell.execute_reply": "2021-04-15T20:36:13.978633Z"
    },
    "papermill": {
     "duration": 0.028662,
     "end_time": "2021-04-15T20:36:13.978900",
     "exception": false,
     "start_time": "2021-04-15T20:36:13.950238",
     "status": "completed"
    },
    "tags": []
   },
   "outputs": [],
   "source": [
    "import os\n",
    "import subprocess\n",
    "\n",
    "import json\n",
    "import csv\n",
    "\n",
    "import uuid\n",
    "\n",
    "from IPython.display import display_javascript, display_html, display\n",
    "\n",
    "import pandas as pd\n",
    "import numpy as np\n",
    "\n",
    "from datetime import datetime, date, time"
   ]
  },
  {
   "cell_type": "markdown",
   "id": "progressive-startup",
   "metadata": {
    "papermill": {
     "duration": 0.020757,
     "end_time": "2021-04-15T20:36:14.020124",
     "exception": false,
     "start_time": "2021-04-15T20:36:13.999367",
     "status": "completed"
    },
    "tags": []
   },
   "source": [
    "## 1. Installing snscrape"
   ]
  },
  {
   "cell_type": "markdown",
   "id": "oriented-stadium",
   "metadata": {
    "papermill": {
     "duration": 0.021053,
     "end_time": "2021-04-15T20:36:14.063402",
     "exception": false,
     "start_time": "2021-04-15T20:36:14.042349",
     "status": "completed"
    },
    "tags": []
   },
   "source": [
    "Snscrape is available from its <a href='https://github.com/JustAnotherArchivist/snscrape'>official github project repository</a>.\n",
    "\n",
    "Snscrape has two versions:\n",
    "- released version, which you can install by running this line in a commant line terminal: **pip3 install snscrape** (for a Windows machine)\n",
    "- **development version**, which is said to have richer functionality, so this is the one I'll be using.   \n",
    "I will use the latter."
   ]
  },
  {
   "cell_type": "markdown",
   "id": "naked-fitness",
   "metadata": {
    "papermill": {
     "duration": 0.019837,
     "end_time": "2021-04-15T20:36:14.103513",
     "exception": false,
     "start_time": "2021-04-15T20:36:14.083676",
     "status": "completed"
    },
    "tags": []
   },
   "source": [
    "First, let's check the current Python version, as snscrape documentation mentions **it requires Python 3.8**"
   ]
  },
  {
   "cell_type": "code",
   "execution_count": 2,
   "id": "qualified-peace",
   "metadata": {
    "execution": {
     "iopub.execute_input": "2021-04-15T20:36:14.146935Z",
     "iopub.status.busy": "2021-04-15T20:36:14.146351Z",
     "iopub.status.idle": "2021-04-15T20:36:14.151087Z",
     "shell.execute_reply": "2021-04-15T20:36:14.151630Z"
    },
    "papermill": {
     "duration": 0.027976,
     "end_time": "2021-04-15T20:36:14.151796",
     "exception": false,
     "start_time": "2021-04-15T20:36:14.123820",
     "status": "completed"
    },
    "tags": []
   },
   "outputs": [
    {
     "name": "stdout",
     "output_type": "stream",
     "text": [
      "3.8.8\n"
     ]
    }
   ],
   "source": [
    "from platform import python_version\n",
    "print(python_version())"
   ]
  },
  {
   "cell_type": "markdown",
   "id": "former-sweden",
   "metadata": {
    "papermill": {
     "duration": 0.020357,
     "end_time": "2021-04-15T20:36:14.193413",
     "exception": false,
     "start_time": "2021-04-15T20:36:14.173056",
     "status": "completed"
    },
    "tags": []
   },
   "source": [
    "If you don't see 3.8.x in your case, please upgrade your Python version before you continue this tutorial, otherwise you will **not be able to install snscrape**."
   ]
  },
  {
   "cell_type": "markdown",
   "id": "parental-provision",
   "metadata": {
    "papermill": {
     "duration": 0.020484,
     "end_time": "2021-04-15T20:36:14.234583",
     "exception": false,
     "start_time": "2021-04-15T20:36:14.214099",
     "status": "completed"
    },
    "tags": []
   },
   "source": [
    "### Installing the development version of snscrape. \n",
    "This will not work when ran in Kaggle, because Kaggle only offers Python 3.7 for the time being"
   ]
  },
  {
   "cell_type": "code",
   "execution_count": 3,
   "id": "understood-station",
   "metadata": {
    "_kg_hide-output": true,
    "execution": {
     "iopub.execute_input": "2021-04-15T20:36:14.293419Z",
     "iopub.status.busy": "2021-04-15T20:36:14.280492Z",
     "iopub.status.idle": "2021-04-15T20:36:24.044673Z",
     "shell.execute_reply": "2021-04-15T20:36:24.045087Z"
    },
    "papermill": {
     "duration": 9.790146,
     "end_time": "2021-04-15T20:36:24.045258",
     "exception": false,
     "start_time": "2021-04-15T20:36:14.255112",
     "status": "completed"
    },
    "tags": []
   },
   "outputs": [],
   "source": [
    "#pip install git+https://github.com/JustAnotherArchivist/snscrape.git"
   ]
  },
  {
   "cell_type": "code",
   "execution_count": 4,
   "id": "structured-eating",
   "metadata": {
    "_kg_hide-output": true,
    "execution": {
     "iopub.execute_input": "2021-04-15T20:36:24.098320Z",
     "iopub.status.busy": "2021-04-15T20:36:24.097538Z",
     "iopub.status.idle": "2021-04-15T20:36:24.142682Z",
     "shell.execute_reply": "2021-04-15T20:36:24.142214Z"
    },
    "papermill": {
     "duration": 0.074091,
     "end_time": "2021-04-15T20:36:24.142883",
     "exception": false,
     "start_time": "2021-04-15T20:36:24.068792",
     "status": "completed"
    },
    "tags": []
   },
   "outputs": [],
   "source": [
    "import snscrape.modules.twitter as sntwitter"
   ]
  },
  {
   "cell_type": "markdown",
   "id": "painful-purse",
   "metadata": {
    "papermill": {
     "duration": 0.023295,
     "end_time": "2021-04-15T20:36:24.190543",
     "exception": false,
     "start_time": "2021-04-15T20:36:24.167248",
     "status": "completed"
    },
    "tags": []
   },
   "source": [
    "## 2. How to use snscrape\n",
    "\n",
    "- through its command line interface (CLI) in the command prompt terminal.\n",
    "- use Python to run the CLI commands from a Jupyter notebook, for example (if you don't want to use the terminal to run commands)\n",
    "- or use the official snscrape Python wrapper. The Python wrapper is not well documented, unfortunately.\n",
    "\n",
    "Parameters you can use:\n",
    "- --jsonl : get the data into jsonl format\n",
    "- --progress\n",
    "- --max-results : limit the number of tweets to collect\n",
    "- --with-entity : Include the entity (e.g. user, channel) as the first output item (default: False)\n",
    "- --since DATETIME : Only return results newer than DATETIME (default: None)\n",
    "- --progress : Report progress on stderr (default: False)"
   ]
  },
  {
   "cell_type": "code",
   "execution_count": 5,
   "id": "forbidden-ground",
   "metadata": {
    "_kg_hide-output": true,
    "execution": {
     "iopub.execute_input": "2021-04-15T20:36:24.246421Z",
     "iopub.status.busy": "2021-04-15T20:36:24.245771Z",
     "iopub.status.idle": "2021-04-15T20:36:24.270813Z",
     "shell.execute_reply": "2021-04-15T20:36:24.270351Z"
    },
    "papermill": {
     "duration": 0.056726,
     "end_time": "2021-04-15T20:36:24.270969",
     "exception": false,
     "start_time": "2021-04-15T20:36:24.214243",
     "status": "completed"
    },
    "tags": []
   },
   "outputs": [
    {
     "name": "stdout",
     "output_type": "stream",
     "text": [
      "usage: snscrape [-h] [--version] [-v] [--dump-locals] [--retry N] [-n N]\n",
      "                [-f FORMAT] [--since DATETIME]\n",
      "                {googleplus-user,telegram-channel,vkontakte-user,facebook-user,facebook-group,gab-user,gab-user-comments,gab-user-media,instagram-user,instagram-hashtag,instagram-location,twitter-search,twitter-thread,twitter-list-members,twitter-user,twitter-hashtag,twitter-list-posts}\n",
      "                ...\n",
      "\n",
      "positional arguments:\n",
      "  {googleplus-user,telegram-channel,vkontakte-user,facebook-user,facebook-group,gab-user,gab-user-comments,gab-user-media,instagram-user,instagram-hashtag,instagram-location,twitter-search,twitter-thread,twitter-list-members,twitter-user,twitter-hashtag,twitter-list-posts}\n",
      "                        The scraper you want to use\n",
      "\n",
      "optional arguments:\n",
      "  -h, --help            show this help message and exit\n",
      "  --version             show program's version number and exit\n",
      "  -v, --verbose, --verbosity\n",
      "                        Increase output verbosity (default: 0)\n",
      "  --dump-locals         Dump local variables on serious log messages (warnings\n",
      "                        or higher) (default: False)\n",
      "  --retry N, --retries N\n",
      "                        When the connection fails or the server returns an\n",
      "                        unexpected response, retry up to N times with an\n",
      "                        exponential backoff (default: 3)\n",
      "  -n N, --max-results N\n",
      "                        Only return the first N results (default: None)\n",
      "  -f FORMAT, --format FORMAT\n",
      "                        Output format (default: None)\n",
      "  --since DATETIME      Only return results newer than DATETIME (default:\n",
      "                        None)\n",
      "\n"
     ]
    }
   ],
   "source": [
    "#Run the snscrape help to see what options / parameters we can use\n",
    "cmd = 'snscrape --help'\n",
    "\n",
    "#This is similar to running os.system(cmd), which would show the output of running the command in the Terminal\n",
    "#window from where I started my Jupyter Notebook (which is what I used to develop this code)\n",
    "#By using subprocees, I capture the commands's output into a variable, whose content I can then print here.\n",
    "output = subprocess.check_output(cmd, shell=True)\n",
    "                                 \n",
    "print(output.decode(\"utf-8\"))                                 "
   ]
  },
  {
   "cell_type": "markdown",
   "id": "inside-tuition",
   "metadata": {
    "papermill": {
     "duration": 0.023868,
     "end_time": "2021-04-15T20:36:24.319234",
     "exception": false,
     "start_time": "2021-04-15T20:36:24.295366",
     "status": "completed"
    },
    "tags": []
   },
   "source": [
    "## 3. Calling snscrape CLI commands from Python Notebook\n",
    "\n",
    "Notice I make use of a few snscrape parameters:  \n",
    "- --max-results, to limit the search\n",
    "- --jsonl, to have my results saved directly into a json file\n",
    "- --since yyyy-mm-dd, so collect tweets starting with this date\n",
    "- twitter-search will tell snscrape what the actual text to search is.  \n",
    "    Notice I use the 'until:yyyy-mm-dd'. This is a workaround for the fact that sncrape does not have support for an --until DATETIME parameters.  \n",
    "    So I'm using Twitter's search <strong>until</strong> feature. That is, I am using a feature already built-in in Twitter search.  \n",
    "    For more <strong>search operators</strong> that you can use and pass on to snscrape as part of the text to search for, see the <a href='https://developer.twitter.com/en/docs/twitter-api/v1/rules-and-filtering/search-operators'>Twitter documentation on search operators</a>."
   ]
  },
  {
   "cell_type": "code",
   "execution_count": 13,
   "id": "available-ecology",
   "metadata": {
    "_kg_hide-output": true,
    "execution": {
     "iopub.execute_input": "2021-04-15T20:36:24.375634Z",
     "iopub.status.busy": "2021-04-15T20:36:24.375079Z",
     "iopub.status.idle": "2021-04-15T20:36:24.385522Z",
     "shell.execute_reply": "2021-04-15T20:36:24.384961Z"
    },
    "papermill": {
     "duration": 0.042259,
     "end_time": "2021-04-15T20:36:24.385660",
     "exception": false,
     "start_time": "2021-04-15T20:36:24.343401",
     "status": "completed"
    },
    "tags": []
   },
   "outputs": [
    {
     "data": {
      "text/plain": [
       "1"
      ]
     },
     "execution_count": 13,
     "metadata": {},
     "output_type": "execute_result"
    }
   ],
   "source": [
    "out_folder = '../working'\n",
    "in_folder = '../input'\n",
    "\n",
    "json_filename = out_folder + '/covid1.json'\n",
    "\n",
    "#Using the OS library to call CLI commands in Python\n",
    "os.system(f'snscrape --max-results 5000 --jsonl --progress --since 2020-12-01 twitter-search \"covid-19,senegal lang:en until:2022-12-31\" > {json_filename}')"
   ]
  },
  {
   "cell_type": "markdown",
   "id": "raised-saver",
   "metadata": {
    "papermill": {
     "duration": 0.024112,
     "end_time": "2021-04-15T20:36:24.434259",
     "exception": false,
     "start_time": "2021-04-15T20:36:24.410147",
     "status": "completed"
    },
    "tags": []
   },
   "source": [
    "## 4. Using snscrape Python wrapper"
   ]
  },
  {
   "cell_type": "code",
   "execution_count": 14,
   "id": "dynamic-newcastle",
   "metadata": {
    "execution": {
     "iopub.execute_input": "2021-04-15T20:36:24.488437Z",
     "iopub.status.busy": "2021-04-15T20:36:24.487864Z",
     "iopub.status.idle": "2021-04-15T20:36:24.490333Z",
     "shell.execute_reply": "2021-04-15T20:36:24.490735Z"
    },
    "papermill": {
     "duration": 0.032224,
     "end_time": "2021-04-15T20:36:24.490899",
     "exception": false,
     "start_time": "2021-04-15T20:36:24.458675",
     "status": "completed"
    },
    "tags": []
   },
   "outputs": [],
   "source": [
    "start = date(2020, 12, 5)\n",
    "start = start.strftime('%Y-%m-%d')\n",
    "\n",
    "stop = date(2022, 12, 14)\n",
    "stop = stop.strftime('%Y-%m-%d')\n",
    "\n",
    "keyword = 'covid-19,senegal'"
   ]
  },
  {
   "cell_type": "code",
   "execution_count": 15,
   "id": "israeli-contents",
   "metadata": {
    "_kg_hide-output": true,
    "execution": {
     "iopub.execute_input": "2021-04-15T20:36:24.556850Z",
     "iopub.status.busy": "2021-04-15T20:36:24.545810Z",
     "iopub.status.idle": "2021-04-15T20:36:24.563065Z",
     "shell.execute_reply": "2021-04-15T20:36:24.562480Z"
    },
    "papermill": {
     "duration": 0.047768,
     "end_time": "2021-04-15T20:36:24.563206",
     "exception": false,
     "start_time": "2021-04-15T20:36:24.515438",
     "status": "completed"
    },
    "tags": []
   },
   "outputs": [
    {
     "ename": "FileNotFoundError",
     "evalue": "[Errno 2] No such file or directory: '../working/covid-19,senegal2020-12-05-2022-12-14.csv'",
     "output_type": "error",
     "traceback": [
      "\u001b[1;31m---------------------------------------------------------------------------\u001b[0m",
      "\u001b[1;31mFileNotFoundError\u001b[0m                         Traceback (most recent call last)",
      "Cell \u001b[1;32mIn[15], line 5\u001b[0m\n\u001b[0;32m      3\u001b[0m \u001b[39m#We are going to write the data into a csv file\u001b[39;00m\n\u001b[0;32m      4\u001b[0m filename \u001b[39m=\u001b[39m out_folder \u001b[39m+\u001b[39m \u001b[39m'\u001b[39m\u001b[39m/\u001b[39m\u001b[39m'\u001b[39m \u001b[39m+\u001b[39m keyword \u001b[39m+\u001b[39m start \u001b[39m+\u001b[39m \u001b[39m'\u001b[39m\u001b[39m-\u001b[39m\u001b[39m'\u001b[39m \u001b[39m+\u001b[39m stop \u001b[39m+\u001b[39m \u001b[39m'\u001b[39m\u001b[39m.csv\u001b[39m\u001b[39m'\u001b[39m\n\u001b[1;32m----> 5\u001b[0m csvFile \u001b[39m=\u001b[39m \u001b[39mopen\u001b[39;49m(filename, \u001b[39m'\u001b[39;49m\u001b[39ma\u001b[39;49m\u001b[39m'\u001b[39;49m, newline\u001b[39m=\u001b[39;49m\u001b[39m'\u001b[39;49m\u001b[39m'\u001b[39;49m, encoding\u001b[39m=\u001b[39;49m\u001b[39m'\u001b[39;49m\u001b[39mutf8\u001b[39;49m\u001b[39m'\u001b[39;49m)\n\u001b[0;32m      7\u001b[0m \u001b[39m#We write to the csv file by using csv writer\u001b[39;00m\n\u001b[0;32m      8\u001b[0m csvWriter \u001b[39m=\u001b[39m csv\u001b[39m.\u001b[39mwriter(csvFile)\n",
      "File \u001b[1;32mc:\\Users\\Administrator\\anaconda3\\lib\\site-packages\\IPython\\core\\interactiveshell.py:282\u001b[0m, in \u001b[0;36m_modified_open\u001b[1;34m(file, *args, **kwargs)\u001b[0m\n\u001b[0;32m    275\u001b[0m \u001b[39mif\u001b[39;00m file \u001b[39min\u001b[39;00m {\u001b[39m0\u001b[39m, \u001b[39m1\u001b[39m, \u001b[39m2\u001b[39m}:\n\u001b[0;32m    276\u001b[0m     \u001b[39mraise\u001b[39;00m \u001b[39mValueError\u001b[39;00m(\n\u001b[0;32m    277\u001b[0m         \u001b[39mf\u001b[39m\u001b[39m\"\u001b[39m\u001b[39mIPython won\u001b[39m\u001b[39m'\u001b[39m\u001b[39mt let you open fd=\u001b[39m\u001b[39m{\u001b[39;00mfile\u001b[39m}\u001b[39;00m\u001b[39m by default \u001b[39m\u001b[39m\"\u001b[39m\n\u001b[0;32m    278\u001b[0m         \u001b[39m\"\u001b[39m\u001b[39mas it is likely to crash IPython. If you know what you are doing, \u001b[39m\u001b[39m\"\u001b[39m\n\u001b[0;32m    279\u001b[0m         \u001b[39m\"\u001b[39m\u001b[39myou can use builtins\u001b[39m\u001b[39m'\u001b[39m\u001b[39m open.\u001b[39m\u001b[39m\"\u001b[39m\n\u001b[0;32m    280\u001b[0m     )\n\u001b[1;32m--> 282\u001b[0m \u001b[39mreturn\u001b[39;00m io_open(file, \u001b[39m*\u001b[39;49margs, \u001b[39m*\u001b[39;49m\u001b[39m*\u001b[39;49mkwargs)\n",
      "\u001b[1;31mFileNotFoundError\u001b[0m: [Errno 2] No such file or directory: '../working/covid-19,senegal2020-12-05-2022-12-14.csv'"
     ]
    }
   ],
   "source": [
    "maxTweets = 1000\n",
    "\n",
    "#We are going to write the data into a csv file\n",
    "filename = out_folder + '/' + keyword + start + '-' + stop + '.csv'\n",
    "csvFile = open(filename, 'a', newline='', encoding='utf8')\n",
    "\n",
    "#We write to the csv file by using csv writer\n",
    "csvWriter = csv.writer(csvFile)\n",
    "csvWriter.writerow(['id','date','tweet'])\n",
    "\n",
    "#I will use the following Twitter search operators:\n",
    "# since - start date for Tweets collection \n",
    "# stop  - stop date for Tweets collection\n",
    "# -filter:links - not very clear what this does, from Twitter search operators documentation: https://developer.twitter.com/en/docs/twitter-api/v1/rules-and-filtering/search-operators\n",
    "#                 but it looks like this will exclude tweets with links from the search results\n",
    "# -filter:replies - removes @reply tweets from search results\n",
    "for i,tweet in enumerate(sntwitter.TwitterSearchScraper(keyword + 'since:' +  start + ' until:' + \\\n",
    "                                                        stop + ' -filter:links -filter:replies').get_items()):\n",
    "    if i > maxTweets :\n",
    "        break\n",
    "    csvWriter.writerow([tweet.id, tweet.date, tweet.content])\n",
    "\n",
    "csvFile.close()"
   ]
  },
  {
   "cell_type": "markdown",
   "id": "allied-liver",
   "metadata": {
    "papermill": {
     "duration": 0.024569,
     "end_time": "2021-04-15T20:36:24.612934",
     "exception": false,
     "start_time": "2021-04-15T20:36:24.588365",
     "status": "completed"
    },
    "tags": []
   },
   "source": [
    "## 5. Tweets meta-information gathered with snscrape"
   ]
  },
  {
   "cell_type": "markdown",
   "id": "fundamental-demographic",
   "metadata": {
    "papermill": {
     "duration": 0.024366,
     "end_time": "2021-04-15T20:36:24.662390",
     "exception": false,
     "start_time": "2021-04-15T20:36:24.638024",
     "status": "completed"
    },
    "tags": []
   },
   "source": [
    "Let's have a look at all the information that is available for every single tweet scraped using snscrape.  \n",
    "\n",
    "For this code I am using one example file that I made precidely for this, which contains a single JSON object. If you want to use a JSON file created with the steps above, you need to make some changes before you can run json.loads on it, as explained in <a href='https://stackoverflow.com/questions/21058935/python-json-loads-shows-valueerror-extra-data'>this stackoverflow discussion</a>.\n",
    "\n",
    "The solution for pretty printing JSON data inside a Jupyter Notebook comes from <a href='https://gist.github.com/nerevar/a068ee373e22391ad3a1413b3e554fb5'>this github project</a>.\n",
    "\n",
    "Click on the + icons to expand the contents of that particular item."
   ]
  },
  {
   "cell_type": "code",
   "execution_count": 9,
   "id": "charitable-senate",
   "metadata": {
    "execution": {
     "iopub.execute_input": "2021-04-15T20:36:24.719433Z",
     "iopub.status.busy": "2021-04-15T20:36:24.718813Z",
     "iopub.status.idle": "2021-04-15T20:36:24.737582Z",
     "shell.execute_reply": "2021-04-15T20:36:24.736998Z"
    },
    "papermill": {
     "duration": 0.050474,
     "end_time": "2021-04-15T20:36:24.737718",
     "exception": false,
     "start_time": "2021-04-15T20:36:24.687244",
     "status": "completed"
    },
    "tags": []
   },
   "outputs": [
    {
     "data": {
      "text/html": [
       "<div id=\"e9c7ea9c-6ac5-4f53-9bcf-c698008e4585\" style=\"color: #000000; background-color: #ffffff; height: 600px; width:100%;font: 12px/18px monospace !important;\"></div>"
      ]
     },
     "metadata": {},
     "output_type": "display_data"
    },
    {
     "data": {
      "application/javascript": "\n        require([\"https://rawgit.com/caldwell/renderjson/master/renderjson.js\"], function() {\n            renderjson.set_show_to_level(2);\n            document.getElementById('e9c7ea9c-6ac5-4f53-9bcf-c698008e4585').appendChild(renderjson([{\"url\": \"https://twitter.com/hlmdmrl/status/1144603007771955200\", \"date\": \"2019-06-28T13:46:37+00:00\", \"content\": \"#PISA2003 #PISA2006 \\n#PISA2009 #PISA2012 \\n#PISA2015 #egtkonus\\nT\\u00fcrkiye sonu\\u00e7lar\\u0131n\\u0131n ortak \\u00f6zelli\\u011fi:\\n1. Do\\u011fu Anadolu, G\\u00fcneydo\\u011fu Anadolu, Do\\u011fu Karadeniz B\\u00f6lgesine e\\u011filmeliyiz.\\n2. Meslek liselerine ve s\\u0131navla \\u00f6\\u011frenci almayan liselere e\\u011filmeliyiz.\\n3. Erkek \\u00f6\\u011frencilere e\\u011filmeliyiz. https://t.co/sywZhOGUKG\", \"renderedContent\": \"#PISA2003 #PISA2006 \\n#PISA2009 #PISA2012 \\n#PISA2015 #egtkonus\\nT\\u00fcrkiye sonu\\u00e7lar\\u0131n\\u0131n ortak \\u00f6zelli\\u011fi:\\n1. Do\\u011fu Anadolu, G\\u00fcneydo\\u011fu Anadolu, Do\\u011fu Karadeniz B\\u00f6lgesine e\\u011filmeliyiz.\\n2. Meslek liselerine ve s\\u0131navla \\u00f6\\u011frenci almayan liselere e\\u011filmeliyiz.\\n3. Erkek \\u00f6\\u011frencilere e\\u011filmeliyiz. twitter.com/bekirgur/statu\\u2026\", \"id\": 1144603007771955200, \"user\": {\"username\": \"hlmdmrl\", \"displayname\": \"hilmi demiral (do\\u00e7. dr.)\", \"id\": 77734713, \"description\": \"#Edebiyat\\u00d6\\u011fretimi | ESOG\\u00dc #egt \\u264c\\ufe0f #TYD\\u00d6 #DilK\\u00fclt\\u00fcr #Konu\\u015fma #Yazma #\\u00c7ocukEdebiyat\\u0131\", \"rawDescription\": \"#Edebiyat\\u00d6\\u011fretimi | ESOG\\u00dc #egt \\u264c\\ufe0f #TYD\\u00d6 #DilK\\u00fclt\\u00fcr #Konu\\u015fma #Yazma #\\u00c7ocukEdebiyat\\u0131\", \"descriptionUrls\": [], \"verified\": false, \"created\": \"2009-09-27T13:25:19+00:00\", \"followersCount\": 1974, \"friendsCount\": 260, \"statusesCount\": 21153, \"favouritesCount\": 16835, \"listedCount\": 12, \"mediaCount\": 1920, \"location\": \"Odunpazar\\u0131, T\\u00fcrkiye\", \"protected\": false, \"linkUrl\": \"https://ogu.academia.edu/hilmidemiral\", \"linkTcourl\": \"https://t.co/lHzyglizPX\", \"profileImageUrl\": \"https://pbs.twimg.com/profile_images/1377007933511327752/ID9b8ZxV_normal.jpg\", \"profileBannerUrl\": \"https://pbs.twimg.com/profile_banners/77734713/1565373450\", \"url\": \"https://twitter.com/hlmdmrl\"}, \"outlinks\": [\"https://twitter.com/bekirgur/status/1144598457992306688\"], \"tcooutlinks\": [\"https://t.co/sywZhOGUKG\"], \"replyCount\": 0, \"retweetCount\": 2, \"likeCount\": 3, \"quoteCount\": 0, \"conversationId\": 1144603007771955200, \"lang\": \"tr\", \"source\": \"<a href=\\\"http://twitter.com\\\" rel=\\\"nofollow\\\">Twitter Web Client</a>\", \"sourceUrl\": \"http://twitter.com\", \"sourceLabel\": \"Twitter Web Client\", \"media\": null, \"retweetedTweet\": null, \"quotedTweet\": {\"url\": \"https://twitter.com/bekirgur/status/1144598457992306688\", \"date\": \"2019-06-28T13:28:32+00:00\", \"content\": \"LGS\\u2019de b\\u00f6lgeler aras\\u0131nda \\u00e7ok b\\u00fcy\\u00fck ba\\u015far\\u0131 farklar\\u0131 var. \\u2066@muberragormez\\u2069\\u2019\\u0131n analizi: https://t.co/rQ7JuJF1Al https://t.co/iaqJRlWXxc\", \"renderedContent\": \"LGS\\u2019de b\\u00f6lgeler aras\\u0131nda \\u00e7ok b\\u00fcy\\u00fck ba\\u015far\\u0131 farklar\\u0131 var. \\u2066@muberragormez\\u2069\\u2019\\u0131n analizi: setav.org/perspektif-201\\u2026 https://t.co/iaqJRlWXxc\", \"id\": 1144598457992306688, \"user\": {\"username\": \"bekirgur\", \"displayname\": \"Bekir G\\u00fcr\", \"id\": 4819139739, \"description\": \"Education Policy, Higher Education, Comparative and International Education. Academic/Akademisyen @ Ankara Y\\u0131ld\\u0131r\\u0131m Beyaz\\u0131t University.\", \"rawDescription\": \"Education Policy, Higher Education, Comparative and International Education. Academic/Akademisyen @ Ankara Y\\u0131ld\\u0131r\\u0131m Beyaz\\u0131t University.\", \"descriptionUrls\": [], \"verified\": false, \"created\": \"2016-01-16T20:50:47+00:00\", \"followersCount\": 7574, \"friendsCount\": 1241, \"statusesCount\": 6087, \"favouritesCount\": 3799, \"listedCount\": 25, \"mediaCount\": 440, \"location\": \"Ankara, Turkey\", \"protected\": false, \"linkUrl\": \"https://bekirgur.net\", \"linkTcourl\": \"https://t.co/QysZDoukXj\", \"profileImageUrl\": \"https://pbs.twimg.com/profile_images/731317683430510592/4ugnPcn2_normal.jpg\", \"profileBannerUrl\": \"https://pbs.twimg.com/profile_banners/4819139739/1595426062\", \"url\": \"https://twitter.com/bekirgur\"}, \"outlinks\": [\"https://www.setav.org/perspektif-2019-lgs-sonuclari-neler-soyluyor/\"], \"tcooutlinks\": [\"https://t.co/rQ7JuJF1Al\"], \"replyCount\": 0, \"retweetCount\": 5, \"likeCount\": 20, \"quoteCount\": 1, \"conversationId\": 1144598457992306688, \"lang\": \"tr\", \"source\": \"<a href=\\\"http://twitter.com/download/iphone\\\" rel=\\\"nofollow\\\">Twitter for iPhone</a>\", \"sourceUrl\": \"http://twitter.com/download/iphone\", \"sourceLabel\": \"Twitter for iPhone\", \"media\": [{\"previewUrl\": \"https://pbs.twimg.com/media/D-JuOSPXUAEg_wA?format=jpg&name=small\", \"fullUrl\": \"https://pbs.twimg.com/media/D-JuOSPXUAEg_wA?format=jpg&name=large\", \"type\": \"photo\"}], \"retweetedTweet\": null, \"quotedTweet\": null, \"mentionedUsers\": [{\"username\": \"muberragormez\", \"displayname\": \"M\\u00fcberra G\\u00f6rmez Emin\", \"id\": 264258417, \"description\": null, \"rawDescription\": null, \"descriptionUrls\": null, \"verified\": null, \"created\": null, \"followersCount\": null, \"friendsCount\": null, \"statusesCount\": null, \"favouritesCount\": null, \"listedCount\": null, \"mediaCount\": null, \"location\": null, \"protected\": null, \"linkUrl\": null, \"linkTcourl\": null, \"profileImageUrl\": null, \"profileBannerUrl\": null, \"url\": \"https://twitter.com/muberragormez\"}]}, \"mentionedUsers\": null}]))\n        });\n      "
     },
     "metadata": {},
     "output_type": "display_data"
    }
   ],
   "source": [
    "filename = '../input/example/example.json'\n",
    "  \n",
    "with open(filename) as json_file:\n",
    "    data = json.load(json_file)\n",
    "\n",
    "class RenderJSON(object):\n",
    "    def __init__(self, json_data):\n",
    "        if isinstance(json_data, dict) or isinstance(json_data, list):\n",
    "            self.json_str = json.dumps(json_data)\n",
    "        else:\n",
    "            self.json_str = json_data\n",
    "        self.uuid = str(uuid.uuid4())\n",
    "\n",
    "    def _ipython_display_(self):\n",
    "        display_html('<div id=\"{}\" style=\"color: #000000; background-color: #ffffff; height: 600px; width:100%;font: 12px/18px monospace !important;\"></div>'.format(self.uuid), raw=True)\n",
    "        display_javascript(\"\"\"\n",
    "        require([\"https://rawgit.com/caldwell/renderjson/master/renderjson.js\"], function() {\n",
    "            renderjson.set_show_to_level(2);\n",
    "            document.getElementById('%s').appendChild(renderjson(%s))\n",
    "        });\n",
    "      \"\"\" % (self.uuid, self.json_str), raw=True)\n",
    "\n",
    "RenderJSON([data])"
   ]
  },
  {
   "cell_type": "markdown",
   "id": "tropical-congo",
   "metadata": {
    "papermill": {
     "duration": 0.025513,
     "end_time": "2021-04-15T20:36:24.789214",
     "exception": false,
     "start_time": "2021-04-15T20:36:24.763701",
     "status": "completed"
    },
    "tags": []
   },
   "source": [
    "## 6. Dataset manipulation: JSON, CSV and Pandas DataFrame"
   ]
  },
  {
   "cell_type": "markdown",
   "id": "brilliant-magnet",
   "metadata": {
    "papermill": {
     "duration": 0.025404,
     "end_time": "2021-04-15T20:36:24.840966",
     "exception": false,
     "start_time": "2021-04-15T20:36:24.815562",
     "status": "completed"
    },
    "tags": []
   },
   "source": [
    "### Converting JSON to Pandas DataFrame\n",
    "\n",
    "Pandas DataFrame is **the** data structure of choice in Data Science, so we read the JSON file into a DataFrame.  \n",
    "\n",
    "Then we save it as CSV, since CSV is the most common file type for Data Science small projects."
   ]
  },
  {
   "cell_type": "code",
   "execution_count": 10,
   "id": "beginning-pocket",
   "metadata": {
    "execution": {
     "iopub.execute_input": "2021-04-15T20:36:24.898537Z",
     "iopub.status.busy": "2021-04-15T20:36:24.897789Z",
     "iopub.status.idle": "2021-04-15T20:36:24.983314Z",
     "shell.execute_reply": "2021-04-15T20:36:24.982649Z"
    },
    "papermill": {
     "duration": 0.11607,
     "end_time": "2021-04-15T20:36:24.983475",
     "exception": false,
     "start_time": "2021-04-15T20:36:24.867405",
     "status": "completed"
    },
    "tags": []
   },
   "outputs": [],
   "source": [
    "filename = 'pisa2018-query-tweets'\n",
    "file = in_folder + '/pisa2018-keyword-in-tweeter-archive/' + filename\n",
    "tweets_df = pd.read_json(file +'.json', lines=True)"
   ]
  },
  {
   "cell_type": "code",
   "execution_count": 11,
   "id": "dominican-vector",
   "metadata": {
    "execution": {
     "iopub.execute_input": "2021-04-15T20:36:25.040742Z",
     "iopub.status.busy": "2021-04-15T20:36:25.040179Z",
     "iopub.status.idle": "2021-04-15T20:36:25.044169Z",
     "shell.execute_reply": "2021-04-15T20:36:25.044601Z"
    },
    "papermill": {
     "duration": 0.034999,
     "end_time": "2021-04-15T20:36:25.044760",
     "exception": false,
     "start_time": "2021-04-15T20:36:25.009761",
     "status": "completed"
    },
    "tags": []
   },
   "outputs": [
    {
     "data": {
      "text/plain": [
       "(327, 21)"
      ]
     },
     "execution_count": 11,
     "metadata": {},
     "output_type": "execute_result"
    }
   ],
   "source": [
    "tweets_df.shape"
   ]
  },
  {
   "cell_type": "code",
   "execution_count": 12,
   "id": "suburban-deposit",
   "metadata": {
    "execution": {
     "iopub.execute_input": "2021-04-15T20:36:25.100198Z",
     "iopub.status.busy": "2021-04-15T20:36:25.099631Z",
     "iopub.status.idle": "2021-04-15T20:36:25.136803Z",
     "shell.execute_reply": "2021-04-15T20:36:25.137271Z"
    },
    "papermill": {
     "duration": 0.066426,
     "end_time": "2021-04-15T20:36:25.137435",
     "exception": false,
     "start_time": "2021-04-15T20:36:25.071009",
     "status": "completed"
    },
    "tags": []
   },
   "outputs": [
    {
     "data": {
      "text/html": [
       "<div>\n",
       "<style scoped>\n",
       "    .dataframe tbody tr th:only-of-type {\n",
       "        vertical-align: middle;\n",
       "    }\n",
       "\n",
       "    .dataframe tbody tr th {\n",
       "        vertical-align: top;\n",
       "    }\n",
       "\n",
       "    .dataframe thead th {\n",
       "        text-align: right;\n",
       "    }\n",
       "</style>\n",
       "<table border=\"1\" class=\"dataframe\">\n",
       "  <thead>\n",
       "    <tr style=\"text-align: right;\">\n",
       "      <th></th>\n",
       "      <th>url</th>\n",
       "      <th>date</th>\n",
       "      <th>content</th>\n",
       "      <th>renderedContent</th>\n",
       "      <th>id</th>\n",
       "      <th>user</th>\n",
       "      <th>outlinks</th>\n",
       "      <th>tcooutlinks</th>\n",
       "      <th>replyCount</th>\n",
       "      <th>retweetCount</th>\n",
       "      <th>...</th>\n",
       "      <th>quoteCount</th>\n",
       "      <th>conversationId</th>\n",
       "      <th>lang</th>\n",
       "      <th>source</th>\n",
       "      <th>sourceUrl</th>\n",
       "      <th>sourceLabel</th>\n",
       "      <th>media</th>\n",
       "      <th>retweetedTweet</th>\n",
       "      <th>quotedTweet</th>\n",
       "      <th>mentionedUsers</th>\n",
       "    </tr>\n",
       "  </thead>\n",
       "  <tbody>\n",
       "    <tr>\n",
       "      <th>0</th>\n",
       "      <td>https://twitter.com/Netcole_fr/status/12102181...</td>\n",
       "      <td>2019-12-26 15:17:35+00:00</td>\n",
       "      <td>Le périscolaire pour apprendre en s'amusant .....</td>\n",
       "      <td>Le périscolaire pour apprendre en s'amusant .....</td>\n",
       "      <td>1210218104510386177</td>\n",
       "      <td>{'username': 'Netcole_fr', 'displayname': 'Net...</td>\n",
       "      <td>[https://www.amazon.fr/dp/1686530544]</td>\n",
       "      <td>[https://t.co/cC28XiWfc7]</td>\n",
       "      <td>0</td>\n",
       "      <td>0</td>\n",
       "      <td>...</td>\n",
       "      <td>0</td>\n",
       "      <td>1210218101071130624</td>\n",
       "      <td>fr</td>\n",
       "      <td>&lt;a href=\"https://mobile.twitter.com\" rel=\"nofo...</td>\n",
       "      <td>https://mobile.twitter.com</td>\n",
       "      <td>Twitter Web App</td>\n",
       "      <td>None</td>\n",
       "      <td>NaN</td>\n",
       "      <td>None</td>\n",
       "      <td>None</td>\n",
       "    </tr>\n",
       "    <tr>\n",
       "      <th>1</th>\n",
       "      <td>https://twitter.com/HugoLamanna/status/1208736...</td>\n",
       "      <td>2019-12-22 13:08:48+00:00</td>\n",
       "      <td>La #Chine première du classement #PISA2018, pa...</td>\n",
       "      <td>La #Chine première du classement #PISA2018, pa...</td>\n",
       "      <td>1208736143585554432</td>\n",
       "      <td>{'username': 'HugoLamanna', 'displayname': 'La...</td>\n",
       "      <td>[]</td>\n",
       "      <td>[]</td>\n",
       "      <td>1</td>\n",
       "      <td>0</td>\n",
       "      <td>...</td>\n",
       "      <td>0</td>\n",
       "      <td>1208735223439077376</td>\n",
       "      <td>fr</td>\n",
       "      <td>&lt;a href=\"http://twitter.com/download/android\" ...</td>\n",
       "      <td>http://twitter.com/download/android</td>\n",
       "      <td>Twitter for Android</td>\n",
       "      <td>None</td>\n",
       "      <td>NaN</td>\n",
       "      <td>None</td>\n",
       "      <td>None</td>\n",
       "    </tr>\n",
       "    <tr>\n",
       "      <th>2</th>\n",
       "      <td>https://twitter.com/OSC_SciencesPo/status/1207...</td>\n",
       "      <td>2019-12-18 16:30:45+00:00</td>\n",
       "      <td>Le système scolaire français au prisme des com...</td>\n",
       "      <td>Le système scolaire français au prisme des com...</td>\n",
       "      <td>1207337415486136323</td>\n",
       "      <td>{'username': 'OSC_SciencesPo', 'displayname': ...</td>\n",
       "      <td>[https://www.sciencespo.fr/liepp/fr/content/le...</td>\n",
       "      <td>[https://t.co/l93v8cALQh]</td>\n",
       "      <td>0</td>\n",
       "      <td>1</td>\n",
       "      <td>...</td>\n",
       "      <td>0</td>\n",
       "      <td>1207337415486136323</td>\n",
       "      <td>fr</td>\n",
       "      <td>&lt;a href=\"https://mobile.twitter.com\" rel=\"nofo...</td>\n",
       "      <td>https://mobile.twitter.com</td>\n",
       "      <td>Twitter Web App</td>\n",
       "      <td>None</td>\n",
       "      <td>NaN</td>\n",
       "      <td>None</td>\n",
       "      <td>[{'username': 'LIEPP_ScPo', 'displayname': 'LI...</td>\n",
       "    </tr>\n",
       "  </tbody>\n",
       "</table>\n",
       "<p>3 rows × 21 columns</p>\n",
       "</div>"
      ],
      "text/plain": [
       "                                                 url  \\\n",
       "0  https://twitter.com/Netcole_fr/status/12102181...   \n",
       "1  https://twitter.com/HugoLamanna/status/1208736...   \n",
       "2  https://twitter.com/OSC_SciencesPo/status/1207...   \n",
       "\n",
       "                       date  \\\n",
       "0 2019-12-26 15:17:35+00:00   \n",
       "1 2019-12-22 13:08:48+00:00   \n",
       "2 2019-12-18 16:30:45+00:00   \n",
       "\n",
       "                                             content  \\\n",
       "0  Le périscolaire pour apprendre en s'amusant .....   \n",
       "1  La #Chine première du classement #PISA2018, pa...   \n",
       "2  Le système scolaire français au prisme des com...   \n",
       "\n",
       "                                     renderedContent                   id  \\\n",
       "0  Le périscolaire pour apprendre en s'amusant .....  1210218104510386177   \n",
       "1  La #Chine première du classement #PISA2018, pa...  1208736143585554432   \n",
       "2  Le système scolaire français au prisme des com...  1207337415486136323   \n",
       "\n",
       "                                                user  \\\n",
       "0  {'username': 'Netcole_fr', 'displayname': 'Net...   \n",
       "1  {'username': 'HugoLamanna', 'displayname': 'La...   \n",
       "2  {'username': 'OSC_SciencesPo', 'displayname': ...   \n",
       "\n",
       "                                            outlinks  \\\n",
       "0              [https://www.amazon.fr/dp/1686530544]   \n",
       "1                                                 []   \n",
       "2  [https://www.sciencespo.fr/liepp/fr/content/le...   \n",
       "\n",
       "                 tcooutlinks  replyCount  retweetCount  ...  quoteCount  \\\n",
       "0  [https://t.co/cC28XiWfc7]           0             0  ...           0   \n",
       "1                         []           1             0  ...           0   \n",
       "2  [https://t.co/l93v8cALQh]           0             1  ...           0   \n",
       "\n",
       "        conversationId  lang  \\\n",
       "0  1210218101071130624    fr   \n",
       "1  1208735223439077376    fr   \n",
       "2  1207337415486136323    fr   \n",
       "\n",
       "                                              source  \\\n",
       "0  <a href=\"https://mobile.twitter.com\" rel=\"nofo...   \n",
       "1  <a href=\"http://twitter.com/download/android\" ...   \n",
       "2  <a href=\"https://mobile.twitter.com\" rel=\"nofo...   \n",
       "\n",
       "                             sourceUrl          sourceLabel media  \\\n",
       "0           https://mobile.twitter.com      Twitter Web App  None   \n",
       "1  http://twitter.com/download/android  Twitter for Android  None   \n",
       "2           https://mobile.twitter.com      Twitter Web App  None   \n",
       "\n",
       "  retweetedTweet  quotedTweet  \\\n",
       "0            NaN         None   \n",
       "1            NaN         None   \n",
       "2            NaN         None   \n",
       "\n",
       "                                      mentionedUsers  \n",
       "0                                               None  \n",
       "1                                               None  \n",
       "2  [{'username': 'LIEPP_ScPo', 'displayname': 'LI...  \n",
       "\n",
       "[3 rows x 21 columns]"
      ]
     },
     "execution_count": 12,
     "metadata": {},
     "output_type": "execute_result"
    }
   ],
   "source": [
    "tweets_df.head(3)"
   ]
  },
  {
   "cell_type": "markdown",
   "id": "third-beatles",
   "metadata": {
    "papermill": {
     "duration": 0.027621,
     "end_time": "2021-04-15T20:36:25.192258",
     "exception": false,
     "start_time": "2021-04-15T20:36:25.164637",
     "status": "completed"
    },
    "tags": []
   },
   "source": [
    "### Saving DataFrame to CSV"
   ]
  },
  {
   "cell_type": "code",
   "execution_count": 13,
   "id": "inclusive-jonathan",
   "metadata": {
    "execution": {
     "iopub.execute_input": "2021-04-15T20:36:25.251466Z",
     "iopub.status.busy": "2021-04-15T20:36:25.250710Z",
     "iopub.status.idle": "2021-04-15T20:36:25.282977Z",
     "shell.execute_reply": "2021-04-15T20:36:25.282343Z"
    },
    "papermill": {
     "duration": 0.063773,
     "end_time": "2021-04-15T20:36:25.283132",
     "exception": false,
     "start_time": "2021-04-15T20:36:25.219359",
     "status": "completed"
    },
    "tags": []
   },
   "outputs": [],
   "source": [
    "tweets_df.to_csv(out_folder + '/' + filename +'.csv', index = False)"
   ]
  },
  {
   "cell_type": "markdown",
   "id": "acceptable-analysis",
   "metadata": {
    "papermill": {
     "duration": 0.026915,
     "end_time": "2021-04-15T20:36:25.337161",
     "exception": false,
     "start_time": "2021-04-15T20:36:25.310246",
     "status": "completed"
    },
    "tags": []
   },
   "source": [
    "## 7. Basic exploration of our collected dataset of tweets"
   ]
  },
  {
   "cell_type": "markdown",
   "id": "brave-invitation",
   "metadata": {
    "papermill": {
     "duration": 0.026732,
     "end_time": "2021-04-15T20:36:25.391036",
     "exception": false,
     "start_time": "2021-04-15T20:36:25.364304",
     "status": "completed"
    },
    "tags": []
   },
   "source": [
    "### Basic introduction to tweets\n",
    "\n",
    "Tweets are 280 character messages (hence the name 'microblogging'). Just like on other social media platforms, you need to create an account and then you can start participating to the tweetverse.  \n",
    "\n",
    "Tweets act as short status updates. Tweets appear on timelines. Timelines are collections of tweets sorted in a chronological order. On your account's home page, you're shown a timeline where tweets from people you follow will be displayed. \n",
    "\n",
    "You can post your own brand new tweet, retweet an already existing tweet (which means ou just share the exact same tweet) or quote an existing tweet (similar to retweeting, but you can add your own comment to it). \n",
    "\n",
    "You can also reply to someone else's tweets or 'like' them.  \n",
    "\n",
    "Tweets often contain **entities**, which are mentions of:\n",
    "- other users, which appear in the form of @other_user\n",
    "- places\n",
    "- urls\n",
    "- media that was attached to the tweet\n",
    "- hashtags, that look like #example_hashtag. Hashtags are just a way to apply a label on a tweet. If I'm tweeting something about results of PISA, the Programme for International Student Assessment, I will likely use #oecdpisa in my tweet, for example."
   ]
  },
  {
   "cell_type": "markdown",
   "id": "certain-adapter",
   "metadata": {
    "papermill": {
     "duration": 0.026781,
     "end_time": "2021-04-15T20:36:25.444769",
     "exception": false,
     "start_time": "2021-04-15T20:36:25.417988",
     "status": "completed"
    },
    "tags": []
   },
   "source": [
    "### Counting the number of Tweets we scraped  \n",
    "\n",
    "The following cell is overkill in this particular scenario, but imagine you just scraped 1 million tweets and you want to know how many you got. The cell below is a very efficient way to count in that case. "
   ]
  },
  {
   "cell_type": "code",
   "execution_count": 14,
   "id": "noted-messenger",
   "metadata": {
    "execution": {
     "iopub.execute_input": "2021-04-15T20:36:25.504043Z",
     "iopub.status.busy": "2021-04-15T20:36:25.503413Z",
     "iopub.status.idle": "2021-04-15T20:36:25.509849Z",
     "shell.execute_reply": "2021-04-15T20:36:25.509363Z"
    },
    "papermill": {
     "duration": 0.037837,
     "end_time": "2021-04-15T20:36:25.510026",
     "exception": false,
     "start_time": "2021-04-15T20:36:25.472189",
     "status": "completed"
    },
    "tags": []
   },
   "outputs": [
    {
     "name": "stdout",
     "output_type": "stream",
     "text": [
      "327\n"
     ]
    }
   ],
   "source": [
    "num = sum(1 for line in open(file +'.json'))\n",
    "print(num)"
   ]
  },
  {
   "cell_type": "markdown",
   "id": "other-finland",
   "metadata": {
    "papermill": {
     "duration": 0.027293,
     "end_time": "2021-04-15T20:36:25.565073",
     "exception": false,
     "start_time": "2021-04-15T20:36:25.537780",
     "status": "completed"
    },
    "tags": []
   },
   "source": [
    "### Check tweets for a particular text"
   ]
  },
  {
   "cell_type": "code",
   "execution_count": 15,
   "id": "aquatic-currency",
   "metadata": {
    "execution": {
     "iopub.execute_input": "2021-04-15T20:36:25.623371Z",
     "iopub.status.busy": "2021-04-15T20:36:25.622799Z",
     "iopub.status.idle": "2021-04-15T20:36:25.633469Z",
     "shell.execute_reply": "2021-04-15T20:36:25.632672Z"
    },
    "papermill": {
     "duration": 0.040892,
     "end_time": "2021-04-15T20:36:25.633669",
     "exception": false,
     "start_time": "2021-04-15T20:36:25.592777",
     "status": "completed"
    },
    "tags": []
   },
   "outputs": [
    {
     "name": "stdout",
     "output_type": "stream",
     "text": [
      "Tweet number 1: 💼#PISA2018 : la France de justesse au dessus de la moyenne des pays de l'@OCDE_fr, des #inégalités sociales toujours importantes, il est relevé chez les élèves la critique des conditions de la scolarité, l'autocensure...\n",
      "https://t.co/HafH4Kcnn5\n",
      "Lire ici : https://t.co/1CQq2yPE7y\n",
      "1\n"
     ]
    }
   ],
   "source": [
    "substring = 'justesse'\n",
    "\n",
    "count = 0\n",
    "f = open(file + '.json', 'r')\n",
    "for i, line in enumerate(f):\n",
    "    if substring in line:\n",
    "        count = count + 1\n",
    "        obj = json.loads(line)\n",
    "        print(f'Tweet number {count}: {obj[\"content\"]}')\n",
    "print(count)\n",
    "f.close()"
   ]
  },
  {
   "cell_type": "markdown",
   "id": "proved-apartment",
   "metadata": {
    "papermill": {
     "duration": 0.028312,
     "end_time": "2021-04-15T20:36:25.691572",
     "exception": false,
     "start_time": "2021-04-15T20:36:25.663260",
     "status": "completed"
    },
    "tags": []
   },
   "source": [
    "The actual content of the tweet is available through test_df['content'] or test_df.content  \n",
    "\n",
    "renderedContent seems to contain the same information as content."
   ]
  },
  {
   "cell_type": "code",
   "execution_count": 16,
   "id": "numerical-steps",
   "metadata": {
    "execution": {
     "iopub.execute_input": "2021-04-15T20:36:25.755110Z",
     "iopub.status.busy": "2021-04-15T20:36:25.754366Z",
     "iopub.status.idle": "2021-04-15T20:36:25.758398Z",
     "shell.execute_reply": "2021-04-15T20:36:25.757933Z"
    },
    "papermill": {
     "duration": 0.03796,
     "end_time": "2021-04-15T20:36:25.758530",
     "exception": false,
     "start_time": "2021-04-15T20:36:25.720570",
     "status": "completed"
    },
    "tags": []
   },
   "outputs": [
    {
     "data": {
      "text/plain": [
       "\"Le périscolaire pour apprendre en s'amusant ... #pisa2018\\n#UnPlanBpourLécole : https://t.co/cC28XiWfc7\""
      ]
     },
     "execution_count": 16,
     "metadata": {},
     "output_type": "execute_result"
    }
   ],
   "source": [
    "tweets_df.iloc[0].content"
   ]
  },
  {
   "cell_type": "markdown",
   "id": "lonely-practice",
   "metadata": {
    "papermill": {
     "duration": 0.028131,
     "end_time": "2021-04-15T20:36:25.814664",
     "exception": false,
     "start_time": "2021-04-15T20:36:25.786533",
     "status": "completed"
    },
    "tags": []
   },
   "source": [
    "Links mentioned in the tweet are also listed separately in the outlinks column."
   ]
  },
  {
   "cell_type": "code",
   "execution_count": 17,
   "id": "optical-shore",
   "metadata": {
    "execution": {
     "iopub.execute_input": "2021-04-15T20:36:25.877303Z",
     "iopub.status.busy": "2021-04-15T20:36:25.876483Z",
     "iopub.status.idle": "2021-04-15T20:36:25.880818Z",
     "shell.execute_reply": "2021-04-15T20:36:25.880283Z"
    },
    "papermill": {
     "duration": 0.037951,
     "end_time": "2021-04-15T20:36:25.880984",
     "exception": false,
     "start_time": "2021-04-15T20:36:25.843033",
     "status": "completed"
    },
    "tags": []
   },
   "outputs": [
    {
     "data": {
      "text/plain": [
       "['https://www.amazon.fr/dp/1686530544']"
      ]
     },
     "execution_count": 17,
     "metadata": {},
     "output_type": "execute_result"
    }
   ],
   "source": [
    "tweets_df.iloc[0].outlinks"
   ]
  },
  {
   "cell_type": "markdown",
   "id": "indie-immunology",
   "metadata": {
    "papermill": {
     "duration": 0.029288,
     "end_time": "2021-04-15T20:36:25.940049",
     "exception": false,
     "start_time": "2021-04-15T20:36:25.910761",
     "status": "completed"
    },
    "tags": []
   },
   "source": [
    "We can gauge the popularity of a tweet through these features:\n",
    "- replyCount\n",
    "- retweetCount\n",
    "- likeCount\n",
    "- quoteCount"
   ]
  },
  {
   "cell_type": "code",
   "execution_count": 18,
   "id": "external-appraisal",
   "metadata": {
    "execution": {
     "iopub.execute_input": "2021-04-15T20:36:26.000316Z",
     "iopub.status.busy": "2021-04-15T20:36:25.999613Z",
     "iopub.status.idle": "2021-04-15T20:36:26.007643Z",
     "shell.execute_reply": "2021-04-15T20:36:26.007190Z"
    },
    "papermill": {
     "duration": 0.039321,
     "end_time": "2021-04-15T20:36:26.007776",
     "exception": false,
     "start_time": "2021-04-15T20:36:25.968455",
     "status": "completed"
    },
    "tags": []
   },
   "outputs": [
    {
     "data": {
      "text/plain": [
       "replyCount      0\n",
       "retweetCount    0\n",
       "likeCount       0\n",
       "quoteCount      0\n",
       "Name: 0, dtype: object"
      ]
     },
     "execution_count": 18,
     "metadata": {},
     "output_type": "execute_result"
    }
   ],
   "source": [
    "popularity_columns = ['replyCount', 'retweetCount', 'likeCount', 'quoteCount']\n",
    "tweets_df.iloc[0][popularity_columns]"
   ]
  },
  {
   "cell_type": "markdown",
   "id": "divine-celtic",
   "metadata": {
    "papermill": {
     "duration": 0.029852,
     "end_time": "2021-04-15T20:36:26.066356",
     "exception": false,
     "start_time": "2021-04-15T20:36:26.036504",
     "status": "completed"
    },
    "tags": []
   },
   "source": [
    "Find the most retweeted tweet in our dataset."
   ]
  },
  {
   "cell_type": "code",
   "execution_count": 19,
   "id": "green-harris",
   "metadata": {
    "execution": {
     "iopub.execute_input": "2021-04-15T20:36:26.131518Z",
     "iopub.status.busy": "2021-04-15T20:36:26.130946Z",
     "iopub.status.idle": "2021-04-15T20:36:26.134794Z",
     "shell.execute_reply": "2021-04-15T20:36:26.134192Z"
    },
    "papermill": {
     "duration": 0.039931,
     "end_time": "2021-04-15T20:36:26.134971",
     "exception": false,
     "start_time": "2021-04-15T20:36:26.095040",
     "status": "completed"
    },
    "tags": []
   },
   "outputs": [
    {
     "data": {
      "text/plain": [
       "content         #PISA2018\\nLa France médiocrement classée dans...\n",
       "retweetCount                                                  161\n",
       "Name: 103, dtype: object"
      ]
     },
     "execution_count": 19,
     "metadata": {},
     "output_type": "execute_result"
    }
   ],
   "source": [
    "tweets_df.iloc[tweets_df.retweetCount.idxmax()][['content','retweetCount']]"
   ]
  },
  {
   "cell_type": "markdown",
   "id": "palestinian-copying",
   "metadata": {
    "papermill": {
     "duration": 0.029013,
     "end_time": "2021-04-15T20:36:26.193082",
     "exception": false,
     "start_time": "2021-04-15T20:36:26.164069",
     "status": "completed"
    },
    "tags": []
   },
   "source": [
    "## 8. Bonus: Publishing your Jupyter Notebook on Medium"
   ]
  },
  {
   "cell_type": "code",
   "execution_count": 20,
   "id": "restricted-publicity",
   "metadata": {
    "_kg_hide-output": true,
    "execution": {
     "iopub.execute_input": "2021-04-15T20:36:26.258428Z",
     "iopub.status.busy": "2021-04-15T20:36:26.255226Z",
     "iopub.status.idle": "2021-04-15T20:36:34.744926Z",
     "shell.execute_reply": "2021-04-15T20:36:34.745351Z"
    },
    "papermill": {
     "duration": 8.523554,
     "end_time": "2021-04-15T20:36:34.745521",
     "exception": false,
     "start_time": "2021-04-15T20:36:26.221967",
     "status": "completed"
    },
    "tags": []
   },
   "outputs": [
    {
     "name": "stdout",
     "output_type": "stream",
     "text": [
      "Collecting jupyter_to_medium\r\n",
      "  Downloading jupyter_to_medium-0.2.4-py3-none-any.whl (24 kB)\r\n",
      "Requirement already satisfied: numpy in /opt/conda/lib/python3.7/site-packages (from jupyter_to_medium) (1.19.5)\r\n",
      "Requirement already satisfied: nbconvert in /opt/conda/lib/python3.7/site-packages (from jupyter_to_medium) (6.0.7)\r\n",
      "Collecting beautifulsoup4\r\n",
      "  Using cached beautifulsoup4-4.9.3-py3-none-any.whl (115 kB)\r\n",
      "Requirement already satisfied: matplotlib>=3.1 in /opt/conda/lib/python3.7/site-packages (from jupyter_to_medium) (3.4.0)\r\n",
      "Requirement already satisfied: requests in /opt/conda/lib/python3.7/site-packages (from jupyter_to_medium) (2.25.1)\r\n",
      "Requirement already satisfied: python-dateutil>=2.7 in /opt/conda/lib/python3.7/site-packages (from matplotlib>=3.1->jupyter_to_medium) (2.8.1)\r\n",
      "Requirement already satisfied: kiwisolver>=1.0.1 in /opt/conda/lib/python3.7/site-packages (from matplotlib>=3.1->jupyter_to_medium) (1.3.1)\r\n",
      "Requirement already satisfied: pyparsing>=2.2.1 in /opt/conda/lib/python3.7/site-packages (from matplotlib>=3.1->jupyter_to_medium) (2.4.7)\r\n",
      "Requirement already satisfied: pillow>=6.2.0 in /opt/conda/lib/python3.7/site-packages (from matplotlib>=3.1->jupyter_to_medium) (7.2.0)\r\n",
      "Requirement already satisfied: cycler>=0.10 in /opt/conda/lib/python3.7/site-packages (from matplotlib>=3.1->jupyter_to_medium) (0.10.0)\r\n",
      "Requirement already satisfied: six in /opt/conda/lib/python3.7/site-packages (from cycler>=0.10->matplotlib>=3.1->jupyter_to_medium) (1.15.0)\r\n",
      "Collecting soupsieve>1.2\r\n",
      "  Downloading soupsieve-2.2.1-py3-none-any.whl (33 kB)\r\n",
      "Requirement already satisfied: nbclient<0.6.0,>=0.5.0 in /opt/conda/lib/python3.7/site-packages (from nbconvert->jupyter_to_medium) (0.5.2)\r\n",
      "Requirement already satisfied: traitlets>=4.2 in /opt/conda/lib/python3.7/site-packages (from nbconvert->jupyter_to_medium) (5.0.5)\r\n",
      "Requirement already satisfied: nbformat>=4.4 in /opt/conda/lib/python3.7/site-packages (from nbconvert->jupyter_to_medium) (5.1.2)\r\n",
      "Requirement already satisfied: jupyter-core in /opt/conda/lib/python3.7/site-packages (from nbconvert->jupyter_to_medium) (4.7.1)\r\n",
      "Requirement already satisfied: pandocfilters>=1.4.1 in /opt/conda/lib/python3.7/site-packages (from nbconvert->jupyter_to_medium) (1.4.2)\r\n",
      "Requirement already satisfied: jupyterlab-pygments in /opt/conda/lib/python3.7/site-packages (from nbconvert->jupyter_to_medium) (0.1.2)\r\n",
      "Requirement already satisfied: bleach in /opt/conda/lib/python3.7/site-packages (from nbconvert->jupyter_to_medium) (3.3.0)\r\n",
      "Requirement already satisfied: pygments>=2.4.1 in /opt/conda/lib/python3.7/site-packages (from nbconvert->jupyter_to_medium) (2.8.0)\r\n",
      "Requirement already satisfied: defusedxml in /opt/conda/lib/python3.7/site-packages (from nbconvert->jupyter_to_medium) (0.6.0)\r\n",
      "Requirement already satisfied: testpath in /opt/conda/lib/python3.7/site-packages (from nbconvert->jupyter_to_medium) (0.4.4)\r\n",
      "Requirement already satisfied: jinja2>=2.4 in /opt/conda/lib/python3.7/site-packages (from nbconvert->jupyter_to_medium) (2.11.3)\r\n",
      "Requirement already satisfied: entrypoints>=0.2.2 in /opt/conda/lib/python3.7/site-packages (from nbconvert->jupyter_to_medium) (0.3)\r\n",
      "Requirement already satisfied: mistune<2,>=0.8.1 in /opt/conda/lib/python3.7/site-packages (from nbconvert->jupyter_to_medium) (0.8.4)\r\n",
      "Requirement already satisfied: MarkupSafe>=0.23 in /opt/conda/lib/python3.7/site-packages (from jinja2>=2.4->nbconvert->jupyter_to_medium) (1.1.1)\r\n",
      "Requirement already satisfied: nest-asyncio in /opt/conda/lib/python3.7/site-packages (from nbclient<0.6.0,>=0.5.0->nbconvert->jupyter_to_medium) (1.4.3)\r\n",
      "Requirement already satisfied: jupyter-client>=6.1.5 in /opt/conda/lib/python3.7/site-packages (from nbclient<0.6.0,>=0.5.0->nbconvert->jupyter_to_medium) (6.1.11)\r\n",
      "Requirement already satisfied: async-generator in /opt/conda/lib/python3.7/site-packages (from nbclient<0.6.0,>=0.5.0->nbconvert->jupyter_to_medium) (1.10)\r\n",
      "Requirement already satisfied: pyzmq>=13 in /opt/conda/lib/python3.7/site-packages (from jupyter-client>=6.1.5->nbclient<0.6.0,>=0.5.0->nbconvert->jupyter_to_medium) (22.0.3)\r\n",
      "Requirement already satisfied: tornado>=4.1 in /opt/conda/lib/python3.7/site-packages (from jupyter-client>=6.1.5->nbclient<0.6.0,>=0.5.0->nbconvert->jupyter_to_medium) (5.0.2)\r\n",
      "Requirement already satisfied: ipython-genutils in /opt/conda/lib/python3.7/site-packages (from nbformat>=4.4->nbconvert->jupyter_to_medium) (0.2.0)\r\n",
      "Requirement already satisfied: jsonschema!=2.5.0,>=2.4 in /opt/conda/lib/python3.7/site-packages (from nbformat>=4.4->nbconvert->jupyter_to_medium) (3.2.0)\r\n",
      "Requirement already satisfied: attrs>=17.4.0 in /opt/conda/lib/python3.7/site-packages (from jsonschema!=2.5.0,>=2.4->nbformat>=4.4->nbconvert->jupyter_to_medium) (20.3.0)\r\n",
      "Requirement already satisfied: importlib-metadata in /opt/conda/lib/python3.7/site-packages (from jsonschema!=2.5.0,>=2.4->nbformat>=4.4->nbconvert->jupyter_to_medium) (3.4.0)\r\n",
      "Requirement already satisfied: pyrsistent>=0.14.0 in /opt/conda/lib/python3.7/site-packages (from jsonschema!=2.5.0,>=2.4->nbformat>=4.4->nbconvert->jupyter_to_medium) (0.17.3)\r\n",
      "Requirement already satisfied: setuptools in /opt/conda/lib/python3.7/site-packages (from jsonschema!=2.5.0,>=2.4->nbformat>=4.4->nbconvert->jupyter_to_medium) (49.6.0.post20210108)\r\n",
      "Requirement already satisfied: packaging in /opt/conda/lib/python3.7/site-packages (from bleach->nbconvert->jupyter_to_medium) (20.9)\r\n",
      "Requirement already satisfied: webencodings in /opt/conda/lib/python3.7/site-packages (from bleach->nbconvert->jupyter_to_medium) (0.5.1)\r\n",
      "Requirement already satisfied: typing-extensions>=3.6.4 in /opt/conda/lib/python3.7/site-packages (from importlib-metadata->jsonschema!=2.5.0,>=2.4->nbformat>=4.4->nbconvert->jupyter_to_medium) (3.7.4.3)\r\n",
      "Requirement already satisfied: zipp>=0.5 in /opt/conda/lib/python3.7/site-packages (from importlib-metadata->jsonschema!=2.5.0,>=2.4->nbformat>=4.4->nbconvert->jupyter_to_medium) (3.4.0)\r\n",
      "Requirement already satisfied: idna<3,>=2.5 in /opt/conda/lib/python3.7/site-packages (from requests->jupyter_to_medium) (2.10)\r\n",
      "Requirement already satisfied: certifi>=2017.4.17 in /opt/conda/lib/python3.7/site-packages (from requests->jupyter_to_medium) (2020.12.5)\r\n",
      "Requirement already satisfied: chardet<5,>=3.0.2 in /opt/conda/lib/python3.7/site-packages (from requests->jupyter_to_medium) (3.0.4)\r\n",
      "Requirement already satisfied: urllib3<1.27,>=1.21.1 in /opt/conda/lib/python3.7/site-packages (from requests->jupyter_to_medium) (1.26.3)\r\n",
      "Installing collected packages: soupsieve, beautifulsoup4, jupyter-to-medium\r\n",
      "Successfully installed beautifulsoup4-4.9.3 jupyter-to-medium-0.2.4 soupsieve-2.2.1\r\n",
      "Note: you may need to restart the kernel to use updated packages.\n"
     ]
    }
   ],
   "source": [
    "pip install jupyter_to_medium"
   ]
  },
  {
   "cell_type": "code",
   "execution_count": 21,
   "id": "angry-university",
   "metadata": {
    "_kg_hide-output": true,
    "execution": {
     "iopub.execute_input": "2021-04-15T20:36:34.819041Z",
     "iopub.status.busy": "2021-04-15T20:36:34.818249Z",
     "iopub.status.idle": "2021-04-15T20:36:34.821998Z",
     "shell.execute_reply": "2021-04-15T20:36:34.822524Z"
    },
    "papermill": {
     "duration": 0.043699,
     "end_time": "2021-04-15T20:36:34.822681",
     "exception": false,
     "start_time": "2021-04-15T20:36:34.778982",
     "status": "completed"
    },
    "tags": []
   },
   "outputs": [
    {
     "data": {
      "text/plain": [
       "\"\\nimport jupyter_to_medium as jtm\\njtm.publish('Scraping historical tweets without a Twitter Developer Account.ipynb',\\n            integration_token='paste_your_own_token',\\n            pub_name=None,\\n            title='Scraping historical tweets without a Twitter Developer Account',\\n            tags=['scraping with Python', 'Twitter archive'],\\n            publish_status='draft',\\n            notify_followers=False,\\n            license='all-rights-reserved',\\n            canonical_url=None,\\n            chrome_path=None,\\n            save_markdown=False,\\n            table_conversion='chrome'\\n            )\\n\""
      ]
     },
     "execution_count": 21,
     "metadata": {},
     "output_type": "execute_result"
    }
   ],
   "source": [
    "#uncomment and customize the code below in order to publish your notebook on your Medium account\n",
    "'''\n",
    "import jupyter_to_medium as jtm\n",
    "jtm.publish('Scraping historical tweets without a Twitter Developer Account.ipynb',\n",
    "            integration_token='paste_your_own_token',\n",
    "            pub_name=None,\n",
    "            title='Scraping historical tweets without a Twitter Developer Account',\n",
    "            tags=['scraping with Python', 'Twitter archive'],\n",
    "            publish_status='draft',\n",
    "            notify_followers=False,\n",
    "            license='all-rights-reserved',\n",
    "            canonical_url=None,\n",
    "            chrome_path=None,\n",
    "            save_markdown=False,\n",
    "            table_conversion='chrome'\n",
    "            )\n",
    "'''"
   ]
  },
  {
   "cell_type": "markdown",
   "id": "marine-vatican",
   "metadata": {
    "papermill": {
     "duration": 0.033398,
     "end_time": "2021-04-15T20:36:34.889491",
     "exception": false,
     "start_time": "2021-04-15T20:36:34.856093",
     "status": "completed"
    },
    "tags": []
   },
   "source": [
    "And that's about it for a quick intro to scraping tweets without the need to apply for a Twitter Developer Account and with no limitations for the maximum number of tweets we can get or for how far back in time we can go.\n",
    "\n",
    "## 9. What next ? Sentiment analysis\n",
    "\n",
    "What to do next with the tweets you just scraped ? In my case, I was very interested in <a href='https://www.kaggle.com/mishki/twitter-sentiment-analysis-using-nlp-techniques'>NLP for sentiment analysis of tweets</a>, or you may try topic modelling using Latent Dirichlet Allocation (LDA) or build a network graph from this data and use network analysis methods on it."
   ]
  }
 ],
 "metadata": {
  "kernelspec": {
   "display_name": "base",
   "language": "python",
   "name": "python3"
  },
  "language_info": {
   "codemirror_mode": {
    "name": "ipython",
    "version": 3
   },
   "file_extension": ".py",
   "mimetype": "text/x-python",
   "name": "python",
   "nbconvert_exporter": "python",
   "pygments_lexer": "ipython3",
   "version": "3.8.8"
  },
  "papermill": {
   "default_parameters": {},
   "duration": 27.340368,
   "end_time": "2021-04-15T20:36:35.532664",
   "environment_variables": {},
   "exception": null,
   "input_path": "__notebook__.ipynb",
   "output_path": "__notebook__.ipynb",
   "parameters": {},
   "start_time": "2021-04-15T20:36:08.192296",
   "version": "2.3.2"
  },
  "vscode": {
   "interpreter": {
    "hash": "57bc2b6ce032b5f0e93daa91901b7ea38a856826ef43aa9e95b6d3999f5310df"
   }
  }
 },
 "nbformat": 4,
 "nbformat_minor": 5
}
